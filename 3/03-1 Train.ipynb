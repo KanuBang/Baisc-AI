{
 "cells": [
  {
   "cell_type": "raw",
   "id": "84b1fcb8",
   "metadata": {},
   "source": [
    "# 분류: 여러 종류 하나로 정하는 것\n",
    "# 회귀: 임의의 어떤 숫자를 예측하는 문제\n",
    "# k-최근법 이웃 분류 알고리즘:\n",
    "1. 예측하려는 샘플에 가장 가까운 샘플 k개를 선택한다.\n",
    "2. 이 샘플들의 클래스를 확인하여 다수 클래스를 새로운 샘플의 클래스로 예측한다.\n",
    "# k-최근접 이웃 회귀\n",
    "1. 예측하려는 샘플에 가장 가까운 샘플 k개를 선택\n",
    "1.5. 회귀이기 때문에 이웃한 샘플의 타깃은 어떤 클래스가 아니라 임의의 수치이다.\n",
    "2. 이웃 샘플의 수치를 이용해 새로운 샘플 x의 타깃을 예측한다.\n",
    "2.5. 예측의 대표적인 방법은 평균이다."
   ]
  },
  {
   "cell_type": "code",
   "execution_count": 3,
   "id": "fafdac78",
   "metadata": {},
   "outputs": [],
   "source": [
    "%config Completer.use_jedi = False"
   ]
  },
  {
   "cell_type": "code",
   "execution_count": 2,
   "id": "cbcd9828",
   "metadata": {},
   "outputs": [],
   "source": [
    "# 데이터 준비\n",
    "import numpy as np\n",
    "perch_length = np.array(\n",
    "    [8.4, 13.7, 15.0, 16.2, 17.4, 18.0, 18.7, 19.0, 19.6, 20.0,\n",
    "     21.0, 21.0, 21.0, 21.3, 22.0, 22.0, 22.0, 22.0, 22.0, 22.5,\n",
    "     22.5, 22.7, 23.0, 23.5, 24.0, 24.0, 24.6, 25.0, 25.6, 26.5,\n",
    "     27.3, 27.5, 27.5, 27.5, 28.0, 28.7, 30.0, 32.8, 34.5, 35.0,\n",
    "     36.5, 36.0, 37.0, 37.0, 39.0, 39.0, 39.0, 40.0, 40.0, 40.0,\n",
    "     40.0, 42.0, 43.0, 43.0, 43.5, 44.0]\n",
    "     )\n",
    "perch_weight = np.array(\n",
    "    [5.9, 32.0, 40.0, 51.5, 70.0, 100.0, 78.0, 80.0, 85.0, 85.0,\n",
    "     110.0, 115.0, 125.0, 130.0, 120.0, 120.0, 130.0, 135.0, 110.0,\n",
    "     130.0, 150.0, 145.0, 150.0, 170.0, 225.0, 145.0, 188.0, 180.0,\n",
    "     197.0, 218.0, 300.0, 260.0, 265.0, 250.0, 250.0, 300.0, 320.0,\n",
    "     514.0, 556.0, 840.0, 685.0, 700.0, 700.0, 690.0, 900.0, 650.0,\n",
    "     820.0, 850.0, 900.0, 1015.0, 820.0, 1100.0, 1000.0, 1100.0,\n",
    "     1000.0, 1000.0]\n",
    "     )"
   ]
  },
  {
   "cell_type": "code",
   "execution_count": 7,
   "id": "02b248e3",
   "metadata": {},
   "outputs": [
    {
     "data": {
      "image/png": "[encoded data removed]",
      "text/plain": [
       "<Figure size 640x480 with 1 Axes>"
      ]
     },
     "metadata": {},
     "output_type": "display_data"
    }
   ],
   "source": [
    "#준비된 데이터를 산점도로\n",
    "#길이가 증가함에 따라 무게가 증가하는 경향을 띈다.\n",
    "import matplotlib.pyplot as plt\n",
    "plt.scatter(perch_length,perch_weight)\n",
    "plt.xlabel('len')\n",
    "plt.ylabel('wei')\n",
    "plt.show()"
   ]
  },
  {
   "cell_type": "code",
   "execution_count": 11,
   "id": "8d52b355",
   "metadata": {},
   "outputs": [
    {
     "name": "stdout",
     "output_type": "stream",
     "text": [
      "(42,) (14,)\n"
     ]
    }
   ],
   "source": [
    "#테스트 세트, 훈련 세트로 데이터 나누기\n",
    "\n",
    "from sklearn.model_selection import train_test_split\n",
    "\n",
    "train_input,test_input,train_target,test_target = train_test_split(\n",
    "    perch_length,perch_weight,random_state = 42)\n",
    "print(train_input.shape,test_input.shape)"
   ]
  },
  {
   "cell_type": "code",
   "execution_count": 15,
   "id": "b904403e",
   "metadata": {},
   "outputs": [
    {
     "name": "stdout",
     "output_type": "stream",
     "text": [
      "(4,)\n",
      "[[1 2]\n",
      " [3 4]]\n",
      "(2, 2)\n"
     ]
    }
   ],
   "source": [
    "#numpy의 reshape\n",
    "#reshape: 배열의 크기, 배열 원소의 크기\n",
    "test_array = np.array([1,2,3,4])\n",
    "print(test_array.shape)\n",
    "test_array = test_array.reshape(2,2)\n",
    "print(test_array)\n",
    "print(test_array.shape)"
   ]
  },
  {
   "cell_type": "code",
   "execution_count": 17,
   "id": "1b5bb648",
   "metadata": {},
   "outputs": [
    {
     "name": "stdout",
     "output_type": "stream",
     "text": [
      "[[19.6]\n",
      " [22. ]\n",
      " [18.7]\n",
      " [17.4]\n",
      " [36. ]\n",
      " [25. ]\n",
      " [40. ]\n",
      " [39. ]\n",
      " [43. ]\n",
      " [22. ]\n",
      " [20. ]\n",
      " [22. ]\n",
      " [24. ]\n",
      " [27.5]\n",
      " [43. ]\n",
      " [40. ]\n",
      " [24. ]\n",
      " [21. ]\n",
      " [27.5]\n",
      " [40. ]\n",
      " [32.8]\n",
      " [26.5]\n",
      " [36.5]\n",
      " [13.7]\n",
      " [22.7]\n",
      " [15. ]\n",
      " [37. ]\n",
      " [35. ]\n",
      " [28.7]\n",
      " [23.5]\n",
      " [39. ]\n",
      " [21. ]\n",
      " [23. ]\n",
      " [22. ]\n",
      " [44. ]\n",
      " [22.5]\n",
      " [19. ]\n",
      " [37. ]\n",
      " [22. ]\n",
      " [25.6]\n",
      " [42. ]\n",
      " [34.5]] [[ 8.4]\n",
      " [18. ]\n",
      " [27.5]\n",
      " [21.3]\n",
      " [22.5]\n",
      " [40. ]\n",
      " [30. ]\n",
      " [24.6]\n",
      " [39. ]\n",
      " [21. ]\n",
      " [43.5]\n",
      " [16.2]\n",
      " [28. ]\n",
      " [27.3]]\n",
      "(42, 1) (14, 1)\n"
     ]
    }
   ],
   "source": [
    "#사이킷런에 사용할 훈련 세트는 2차원 배열이어야 한다.\n",
    "# perch_length가 2차원 배열이기 때문에 이를 나눈 train_input, test_input도 1차원 배열이다.\n",
    "# 이런 1차원 배열을 2차원 배열로 바꿔야 한다.\n",
    "# 이때 reshape를 사용\n",
    "\n",
    "# reshape\n",
    "# 크기에 -1을 지정하면 나머지 원소 개소로 모두 채우라\n",
    "\n",
    "train_input = train_input.reshape(-1,1)\n",
    "test_input = test_input.reshape(-1,1)\n",
    "print(train_input,test_input)\n",
    "print(train_input.shape, test_input.shape)\n"
   ]
  },
  {
   "cell_type": "code",
   "execution_count": 29,
   "id": "d3dca269",
   "metadata": {},
   "outputs": [
    {
     "data": {
      "text/plain": [
       "0.992809406101064"
      ]
     },
     "execution_count": 29,
     "metadata": {},
     "output_type": "execute_result"
    }
   ],
   "source": [
    "#결정계수 R^2\n",
    "from sklearn.neighbors import KNeighborsRegressor\n",
    "knr = KNeighborsRegressor()\n",
    "knr.fit(train_input,train_target)\n",
    "knr.score(test_input,test_target)"
   ]
  },
  {
   "cell_type": "markdown",
   "id": "611b1b6e",
   "metadata": {},
   "source": [
    "의미하는 게 뭘까?\n",
    "\n",
    "분류의 경우에는 테스트 세트에 있는 샘플을 정확하게 분류한 개수의 비율. 즉, 정확동였다.\n",
    "간단히 말해 정답을 맞힌 개수의 비율이다.\n",
    "\n",
    "회귀에서는 정확한 숫자를 맞인다는 것은 불가능이다. 예측하는 값이나 타깃 모두 임의의 수치이기 때문이다.\n",
    "회귀의 경우에는 점수를 결정계수라고 부른다.(또는 간단히 R^2)\n",
    "\n",
    "R^2이 0에 가까워지면 타깃의 평균 정도를 예측하는 수준\n",
    "1에 가까워지면 예측이 타깃에 아주 가까워짐."
   ]
  },
  {
   "cell_type": "code",
   "execution_count": 23,
   "id": "006864a3",
   "metadata": {},
   "outputs": [
    {
     "name": "stdout",
     "output_type": "stream",
     "text": [
      "19.157142857142862\n"
     ]
    }
   ],
   "source": [
    "'''\n",
    "결정계수를 직관적으로 이해하기 어렵다\n",
    "타깃과 예측한 값 사이의 차이를 구해 보면 어느 정도 예측이 벗어났는지 가늠하기 좋다.\n",
    "'''\n",
    "\n",
    "from sklearn.metrics import mean_absolute_error\n",
    "# sklearn.metrics은 여러 가지 측정 도구를 제공한다.\n",
    "\n",
    "# 테스트 세트에 대한 예측을 만든다.\n",
    "test_prediction = knr.predict(test_input)\n",
    "\n",
    "# 테스트 세트에 대한 평귱 절댓값 오차를 계산한다.\n",
    "mae = mean_absolute_error(test_target, test_prediction)\n",
    "print(mae)"
   ]
  },
  {
   "cell_type": "code",
   "execution_count": 31,
   "id": "859ac425",
   "metadata": {},
   "outputs": [
    {
     "name": "stdout",
     "output_type": "stream",
     "text": [
      "0.9698823289099254\n",
      "0.992809406101064\n"
     ]
    }
   ],
   "source": [
    "print(knr.score(train_input,train_target))\n",
    "print(knr.score(test_input, test_target))\n",
    "\n",
    "# 테스트 세트가 훈련 세트보다 점수가 높다. -> 과소적합"
   ]
  },
  {
   "cell_type": "code",
   "execution_count": 34,
   "id": "6b2c7d15",
   "metadata": {},
   "outputs": [
    {
     "name": "stdout",
     "output_type": "stream",
     "text": [
      "0.9804899950518966\n",
      "0.9746459963987609\n"
     ]
    }
   ],
   "source": [
    "# 과소 적합일 경우 모델을 좀 더 복잡하게 만들자.\n",
    "# 이웃의 개수 k를 줄이자\n",
    "# 이웃의 개수를 줄이면 훈련 세트에 있는 국지적인 패턴에 민감해진다.\n",
    "# 이웃의 개수를 늘리면 데이터 전반에 있는 일반적인 패턴을 따를 것이다.\n",
    "\n",
    "# 이웃의 개수를 3으로 설정\n",
    "knr.n_neighbors = 3\n",
    "\n",
    "# 모델을 다시 훈련한다.\n",
    "knr.fit(train_input,train_target)\n",
    "print(knr.score(train_input,train_target))\n",
    "print(knr.score(test_input,test_target))\n",
    "\n",
    "# 예상대로, 테스트 세트의 점수는 훈련 세트보다 낮아졌으므로 과소적합 문제를 해결함\n",
    "# 또한, 두 점수의 차이가 크지 않기에 과대 적합이 아님\n",
    "# 이 모댈이 테스트 세트와 추가될 농어 데이터도 일반화 잘하리라 예상 가"
   ]
  }
 ],
 "metadata": {
  "kernelspec": {
   "display_name": "Python 3 (ipykernel)",
   "language": "python",
   "name": "python3"
  },
  "language_info": {
   "codemirror_mode": {
    "name": "ipython",
    "version": 3
   },
   "file_extension": ".py",
   "mimetype": "text/x-python",
   "name": "python",
   "nbconvert_exporter": "python",
   "pygments_lexer": "ipython3",
   "version": "3.11.4"
  }
 },
 "nbformat": 4,
 "nbformat_minor": 5
}
