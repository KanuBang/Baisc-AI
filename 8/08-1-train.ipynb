{
 "cells": [
  {
   "cell_type": "markdown",
   "id": "024d5cf9",
   "metadata": {},
   "source": [
    "# 모델 훈련\n",
    "---\n",
    "### 경사 하강법 알고리즘을 이용하여 최적의 가중치와 절편을 찾는다.\n",
    "\n",
    "# 합성곱\n",
    "---\n",
    "### 입력 데이터에 마법의 도장을 찍어서 유용한 특성만 드러나게 하는 것\n",
    "\n",
    "# 밀집층의 뉴런, 합성공 층의 뉴런\n",
    "---\n",
    "### 밀집층의 뉴런: 입력 개수만큼 10개의 가중치를 가지고 1개의 출력을 만듬\n",
    "### 합성곱 층의 뉴런: 3개의 가중치를 가지고 8개의 출력을 만듬 (가중치는 하이퍼파라미터)\n",
    "\n",
    "# 합성곱 신경망\n",
    "---\n",
    "### 뉴런을 필터 또는 커널이라고 부름\n",
    "### 뉴런 개수: 필터(도장)\n",
    "### 입력에 곱해지는 가중치: 커널(도장의 크기)\n",
    "---\n",
    "\n",
    "<img src=\"https://velog.velcdn.com/images%2Fboing-86%2Fpost%2F834a2bbe-0e18-4c2d-aee3-e5fbc1efad1a%2F%E1%84%89%E1%85%B3%E1%84%8F%E1%85%B3%E1%84%85%E1%85%B5%E1%86%AB%E1%84%89%E1%85%A3%E1%86%BA%202022-02-24%20%E1%84%8B%E1%85%A9%E1%84%92%E1%85%AE%207.33.34.png\" alt=\"Image of a cat\" width=\"600px\" height=\"600px\">\n",
    "\n",
    "### 계산: 입력과 가중치를 곱한 값(합성곱)\n",
    "### 특성 맵: 필터가 움직이며 만든 합성 곱 맵\n",
    "\n",
    "### 합성공 신경망: 일반적으로 1개 이상의 합성곱 층을 쓴 인공 신경망을 합성곱 신경망이라 부른다."
   ]
  },
  {
   "cell_type": "markdown",
   "id": "d9c0255d",
   "metadata": {},
   "source": [
    "# 패딩\n",
    "---\n",
    "### 입력 배열의 주위를 가상의 원소로 채우는 것\n",
    "### 실제 입력값이 아니기 때문에 패딩은 0으로 채운다. 0이기에 계산 시에 아무런 영향도 없다.\n",
    "### 패딩의 역할은 순수히 도장을 찍는 횟수를 늘려 특성 맵을 키우는 거 뿐이다.\n",
    "# 세임 패딩\n",
    "---\n",
    "### 입력과 특성 맵의 크기를 동일하게 만들기 위해 주위에 0으로 패딩 하는 것\n",
    "# 패딩을 하는 이유\n",
    "---\n",
    "### 픽셀이 합성곱에 참여하는 비율 차이를 줄이기 위해서(특히, 사이드 쪽이 참여 비율이 적다.)\n",
    "### 비율 차이가 줄수록 이미지의 주변 부 정보가 손실이 안되고 살아남\n",
    "# 밸리드 패딩\n",
    "---\n",
    "### 패딩 없이 순수한 입력 배열에서만 합성곱을 하여 특성 맵을 만든다.\n",
    "### 그냥, 일반적으로 생성되는 특성맵이라고 생각하면 된다."
   ]
  },
  {
   "cell_type": "markdown",
   "id": "574b5723",
   "metadata": {},
   "source": [
    "# 스트라이드\n",
    "---\n",
    "### 스트라이드: 이동의 크기 (이런 기본 스트라이드는 1)\n",
    "### 필터(도장)이 움직이는 칸수\n",
    "### 기본: 좌우, 위아래 한 칸씩\n",
    "### 이동 칸수가 커지면?: 도장 찍는 횟수가 줄음 -> 특성 맵의 크기가 작아짐"
   ]
  },
  {
   "cell_type": "markdown",
   "id": "b7da9ff4",
   "metadata": {},
   "source": [
    "# 풀링\n",
    "---\n",
    "### 풀링: 특성 맵의 가로세로 크기를 줄이는 역할을 한다.\n",
    "### 풀링을 하더라도 특성 맵의 개수는 줄지 않는다. ( (2,2,3) 맵이 (1,1,3)이 된다. )"
   ]
  },
  {
   "cell_type": "code",
   "execution_count": 2,
   "id": "52fab16b",
   "metadata": {},
   "outputs": [
    {
     "data": {
      "text/plain": [
       "<keras.src.layers.convolutional.conv2d.Conv2D at 0x179f24890>"
      ]
     },
     "execution_count": 2,
     "metadata": {},
     "output_type": "execute_result"
    }
   ],
   "source": [
    "from tensorflow import keras\n",
    "\n",
    "keras.layers.Conv2D(10, kernel_size=(3,3), activation='relu',padding='same',strides=1)\n",
    "# 첫 번째 매개변수: 필터(도장)의 개수\n",
    "# kernel_size: 도장 사이즈\n",
    "# 활성화 함수: 참고로 특성 맵은 활성화 함수를 통과한 값이다.\n",
    "# padding: vaile(기본값),same(세임패딩)\n",
    "# strides: 튜플로 오른쪽으로 이동하는 크기, 아래쪽으로 이동하는 크기를 지정할 수 있다. (1,1)\n",
    "# 하지만, 왠만해서는 strides = 1(기본값)을 사용하여 이 부분은 잘 안 다룬다..\n",
    "# 그리고 왠만해서는 이동 크기를 오른쪽, 아래쪽 다르게 하지 않는다."
   ]
  },
  {
   "cell_type": "markdown",
   "id": "ec91c2cc",
   "metadata": {},
   "source": [
    "# 최대 풀링과 평균 풀링\n",
    "---\n",
    "### 최대 풀링: 도장 찍힌 영역에서 가장 큰 값을 pick\n",
    "### 평균 풀링: 도장 찍힌 영역의 평균을 계산\n",
    "### 평균 풀링을 잘 쓰지 않는 이유: 평균되어 중요한 정보가 희석될 수도 있음.\n",
    "# 최대 풀링의 특징\n",
    "---\n",
    "### 풀링에서는 필터가 '겹치지 않고' 이동함. 즉, 기본 스트라이드가 2임.\n",
    "### 풀링의 크기 = 스트라이드 크기\n",
    "### 풀링에서는 패딩도 없다.\n",
    "\n",
    "## keras.layers.MaxPooling2D(2) 의 의미\n",
    "---\n",
    "### 풀링 크기 = 2\n",
    "### 스트라이드 크기  = 2\n",
    "### padding='vaild'\n",
    "\n",
    "### keras.layers.MaxPooling2D(2, strides=2, padding='valid')\n"
   ]
  },
  {
   "cell_type": "code",
   "execution_count": 3,
   "id": "564e5a8d",
   "metadata": {},
   "outputs": [
    {
     "data": {
      "text/plain": [
       "<keras.src.layers.pooling.max_pooling2d.MaxPooling2D at 0x179f19a50>"
      ]
     },
     "execution_count": 3,
     "metadata": {},
     "output_type": "execute_result"
    }
   ],
   "source": [
    "from tensorflow import keras\n",
    "\n",
    "keras.layers.MaxPooling2D(2)\n"
   ]
  }
 ],
 "metadata": {
  "kernelspec": {
   "display_name": "Python 3 (ipykernel)",
   "language": "python",
   "name": "python3"
  },
  "language_info": {
   "codemirror_mode": {
    "name": "ipython",
    "version": 3
   },
   "file_extension": ".py",
   "mimetype": "text/x-python",
   "name": "python",
   "nbconvert_exporter": "python",
   "pygments_lexer": "ipython3",
   "version": "3.11.4"
  }
 },
 "nbformat": 4,
 "nbformat_minor": 5
}
