{
 "cells": [
  {
   "cell_type": "code",
   "execution_count": 51,
   "id": "9e7b0e76",
   "metadata": {},
   "outputs": [],
   "source": [
    "from tensorflow import keras\n",
    "from sklearn.model_selection import train_test_split\n",
    "\n",
    "(train_input, train_target),(test_input, test_traget) = keras.datasets.fashion_mnist.load_data()\n",
    "\n",
    "# mnist_data 가져오기"
   ]
  },
  {
   "cell_type": "code",
   "execution_count": 38,
   "id": "8d8b2861",
   "metadata": {},
   "outputs": [
    {
     "data": {
      "text/plain": [
       "(60000, 28, 28, 1)"
      ]
     },
     "execution_count": 38,
     "metadata": {},
     "output_type": "execute_result"
    }
   ],
   "source": [
    "train_scaled.shape"
   ]
  },
  {
   "cell_type": "code",
   "execution_count": 52,
   "id": "ee216c56",
   "metadata": {},
   "outputs": [],
   "source": [
    "train_scaled = train_input.reshape(-1,28,28,1) / 255.0\n",
    "# 전처리\n",
    "# 입력 이미지는 항상 깊이(채널) 차원이 있어야 한다. \n",
    "# 흑백 이미지는 차원이 없는 2차원 배열이지만 Conv2D 층을 사용하기 위해 마지막에 이 채널 차원을 추가해야 한다.\n",
    "# reshape를 이용하면 전체 배열 차원을 그대로 유지하면서 마지막에 차원 추가 가능"
   ]
  },
  {
   "cell_type": "code",
   "execution_count": 40,
   "id": "231b7485",
   "metadata": {},
   "outputs": [],
   "source": [
    "train_scaled, val_scaled, train_target, val_target = train_test_split(\n",
    "    train_scaled,train_target,test_size=0.2,random_state=42)\n",
    "# 나누기"
   ]
  },
  {
   "cell_type": "code",
   "execution_count": 41,
   "id": "8427f093",
   "metadata": {},
   "outputs": [
    {
     "data": {
      "text/plain": [
       "(48000, 28, 28, 1)"
      ]
     },
     "execution_count": 41,
     "metadata": {},
     "output_type": "execute_result"
    }
   ],
   "source": [
    "train_scaled.shape\n",
    "# 입력"
   ]
  },
  {
   "cell_type": "code",
   "execution_count": 42,
   "id": "bd0593e1",
   "metadata": {},
   "outputs": [
    {
     "data": {
      "text/plain": [
       "(12000, 28, 28, 1)"
      ]
     },
     "execution_count": 42,
     "metadata": {},
     "output_type": "execute_result"
    }
   ],
   "source": [
    "val_scaled.shape"
   ]
  },
  {
   "cell_type": "code",
   "execution_count": 43,
   "id": "571689a6",
   "metadata": {},
   "outputs": [],
   "source": [
    "model = keras.Sequential()\n",
    "# 필터는 32개, 커널은 3, same 패딩, input은 28,28,1 => 특성맵 28,28,32\n",
    "# 필터는 (3,3,1) 32개\n",
    "model.add(keras.layers.Conv2D(32,kernel_size=3, activation='relu',padding='same',input_shape=(28,28,1)))\n",
    "\n",
    "# 맥스 풀링 결과 14,14,32 특성맵\n",
    "model.add(keras.layers.MaxPool2D(2))\n",
    "\n",
    "# 필터 64, 커널 3, 세임페딩 => 특성맵 14,14,64\n",
    "# 필터는 3,3,32\n",
    "model.add(keras.layers.Conv2D(64,kernel_size=3, activation='relu',padding='same'))\n",
    "# 맥수 풀링 결과 7,7,64\n",
    "model.add(keras.layers.MaxPool2D(2))"
   ]
  },
  {
   "cell_type": "code",
   "execution_count": 44,
   "id": "5d56273a",
   "metadata": {},
   "outputs": [],
   "source": [
    "model.add(keras.layers.Flatten()) # 49 * 64 = 3136 뉴런 (3차원을 1차원으로 펼치기)\n",
    "model.add(keras.layers.Dense(100,activation='relu')) # 출력 100 은닉층\n",
    "model.add(keras.layers.Dropout(0.4))\n",
    "model.add(keras.layers.Dense(10, activation='softmax')) # 다항 분류 (10개 분류) 이므로 출력 10"
   ]
  },
  {
   "cell_type": "code",
   "execution_count": 45,
   "id": "b7890677",
   "metadata": {},
   "outputs": [
    {
     "name": "stdout",
     "output_type": "stream",
     "text": [
      "You must install pydot (`pip install pydot`) and install graphviz (see instructions at https://graphviz.gitlab.io/download/) for plot_model to work.\n"
     ]
    }
   ],
   "source": [
    "keras.utils.plot_model(model)"
   ]
  },
  {
   "cell_type": "code",
   "execution_count": 46,
   "id": "fc94e4c5",
   "metadata": {},
   "outputs": [
    {
     "name": "stdout",
     "output_type": "stream",
     "text": [
      "Model: \"sequential_2\"\n",
      "_________________________________________________________________\n",
      " Layer (type)                Output Shape              Param #   \n",
      "=================================================================\n",
      " conv2d_4 (Conv2D)           (None, 28, 28, 32)        320       \n",
      "                                                                 \n",
      " max_pooling2d_4 (MaxPoolin  (None, 14, 14, 32)        0         \n",
      " g2D)                                                            \n",
      "                                                                 \n",
      " conv2d_5 (Conv2D)           (None, 14, 14, 64)        18496     \n",
      "                                                                 \n",
      " max_pooling2d_5 (MaxPoolin  (None, 7, 7, 64)          0         \n",
      " g2D)                                                            \n",
      "                                                                 \n",
      " flatten_2 (Flatten)         (None, 3136)              0         \n",
      "                                                                 \n",
      " dense_4 (Dense)             (None, 100)               313700    \n",
      "                                                                 \n",
      " dropout_2 (Dropout)         (None, 100)               0         \n",
      "                                                                 \n",
      " dense_5 (Dense)             (None, 10)                1010      \n",
      "                                                                 \n",
      "=================================================================\n",
      "Total params: 333526 (1.27 MB)\n",
      "Trainable params: 333526 (1.27 MB)\n",
      "Non-trainable params: 0 (0.00 Byte)\n",
      "_________________________________________________________________\n"
     ]
    }
   ],
   "source": [
    "model.summary()"
   ]
  },
  {
   "cell_type": "code",
   "execution_count": 47,
   "id": "8cbbaf7b",
   "metadata": {},
   "outputs": [],
   "source": [
    "model.compile(optimizer='adam', loss='categorical_crossentropy', metrics = 'accuracy')"
   ]
  },
  {
   "cell_type": "code",
   "execution_count": 48,
   "id": "4e4c3344",
   "metadata": {},
   "outputs": [
    {
     "name": "stdout",
     "output_type": "stream",
     "text": [
      "[7 3]\n",
      "{0, 1, 2, 3, 4, 5, 6, 7, 8, 9}\n"
     ]
    }
   ],
   "source": [
    "print(train_target[:2])\n",
    "print(set(train_target))"
   ]
  },
  {
   "cell_type": "code",
   "execution_count": 54,
   "id": "50c96f67",
   "metadata": {},
   "outputs": [],
   "source": [
    "from tensorflow.keras.utils import to_categorical\n",
    "\n",
    "train_target = to_categorical(train_target)\n",
    "val_target = to_categorical(val_target)"
   ]
  },
  {
   "cell_type": "code",
   "execution_count": 50,
   "id": "90d3df7d",
   "metadata": {},
   "outputs": [
    {
     "name": "stdout",
     "output_type": "stream",
     "text": [
      "Epoch 1/5\n",
      "1500/1500 [==============================] - 13s 9ms/step - loss: 0.5990 - accuracy: 0.7938\n",
      "Epoch 2/5\n",
      "1500/1500 [==============================] - 13s 8ms/step - loss: 0.3995 - accuracy: 0.8637\n",
      "Epoch 3/5\n",
      "1500/1500 [==============================] - 12s 8ms/step - loss: 0.3469 - accuracy: 0.8811\n",
      "Epoch 4/5\n",
      "1500/1500 [==============================] - 13s 9ms/step - loss: 0.3327 - accuracy: 0.8869\n",
      "Epoch 5/5\n",
      "1500/1500 [==============================] - 13s 9ms/step - loss: 0.3244 - accuracy: 0.8925\n"
     ]
    },
    {
     "data": {
      "text/plain": [
       "<keras.src.callbacks.History at 0x2a76cc590>"
      ]
     },
     "execution_count": 50,
     "metadata": {},
     "output_type": "execute_result"
    }
   ],
   "source": [
    "model.fit(train_scaled,train_target,epochs=5)"
   ]
  },
  {
   "cell_type": "code",
   "execution_count": 55,
   "id": "658aa4a8",
   "metadata": {},
   "outputs": [
    {
     "name": "stdout",
     "output_type": "stream",
     "text": [
      "375/375 [==============================] - 2s 5ms/step - loss: 0.2684 - accuracy: 0.9072\n"
     ]
    },
    {
     "data": {
      "text/plain": [
       "[0.2684074342250824, 0.9072499871253967]"
      ]
     },
     "execution_count": 55,
     "metadata": {},
     "output_type": "execute_result"
    }
   ],
   "source": [
    "model.evaluate(val_scaled, val_target)"
   ]
  }
 ],
 "metadata": {
  "kernelspec": {
   "display_name": "Python 3 (ipykernel)",
   "language": "python",
   "name": "python3"
  },
  "language_info": {
   "codemirror_mode": {
    "name": "ipython",
    "version": 3
   },
   "file_extension": ".py",
   "mimetype": "text/x-python",
   "name": "python",
   "nbconvert_exporter": "python",
   "pygments_lexer": "ipython3",
   "version": "3.11.4"
  }
 },
 "nbformat": 4,
 "nbformat_minor": 5
}
