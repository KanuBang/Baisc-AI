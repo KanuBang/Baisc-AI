{
 "cells": [
  {
   "cell_type": "markdown",
   "id": "397c1d2e",
   "metadata": {},
   "source": [
    "<h1>연습1) numpy api의 의미를 파악해보자</h1>\n",
    "<ul>\n",
    "    <li>array</li>\n",
    "    <li>arange</li>\n",
    "    <li>random.shuffle(np_array)</li>\n",
    "    <li>shape</li>\n",
    "    <li>column_stack</li>\n",
    "    <li>row_stack</li>\n",
    "    <li>ones</li>\n",
    "    <li>zeros</li>\n",
    "</ul>"
   ]
  },
  {
   "cell_type": "code",
   "execution_count": 3,
   "id": "40a76ff0",
   "metadata": {},
   "outputs": [],
   "source": [
    "import numpy as np"
   ]
  },
  {
   "cell_type": "code",
   "execution_count": 8,
   "id": "dd345818",
   "metadata": {},
   "outputs": [
    {
     "name": "stdout",
     "output_type": "stream",
     "text": [
      "[[1 2]\n",
      " [3 4]]\n"
     ]
    }
   ],
   "source": [
    "print(np.array([[1,2],[3,4]])) # array => np array 생성"
   ]
  },
  {
   "cell_type": "code",
   "execution_count": 9,
   "id": "badcde2c",
   "metadata": {},
   "outputs": [
    {
     "name": "stdout",
     "output_type": "stream",
     "text": [
      "[0 1 2]\n"
     ]
    }
   ],
   "source": [
    "print(np.arange(3)) # arange => range로 np array 생성"
   ]
  },
  {
   "cell_type": "code",
   "execution_count": 14,
   "id": "7e4ac8d4",
   "metadata": {},
   "outputs": [
    {
     "name": "stdout",
     "output_type": "stream",
     "text": [
      "[ 1  2  3  4  5  6  7  8  9 10]\n",
      "[ 9  1  4  5  6  2  8 10  7  3]\n"
     ]
    }
   ],
   "source": [
    "arr = np.arange(1,11)\n",
    "print(arr)\n",
    "np.random.shuffle(arr) # np.random.shuffle => np array를 shuffle 함\n",
    "print(arr)"
   ]
  },
  {
   "cell_type": "code",
   "execution_count": 16,
   "id": "4d5d5a36",
   "metadata": {},
   "outputs": [
    {
     "name": "stdout",
     "output_type": "stream",
     "text": [
      "(10,)\n"
     ]
    }
   ],
   "source": [
    "print(arr.shape) #shape => np array의 (샘플 수, 특성 수)를 제공"
   ]
  },
  {
   "cell_type": "code",
   "execution_count": 23,
   "id": "744419c0",
   "metadata": {},
   "outputs": [
    {
     "name": "stdout",
     "output_type": "stream",
     "text": [
      "[[1 4]\n",
      " [2 5]\n",
      " [3 6]]\n",
      "[[1 2 3]\n",
      " [4 5 6]]\n"
     ]
    }
   ],
   "source": [
    "test_col = np.column_stack(([1,2,3],[4,5,6])) # column_stack =>열로 np 배열 생성\n",
    "test_row = np.row_stack(([1,2,3],[4,5,6])) # row_stack => 행으로 np 배열 생성\n",
    "print(test_col)\n",
    "print(test_row)"
   ]
  },
  {
   "cell_type": "code",
   "execution_count": 25,
   "id": "52f9e5c3",
   "metadata": {},
   "outputs": [
    {
     "name": "stdout",
     "output_type": "stream",
     "text": [
      "[1. 1. 1. 1. 1. 1. 1. 1. 1. 1.]\n"
     ]
    }
   ],
   "source": [
    "print(np.ones(10)) # ones => 원소가 1인 배열 생성"
   ]
  },
  {
   "cell_type": "code",
   "execution_count": 29,
   "id": "f8688906",
   "metadata": {},
   "outputs": [
    {
     "name": "stdout",
     "output_type": "stream",
     "text": [
      "[0. 0. 0. 0. 0. 0. 0. 0. 0. 0.]\n"
     ]
    }
   ],
   "source": [
    "print(np.zeros(10)) # zeros => 원소가 0인 배열 생성"
   ]
  },
  {
   "cell_type": "markdown",
   "id": "40c05ab8",
   "metadata": {},
   "source": [
    "<h1>연습2) 주어진 데이터를 훈련 세트와 테스트 세트로 나누자</h1>"
   ]
  },
  {
   "cell_type": "code",
   "execution_count": 30,
   "id": "fecbb623",
   "metadata": {},
   "outputs": [],
   "source": [
    "fish_length = [25.4, 26.3, 26.5, 29.0, 29.0, 29.7, 29.7, 30.0, 30.0, 30.7, 31.0, 31.0,\n",
    "                31.5, 32.0, 32.0, 32.0, 33.0, 33.0, 33.5, 33.5, 34.0, 34.0, 34.5, 35.0,\n",
    "                35.0, 35.0, 35.0, 36.0, 36.0, 37.0, 38.5, 38.5, 39.5, 41.0, 41.0, 9.8,\n",
    "                10.5, 10.6, 11.0, 11.2, 11.3, 11.8, 11.8, 12.0, 12.2, 12.4, 13.0, 14.3, 15.0]\n",
    "fish_weight = [242.0, 290.0, 340.0, 363.0, 430.0, 450.0, 500.0, 390.0, 450.0, 500.0, 475.0, 500.0,\n",
    "                500.0, 340.0, 600.0, 600.0, 700.0, 700.0, 610.0, 650.0, 575.0, 685.0, 620.0, 680.0,\n",
    "                700.0, 725.0, 720.0, 714.0, 850.0, 1000.0, 920.0, 955.0, 925.0, 975.0, 950.0, 6.7,\n",
    "                7.5, 7.0, 9.7, 9.8, 8.7, 10.0, 9.9, 9.8, 12.2, 13.4, 12.2, 19.7, 19.9]"
   ]
  },
  {
   "cell_type": "code",
   "execution_count": 38,
   "id": "453df0f9",
   "metadata": {},
   "outputs": [
    {
     "name": "stdout",
     "output_type": "stream",
     "text": [
      "[[ 25.4 242. ]\n",
      " [ 26.3 290. ]\n",
      " [ 26.5 340. ]]\n",
      "[1. 1. 1.]\n"
     ]
    }
   ],
   "source": [
    "fish_data = np.column_stack((fish_length,fish_weight))\n",
    "fish_target = np.concatenate((np.ones(35), np.zeros(14)))\n",
    "print(fish_data[:3])\n",
    "print(fish_target[:3])"
   ]
  },
  {
   "cell_type": "code",
   "execution_count": 39,
   "id": "5bcf2570",
   "metadata": {},
   "outputs": [],
   "source": [
    "from sklearn.model_selection import train_test_split"
   ]
  },
  {
   "cell_type": "code",
   "execution_count": 42,
   "id": "f04469ef",
   "metadata": {},
   "outputs": [
    {
     "name": "stdout",
     "output_type": "stream",
     "text": [
      "[1. 0. 1. 0. 1. 1. 1. 1. 1. 1. 1. 0. 1. 0. 1. 1. 1. 1. 1. 0. 1. 1. 0. 1.\n",
      " 0. 1. 0. 1. 1. 1. 0. 1. 1. 0. 1. 1.]\n",
      "[0. 0. 1. 0. 1. 0. 1. 1. 1. 1. 1. 1. 1.]\n"
     ]
    }
   ],
   "source": [
    "train_input, test_input, train_target, test_target = train_test_split(\n",
    "    fish_data,fish_target, stratify=fish_target, random_state=42)\n",
    "\n",
    "print(train_target)\n",
    "print(test_target)"
   ]
  },
  {
   "cell_type": "markdown",
   "id": "b8c35f48",
   "metadata": {},
   "source": [
    "<h1>연습3) startify = fish_target와 random_state=42의 의미는?</h1>"
   ]
  },
  {
   "cell_type": "markdown",
   "id": "e8d120e7",
   "metadata": {},
   "source": [
    "<h1>연습4) 25,150 데이터가 주어졌을 때 최근접 이웃의 거리와 인덱스를 출력하고 그래프에 나타내라</h1>"
   ]
  },
  {
   "cell_type": "code",
   "execution_count": 51,
   "id": "f5f68437",
   "metadata": {},
   "outputs": [
    {
     "data": {
      "image/png": "[encoded data removed]",
      "text/plain": [
       "<Figure size 640x480 with 1 Axes>"
      ]
     },
     "metadata": {},
     "output_type": "display_data"
    },
    {
     "name": "stdout",
     "output_type": "stream",
     "text": [
      "인덱스: [[21 33 19 30  1]]\n",
      "거리: [[ 92.00086956 130.48375378 130.73859415 138.32150953 138.39320793]]\n"
     ]
    }
   ],
   "source": [
    "import matplotlib.pyplot as plt\n",
    "from sklearn.neighbors import KNeighborsClassifier\n",
    "\n",
    "kn = KNeighborsClassifier()\n",
    "kn.fit(train_input,train_target)\n",
    "kn.score(test_input,test_target)\n",
    "\n",
    "distances, indexes = kn.kneighbors([[25,150]])\n",
    "\n",
    "plt.scatter(train_input[:,0], train_input[:,1])\n",
    "plt.scatter(25,150,marker='^')\n",
    "plt.scatter(train_input[indexes,0],train_input[indexes,1],marker='D')\n",
    "plt.xlabel('length')\n",
    "plt.ylabel('weight')\n",
    "plt.show()\n",
    "\n",
    "print(f'인덱스: {indexes}')\n",
    "print(f'거리: {distances}')"
   ]
  },
  {
   "cell_type": "markdown",
   "id": "6e28ca0e",
   "metadata": {},
   "source": [
    "<h1>연습5) 위에서 출력된 거리의 이상한 점과 x의 표현 범위를 y에 맞게 그래프를 다시 그려라. 그리고 그랬을 때 발생한 문제를 출력해라</h1>"
   ]
  },
  {
   "cell_type": "code",
   "execution_count": 52,
   "id": "418d63cc",
   "metadata": {},
   "outputs": [
    {
     "data": {
      "image/png": "[encoded data removed]",
      "text/plain": [
       "<Figure size 640x480 with 1 Axes>"
      ]
     },
     "metadata": {},
     "output_type": "display_data"
    }
   ],
   "source": [
    "plt.scatter(train_input[:,0], train_input[:,1])\n",
    "plt.scatter(25,150,marker='^')\n",
    "plt.scatter(train_input[indexes,0],train_input[indexes,1],marker='D')\n",
    "plt.xlim((0,1000))\n",
    "plt.xlabel('length')\n",
    "plt.ylabel('weight')\n",
    "plt.show()"
   ]
  },
  {
   "cell_type": "markdown",
   "id": "a29fc406",
   "metadata": {},
   "source": [
    "<h1>예제6) 데이터를 브로드캐스팅을 이용해 표준점수로 전처리하고 다시 모델을 훈련 시킨 결과를 그래프로 그래프로나타내라"
   ]
  },
  {
   "cell_type": "code",
   "execution_count": 63,
   "id": "136b6cb7",
   "metadata": {},
   "outputs": [
    {
     "name": "stdout",
     "output_type": "stream",
     "text": [
      "평균 [ 27.29722222 454.09722222], 표준편차 [  9.98244253 323.29893931]\n",
      "25cm, 150g는 빙어(1)인가? 도미(0)인가?[1.]\n"
     ]
    },
    {
     "data": {
      "image/png": "[encoded data removed]",
      "text/plain": [
       "<Figure size 640x480 with 1 Axes>"
      ]
     },
     "metadata": {},
     "output_type": "display_data"
    }
   ],
   "source": [
    "mean = np.mean(train_input, axis = 0)\n",
    "std = np.std(train_input,axis = 0)\n",
    "print(f'평균 {mean}, 표준편차 {std}')\n",
    "\n",
    "train_scaled = (train_input - mean) / std\n",
    "test_scaled = (test_input - mean) / std\n",
    "new = ([25,150] - mean) / std\n",
    "\n",
    "kn.fit(train_scaled,train_target)\n",
    "kn.score(test_scaled,test_target)\n",
    "print(f'25cm, 150g는 빙어(1)인가? 도미(0)인가?{kn.predict([new])}')\n",
    "\n",
    "distances, indexes = kn.kneighbors([new])\n",
    "\n",
    "plt.scatter(train_scaled[:,0],train_scaled[:,1])\n",
    "plt.scatter(new[0],new[1],marker='^')\n",
    "plt.scatter(train_scaled[indexes,0],train_scaled[indexes,1],marker='D')\n",
    "plt.xlabel('length')\n",
    "plt.ylabel('weight')\n",
    "plt.show()"
   ]
  },
  {
   "cell_type": "markdown",
   "id": "b33c3a05",
   "metadata": {},
   "source": [
    "<h1>예제7) axis=0, axis=1의 의미가 뭘까?</h1>"
   ]
  },
  {
   "cell_type": "markdown",
   "id": "36be6e41",
   "metadata": {},
   "source": [
    "[[1,2]\n",
    "[3,4]\n",
    "[5,6]]\n",
    "\n",
    "이런 데이터를 np.means(arr, axis=0) 하면\n",
    "[ (1+3+5)/3,(2+4+6)/3] 을 리턴한다.\n",
    "\n",
    "\n",
    "즉, axis=0이면 행을 따라 작업을 수행하고\n",
    "axis = 1 이면 열을 따라 작업을 수행한다."
   ]
  }
 ],
 "metadata": {
  "kernelspec": {
   "display_name": "Python 3 (ipykernel)",
   "language": "python",
   "name": "python3"
  },
  "language_info": {
   "codemirror_mode": {
    "name": "ipython",
    "version": 3
   },
   "file_extension": ".py",
   "mimetype": "text/x-python",
   "name": "python",
   "nbconvert_exporter": "python",
   "pygments_lexer": "ipython3",
   "version": "3.11.4"
  }
 },
 "nbformat": 4,
 "nbformat_minor": 5
}
