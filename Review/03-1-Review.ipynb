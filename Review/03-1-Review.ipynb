{
 "cells": [
  {
   "cell_type": "code",
   "execution_count": 23,
   "id": "cc983f0c",
   "metadata": {},
   "outputs": [
    {
     "name": "stdout",
     "output_type": "stream",
     "text": [
      "(42,)\n",
      "(14,)\n"
     ]
    }
   ],
   "source": [
    "from sklearn.model_selection import train_test_split\n",
    "\n",
    "import numpy as np\n",
    "\n",
    "perch_length = np.array(\n",
    "    [8.4, 13.7, 15.0, 16.2, 17.4, 18.0, 18.7, 19.0, 19.6, 20.0,\n",
    "     21.0, 21.0, 21.0, 21.3, 22.0, 22.0, 22.0, 22.0, 22.0, 22.5,\n",
    "     22.5, 22.7, 23.0, 23.5, 24.0, 24.0, 24.6, 25.0, 25.6, 26.5,\n",
    "     27.3, 27.5, 27.5, 27.5, 28.0, 28.7, 30.0, 32.8, 34.5, 35.0,\n",
    "     36.5, 36.0, 37.0, 37.0, 39.0, 39.0, 39.0, 40.0, 40.0, 40.0,\n",
    "     40.0, 42.0, 43.0, 43.0, 43.5, 44.0]\n",
    "     )\n",
    "perch_weight = np.array(\n",
    "    [5.9, 32.0, 40.0, 51.5, 70.0, 100.0, 78.0, 80.0, 85.0, 85.0,\n",
    "     110.0, 115.0, 125.0, 130.0, 120.0, 120.0, 130.0, 135.0, 110.0,\n",
    "     130.0, 150.0, 145.0, 150.0, 170.0, 225.0, 145.0, 188.0, 180.0,\n",
    "     197.0, 218.0, 300.0, 260.0, 265.0, 250.0, 250.0, 300.0, 320.0,\n",
    "     514.0, 556.0, 840.0, 685.0, 700.0, 700.0, 690.0, 900.0, 650.0,\n",
    "     820.0, 850.0, 900.0, 1015.0, 820.0, 1100.0, 1000.0, 1100.0,\n",
    "     1000.0, 1000.0]\n",
    "     )\n",
    "\n",
    "train_input, test_input, train_target, test_target = train_test_split(\n",
    "    perch_length,perch_weight,random_state=42)\n",
    "\n",
    "print(train_input.shape)\n",
    "print(test_input.shape)\n"
   ]
  },
  {
   "cell_type": "markdown",
   "id": "22e555bf",
   "metadata": {},
   "source": [
    "<h1>연습1) 위 코드의 문제점을 말하고 해결책을 아래 코드에 제시하시제시하시오 </h1>"
   ]
  },
  {
   "cell_type": "code",
   "execution_count": 29,
   "id": "768ad809",
   "metadata": {},
   "outputs": [
    {
     "name": "stdout",
     "output_type": "stream",
     "text": [
      "(42, 1)\n",
      "(14, 1)\n"
     ]
    }
   ],
   "source": [
    "# 위 코드의 문제점은 fit, score 시 2차원 배열을 입력으로 주어야 하는데 현재 데이터는 1차원이다.\n",
    "# 위 1차원 배열을 2차원 배열로 바꿔야 한다.\n",
    "\n",
    "train_input = train_input.reshape(-1,1)\n",
    "test_input = test_input.reshape(-1,1)\n",
    "print(train_input.shape)\n",
    "print(test_input.shape)"
   ]
  },
  {
   "cell_type": "markdown",
   "id": "eb8a441f",
   "metadata": {},
   "source": [
    "<h1>돌발) reshape의 -1의 의미는</h1>"
   ]
  },
  {
   "cell_type": "markdown",
   "id": "adcf9ab0",
   "metadata": {},
   "source": [
    "<h1>연습2) K-최근접 이웃 회귀로 모델을 훈련시키고 과대적합인지 과소 적합인지 판단해라.</h1>"
   ]
  },
  {
   "cell_type": "code",
   "execution_count": 32,
   "id": "8b03769e",
   "metadata": {},
   "outputs": [
    {
     "data": {
      "text/plain": [
       "0.9698823289099254"
      ]
     },
     "execution_count": 32,
     "metadata": {},
     "output_type": "execute_result"
    }
   ],
   "source": [
    "from sklearn.neighbors import KNeighborsRegressor\n",
    "\n",
    "knr = KNeighborsRegressor()\n",
    "knr.fit(train_input,train_target)\n",
    "knr.score(train_input,train_target)"
   ]
  },
  {
   "cell_type": "code",
   "execution_count": 34,
   "id": "b45c4eba",
   "metadata": {},
   "outputs": [
    {
     "data": {
      "text/plain": [
       "0.992809406101064"
      ]
     },
     "execution_count": 34,
     "metadata": {},
     "output_type": "execute_result"
    }
   ],
   "source": [
    "knr.score(test_input,test_target)"
   ]
  },
  {
   "cell_type": "markdown",
   "id": "0444fff5",
   "metadata": {},
   "source": [
    "테스트 세트의 점수가 너 높으므로 과소적합이다."
   ]
  },
  {
   "cell_type": "markdown",
   "id": "cf9a2940",
   "metadata": {},
   "source": [
    "<h1>연습3) K-최근접 이웃 회귀로 모델을 이웃의 개수가 3일때로 훈련시키고 과대적합인지 과소 적합인지 판단해라.</h1>"
   ]
  },
  {
   "cell_type": "code",
   "execution_count": 36,
   "id": "ab50728b",
   "metadata": {},
   "outputs": [
    {
     "data": {
      "text/plain": [
       "0.9804899950518966"
      ]
     },
     "execution_count": 36,
     "metadata": {},
     "output_type": "execute_result"
    }
   ],
   "source": [
    "knr.n_neighbors = 3\n",
    "knr.fit(train_input,train_target)\n",
    "knr.score(train_input,train_target)"
   ]
  },
  {
   "cell_type": "code",
   "execution_count": 37,
   "id": "c46f6296",
   "metadata": {},
   "outputs": [
    {
     "data": {
      "text/plain": [
       "0.9746459963987609"
      ]
     },
     "execution_count": 37,
     "metadata": {},
     "output_type": "execute_result"
    }
   ],
   "source": [
    "knr.score(test_input,test_target)"
   ]
  },
  {
   "cell_type": "markdown",
   "id": "64366a3f",
   "metadata": {},
   "source": [
    "훈련 세트의 점수가 테스트 세트의 점수보다 심하게 높지 않아 과대적합은 아니다.\n",
    "훈련 세트의 점수와 테스트 세트의 점수 차이가 크지 않아 과소도 아니다.\n"
   ]
  },
  {
   "cell_type": "markdown",
   "id": "f61620d7",
   "metadata": {},
   "source": [
    "퍼펙트한 상황이다"
   ]
  }
 ],
 "metadata": {
  "kernelspec": {
   "display_name": "Python 3 (ipykernel)",
   "language": "python",
   "name": "python3"
  },
  "language_info": {
   "codemirror_mode": {
    "name": "ipython",
    "version": 3
   },
   "file_extension": ".py",
   "mimetype": "text/x-python",
   "name": "python",
   "nbconvert_exporter": "python",
   "pygments_lexer": "ipython3",
   "version": "3.11.4"
  }
 },
 "nbformat": 4,
 "nbformat_minor": 5
}
