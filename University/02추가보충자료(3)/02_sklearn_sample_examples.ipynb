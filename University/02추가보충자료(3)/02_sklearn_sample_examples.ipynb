{
  "nbformat": 4,
  "nbformat_minor": 0,
  "metadata": {
    "colab": {
      "provenance": []
    },
    "kernelspec": {
      "name": "python3",
      "display_name": "Python 3"
    },
    "language_info": {
      "name": "python"
    }
  },
  "cells": [
    {
      "cell_type": "markdown",
      "source": [],
      "metadata": {
        "id": "ATKCYuEoN97E"
      }
    },
    {
      "cell_type": "markdown",
      "source": [
        "1. 데이터 처리"
      ],
      "metadata": {
        "id": "iEFs4TCRuEAw"
      }
    },
    {
      "cell_type": "code",
      "execution_count": 1,
      "metadata": {
        "colab": {
          "base_uri": "https://localhost:8080/"
        },
        "id": "JNTzOGQMr6Pk",
        "outputId": "2f46209e-d23d-415f-c44d-d1fbd7e9c3bf"
      },
      "outputs": [
        {
          "output_type": "stream",
          "name": "stdout",
          "text": [
            "[[5.1 3.5 1.4 0.2]\n",
            " [4.9 3.  1.4 0.2]\n",
            " [4.7 3.2 1.3 0.2]]\n",
            "[[1.         0.96286543]\n",
            " [0.96286543 1.        ]]\n",
            "<class 'numpy.ndarray'> <class 'numpy.ndarray'> (150, 2) (150,)\n",
            "{0, 1, 2}\n",
            "-----------------train / test 분리 - 오버피팅(과적합)방지-----------------------\n",
            "(105, 2) (45, 2) (105,) (45,)\n",
            "[[3.5 1. ]\n",
            " [5.5 1.8]\n",
            " [5.7 2.5]]\n",
            "[[-0.18295039 -0.29318114]\n",
            " [ 0.93066067  0.7372463 ]\n",
            " [ 1.04202177  1.63887031]]\n"
          ]
        }
      ],
      "source": [
        "import pandas as pd\n",
        "import numpy as np\n",
        "from sklearn import datasets\n",
        "from sklearn.metrics import accuracy_score\n",
        "from sklearn.model_selection._split import train_test_split\n",
        "from sklearn.preprocessing import StandardScaler, MinMaxScaler\n",
        "\n",
        "iris = datasets.load_iris() # Iris 데이터 불러오기\n",
        "print(iris.data[:3])\n",
        "print(np.corrcoef(iris.data[:, 2], iris.data[:, 3]))  # 상관관계 보기\n",
        "\"\"\"\n",
        "[[1.         0.96286543]\n",
        " [0.96286543 1.        ]]\n",
        "\"\"\"\n",
        "\n",
        "x = iris.data[:, [2, 3]] # feature(독립변수, x) : petal length, petal width\n",
        "y = iris.target  # label, class\n",
        "print(type(x), type(y), x.shape, y.shape)  # x는 2차원(150, 2)  y는 1차원(150,)\n",
        "print(set(y))  # {0, 1, 2}\n",
        "\n",
        "print('-----------------train / test 분리 - 오버피팅(과적합)방지-----------------------')\n",
        "x_train, x_test, y_train, y_test = train_test_split(x, y, test_size=0.3, random_state = 0)\n",
        "print(x_train.shape, x_test.shape, y_train.shape, y_test.shape)  # (105, 2) (45, 2) (105,) (45,)\n",
        "\n",
        "# scaling(표준화)\n",
        "print(x_train[:3])\n",
        "sc = StandardScaler()\n",
        "sc.fit(x_test)\n",
        "sc.fit(x_train)\n",
        "x_train = sc.transform(x_train)\n",
        "x_test = sc.transform(x_test)  # 표준화 완성\n",
        "print(x_train[:3])\n",
        "\n",
        "# 표준화 값을 원래 값으로 복귀\n",
        "# inver_x_train = sc.inverse_transform(x_train)\n",
        "# print(inver_x_train[:3])"
      ]
    },
    {
      "cell_type": "markdown",
      "source": [
        "2. 분류 모델 설정"
      ],
      "metadata": {
        "id": "wF4E2CBluJvq"
      }
    },
    {
      "cell_type": "code",
      "source": [
        "from sklearn.linear_model import LogisticRegression\n",
        "from sklearn import svm\n",
        "from sklearn.tree import DecisionTreeClassifier\n",
        "from sklearn.ensemble import RandomForestClassifier\n",
        "\n",
        "# 분류 모델\n",
        "# logit(), glm() : 이항분류 - 활성화 함수 - sigmoid\n",
        "# LogisticRegression : 다항분류 - 활성화 함수 : softmax\n",
        "# C속성 : 분류정확도를 조절하기 위해 모델에 패널티를 적용(L2정규화)-과적합 방지\n",
        "model = LogisticRegression(C = 1.0, random_state = 0)\n",
        "\n",
        "#model = svm.SVC()\n",
        "#model = svm.SVC(C=1)\n",
        "model = svm.LinearSVC(C=1)\n",
        "\n",
        "# 의사결정 나무\n",
        "model = DecisionTreeClassifier(criterion = 'entropy', max_depth = 5)\n",
        "\n",
        "# RandomForestClassifier 모델\n",
        "model= RandomForestClassifier(n_estimators = 500, criterion = 'entropy', n_jobs = 2)#n_jobs는 병렬처리"
      ],
      "metadata": {
        "colab": {
          "base_uri": "https://localhost:8080/",
          "height": 75
        },
        "id": "OibX5gNPr_n5",
        "outputId": "15e6c5f9-b4c5-4072-8c90-1a9c789a63c3"
      },
      "execution_count": 2,
      "outputs": [
        {
          "output_type": "execute_result",
          "data": {
            "text/plain": [
              "LogisticRegression(random_state=0)"
            ],
            "text/html": [
              "<style>#sk-container-id-1 {color: black;background-color: white;}#sk-container-id-1 pre{padding: 0;}#sk-container-id-1 div.sk-toggleable {background-color: white;}#sk-container-id-1 label.sk-toggleable__label {cursor: pointer;display: block;width: 100%;margin-bottom: 0;padding: 0.3em;box-sizing: border-box;text-align: center;}#sk-container-id-1 label.sk-toggleable__label-arrow:before {content: \"▸\";float: left;margin-right: 0.25em;color: #696969;}#sk-container-id-1 label.sk-toggleable__label-arrow:hover:before {color: black;}#sk-container-id-1 div.sk-estimator:hover label.sk-toggleable__label-arrow:before {color: black;}#sk-container-id-1 div.sk-toggleable__content {max-height: 0;max-width: 0;overflow: hidden;text-align: left;background-color: #f0f8ff;}#sk-container-id-1 div.sk-toggleable__content pre {margin: 0.2em;color: black;border-radius: 0.25em;background-color: #f0f8ff;}#sk-container-id-1 input.sk-toggleable__control:checked~div.sk-toggleable__content {max-height: 200px;max-width: 100%;overflow: auto;}#sk-container-id-1 input.sk-toggleable__control:checked~label.sk-toggleable__label-arrow:before {content: \"▾\";}#sk-container-id-1 div.sk-estimator input.sk-toggleable__control:checked~label.sk-toggleable__label {background-color: #d4ebff;}#sk-container-id-1 div.sk-label input.sk-toggleable__control:checked~label.sk-toggleable__label {background-color: #d4ebff;}#sk-container-id-1 input.sk-hidden--visually {border: 0;clip: rect(1px 1px 1px 1px);clip: rect(1px, 1px, 1px, 1px);height: 1px;margin: -1px;overflow: hidden;padding: 0;position: absolute;width: 1px;}#sk-container-id-1 div.sk-estimator {font-family: monospace;background-color: #f0f8ff;border: 1px dotted black;border-radius: 0.25em;box-sizing: border-box;margin-bottom: 0.5em;}#sk-container-id-1 div.sk-estimator:hover {background-color: #d4ebff;}#sk-container-id-1 div.sk-parallel-item::after {content: \"\";width: 100%;border-bottom: 1px solid gray;flex-grow: 1;}#sk-container-id-1 div.sk-label:hover label.sk-toggleable__label {background-color: #d4ebff;}#sk-container-id-1 div.sk-serial::before {content: \"\";position: absolute;border-left: 1px solid gray;box-sizing: border-box;top: 0;bottom: 0;left: 50%;z-index: 0;}#sk-container-id-1 div.sk-serial {display: flex;flex-direction: column;align-items: center;background-color: white;padding-right: 0.2em;padding-left: 0.2em;position: relative;}#sk-container-id-1 div.sk-item {position: relative;z-index: 1;}#sk-container-id-1 div.sk-parallel {display: flex;align-items: stretch;justify-content: center;background-color: white;position: relative;}#sk-container-id-1 div.sk-item::before, #sk-container-id-1 div.sk-parallel-item::before {content: \"\";position: absolute;border-left: 1px solid gray;box-sizing: border-box;top: 0;bottom: 0;left: 50%;z-index: -1;}#sk-container-id-1 div.sk-parallel-item {display: flex;flex-direction: column;z-index: 1;position: relative;background-color: white;}#sk-container-id-1 div.sk-parallel-item:first-child::after {align-self: flex-end;width: 50%;}#sk-container-id-1 div.sk-parallel-item:last-child::after {align-self: flex-start;width: 50%;}#sk-container-id-1 div.sk-parallel-item:only-child::after {width: 0;}#sk-container-id-1 div.sk-dashed-wrapped {border: 1px dashed gray;margin: 0 0.4em 0.5em 0.4em;box-sizing: border-box;padding-bottom: 0.4em;background-color: white;}#sk-container-id-1 div.sk-label label {font-family: monospace;font-weight: bold;display: inline-block;line-height: 1.2em;}#sk-container-id-1 div.sk-label-container {text-align: center;}#sk-container-id-1 div.sk-container {/* jupyter's `normalize.less` sets `[hidden] { display: none; }` but bootstrap.min.css set `[hidden] { display: none !important; }` so we also need the `!important` here to be able to override the default hidden behavior on the sphinx rendered scikit-learn.org. See: https://github.com/scikit-learn/scikit-learn/issues/21755 */display: inline-block !important;position: relative;}#sk-container-id-1 div.sk-text-repr-fallback {display: none;}</style><div id=\"sk-container-id-1\" class=\"sk-top-container\"><div class=\"sk-text-repr-fallback\"><pre>LogisticRegression(random_state=0)</pre><b>In a Jupyter environment, please rerun this cell to show the HTML representation or trust the notebook. <br />On GitHub, the HTML representation is unable to render, please try loading this page with nbviewer.org.</b></div><div class=\"sk-container\" hidden><div class=\"sk-item\"><div class=\"sk-estimator sk-toggleable\"><input class=\"sk-toggleable__control sk-hidden--visually\" id=\"sk-estimator-id-1\" type=\"checkbox\" checked><label for=\"sk-estimator-id-1\" class=\"sk-toggleable__label sk-toggleable__label-arrow\">LogisticRegression</label><div class=\"sk-toggleable__content\"><pre>LogisticRegression(random_state=0)</pre></div></div></div></div></div>"
            ]
          },
          "metadata": {},
          "execution_count": 2
        }
      ]
    },
    {
      "cell_type": "code",
      "source": [
        "model.fit(x_train, y_train) # 지도학습"
      ],
      "metadata": {
        "id": "DgL4OlU9tBW6"
      },
      "execution_count": null,
      "outputs": []
    },
    {
      "cell_type": "code",
      "source": [
        "# 분류 예측\n",
        "y_pred = model.predict(x_test)  # 검정자료는 test\n",
        "print('예측값 : ', y_pred)\n",
        "print('예측값 : ', y_test)\n",
        "\n",
        "# 분류 정확도\n",
        "print('총 개수 : %d, 오류수 : %d'%(len(y_test), (y_test != y_pred).sum()))\n",
        "print()\n",
        "print('분류 정확도 출력1 : %.3f'%accuracy_score(y_test, y_pred))\n",
        "\n",
        "# 각 데이터별 분류 정확도\n",
        "con_mat = pd.crosstab(y_test, y_pred, rownames = ['예측치'], colnames=['실제치'])\n",
        "print(con_mat)\n",
        "print('분류 정확도 출력2 : ', (con_mat[0][0] + con_mat[1][1] + con_mat[2][2]) / len(y_test))\n",
        "print('분류 정확도 출력3 : ', model.score(x_test, y_test))\n",
        "print('분류 정확도 출력4 : ', model.score(x_train, y_train))\n",
        "\n",
        "# 새로운 값으로 예측\n",
        "new_data = np.array([[5.1, 2.4], [1.1, 1.4], [8.1, 8.4]])\n",
        "\n",
        "# 표준화\n",
        "sc.fit(new_data)\n",
        "new_data = sc.transform(new_data)\n",
        "new_pred = model.predict(new_data)\n",
        "print('새로운 값으로 예측 : ', new_pred)  # 새로운 값으로 예측 :  [1 0 2]\n",
        "\n",
        "#* 붓꽃 자료에 대한 로지스틱 회귀 결과를 차트로 그리기 *\n",
        "import numpy as np\n",
        "import matplotlib.pyplot as plt\n",
        "from matplotlib.colors import ListedColormap\n",
        "from matplotlib import font_manager, rc\n",
        "# plt.rc('font', family='malgun gothic')\n",
        "plt.rcParams['axes.unicode_minus']= False\n",
        "\n",
        "def plot_decision_region(X, y, classifier, test_idx=None, resolution=0.02, title=''):\n",
        "    markers = ('s', 'x', 'o', '^', 'v')  # 점 표시 모양 5개 정의\n",
        "    colors = ('r', 'b', 'lightgreen', 'gray', 'cyan')\n",
        "    cmap = ListedColormap(colors[:len(np.unique(y))])\n",
        "    #print('cmap : ', cmap.colors[0], cmap.colors[1], cmap.colors[2])\n",
        "\n",
        "    # decision surface 그리기\n",
        "    x1_min, x1_max = X[:, 0].min() - 1, X[:, 0].max() + 1\n",
        "    x2_min, x2_max = X[:, 0].min() - 1, X[:, 0].max() + 1\n",
        "    xx, yy = np.meshgrid(np.arange(x1_min, x1_max, resolution), np.arange(x2_min, x2_max, resolution))\n",
        "\n",
        "    # xx, yy를 ravel()를 이용해 1차원 배열로 만든 후 전치행렬로 변환하여 퍼셉트론 분류기의\n",
        "    # predict()의 인자로 입력하여 계산된 예측값을 Z로 둔다.\n",
        "    Z = classifier.predict(np.array([xx.ravel(), yy.ravel()]).T)\n",
        "    Z = Z.reshape(xx.shape)   # Z를 reshape()을 이용해 원래 배열 모양으로 복원한다.\n",
        "\n",
        "    # X를 xx, yy가 축인 그래프 상에 cmap을 이용해 등고선을 그림\n",
        "    plt.contourf(xx, yy, Z, alpha=0.5, cmap=cmap)\n",
        "    plt.xlim(xx.min(), xx.max())\n",
        "    plt.ylim(yy.min(), yy.max())\n",
        "\n",
        "    X_test = X[test_idx, :]\n",
        "    for idx, cl in enumerate(np.unique(y)):\n",
        "        plt.scatter(x=X[y==cl, 0], y=X[y==cl, 1], c=cmap(idx), marker=markers[idx], label=cl)\n",
        "\n",
        "    if test_idx:\n",
        "        X_test = X[test_idx, :]\n",
        "        plt.scatter(X_test[:, 0], X_test[:, 1], c=[], linewidth=1, marker='o', s=80, label='testset')\n",
        "\n",
        "    plt.xlabel('length')\n",
        "    plt.ylabel('width')\n",
        "    plt.legend(loc=2)\n",
        "    plt.title(title)\n",
        "    plt.show()\n",
        "\n",
        "x_combined_std = np.vstack((x_train, x_test))\n",
        "y_combined = np.hstack((y_train, y_test))\n",
        "plot_decision_region(X=x_combined_std, y=y_combined, classifier=model, test_idx=range(105, 150), title='scikit-learn')"
      ],
      "metadata": {
        "colab": {
          "base_uri": "https://localhost:8080/",
          "height": 813
        },
        "id": "CEAOPcVjsH8i",
        "outputId": "8e4364cb-f911-42a1-f3e8-db4b3090cf73"
      },
      "execution_count": 4,
      "outputs": [
        {
          "output_type": "stream",
          "name": "stdout",
          "text": [
            "예측값 :  [2 1 0 2 0 2 0 1 1 1 1 1 1 1 1 0 1 1 0 0 2 1 0 0 2 0 0 1 1 0 2 1 0 2 2 1 0\n",
            " 2 1 1 2 0 2 0 0]\n",
            "예측값 :  [2 1 0 2 0 2 0 1 1 1 2 1 1 1 1 0 1 1 0 0 2 1 0 0 2 0 0 1 1 0 2 1 0 2 2 1 0\n",
            " 1 1 1 2 0 2 0 0]\n",
            "총 개수 : 45, 오류수 : 2\n",
            "\n",
            "분류 정확도 출력1 : 0.956\n",
            "실제치   0   1   2\n",
            "예측치            \n",
            "0    16   0   0\n",
            "1     0  17   1\n",
            "2     0   1  10\n",
            "분류 정확도 출력2 :  0.9555555555555556\n",
            "분류 정확도 출력3 :  0.9555555555555556\n",
            "분류 정확도 출력4 :  0.9523809523809523\n",
            "새로운 값으로 예측 :  [1 0 2]\n"
          ]
        },
        {
          "output_type": "stream",
          "name": "stderr",
          "text": [
            "<ipython-input-4-28b2da245d8a>:57: UserWarning: *c* argument looks like a single numeric RGB or RGBA sequence, which should be avoided as value-mapping will have precedence in case its length matches with *x* & *y*.  Please use the *color* keyword-argument or provide a 2D array with a single row if you intend to specify the same RGB or RGBA value for all points.\n",
            "  plt.scatter(x=X[y==cl, 0], y=X[y==cl, 1], c=cmap(idx), marker=markers[idx], label=cl)\n"
          ]
        },
        {
          "output_type": "display_data",
          "data": {
            "text/plain": [
              "<Figure size 640x480 with 1 Axes>"
            ],
            "image/png": "[encoded data removed]"
          },
          "metadata": {}
        }
      ]
    }
  ]
}