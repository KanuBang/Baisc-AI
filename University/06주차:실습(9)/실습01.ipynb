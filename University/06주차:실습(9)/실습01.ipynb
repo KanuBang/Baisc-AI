{
  "nbformat": 4,
  "nbformat_minor": 0,
  "metadata": {
    "colab": {
      "provenance": []
    },
    "kernelspec": {
      "name": "python3",
      "display_name": "Python 3"
    },
    "language_info": {
      "name": "python"
    }
  },
  "cells": [
    {
      "cell_type": "code",
      "source": [
        "from sklearn import datasets\n",
        "iris = datasets.load_iris() # 분꽃 데이터셋\n",
        "#digits = datasets.load_digits() # 숫자 데이터셋\n",
        "#diabetes = datasets.load_diabetes() # 당뇨 데이터셋\n",
        "#bcancer = datasets.load_breast_cancer() # 폐암"
      ],
      "metadata": {
        "id": "Tn3XMAO0B0Ic"
      },
      "execution_count": null,
      "outputs": []
    },
    {
      "cell_type": "code",
      "source": [
        "from sklearn.model_selection._split import train_test_split\n",
        "\n",
        "x = iris.data[:, :3] # feature\n",
        "y = iris.target  # label, class\n",
        "\n",
        "x_train, x_test, y_train, y_test = train_test_split(x, y, test_size=0.3, random_state = 0)"
      ],
      "metadata": {
        "id": "L3Iqvxs4Cn1B"
      },
      "execution_count": null,
      "outputs": []
    },
    {
      "cell_type": "code",
      "source": [
        "from sklearn.preprocessing import StandardScaler, MinMaxScaler\n",
        "\n",
        "# scaling(표준화)\n",
        "print(x_train[:3])\n",
        "sc = StandardScaler()\n",
        "sc.fit(x_test)\n",
        "sc.fit(x_train)\n",
        "x_train = sc.transform(x_train)\n",
        "x_test = sc.transform(x_test)  # 표준화 완성\n",
        "print(x_train[:3])\n",
        "\n",
        "# 표준화 값을 원래 값으로 복귀\n",
        "# inver_x_train = sc.inverse_transform(x_train)\n",
        "# print(inver_x_train[:3])"
      ],
      "metadata": {
        "id": "G_dH8oVKD0wZ"
      },
      "execution_count": null,
      "outputs": []
    },
    {
      "cell_type": "code",
      "source": [
        "import tensorflow as tf\n",
        "(x_train, y_train), (x_test, y_test) = tf.keras.datasets.mnist.load_data()\n",
        "#(x_train, y_train), (x_test, y_test) = tf.keras.datasets.cifar10.load_data()\n",
        "#(x_train, y_train), (x_test, y_test) = tf.keras.datasets.boston_housing.load_data()\n"
      ],
      "metadata": {
        "colab": {
          "base_uri": "https://localhost:8080/"
        },
        "id": "Wkcc4cRpB9jP",
        "outputId": "fd094c76-8da0-423d-aca9-456dc7668f07"
      },
      "execution_count": 2,
      "outputs": [
        {
          "output_type": "stream",
          "name": "stdout",
          "text": [
            "Downloading data from https://www.cs.toronto.edu/~kriz/cifar-10-python.tar.gz\n",
            "170498071/170498071 [==============================] - 6s 0us/step\n",
            "Downloading data from https://storage.googleapis.com/tensorflow/tf-keras-datasets/boston_housing.npz\n",
            "57026/57026 [==============================] - 0s 0us/step\n"
          ]
        }
      ]
    }
  ]
}