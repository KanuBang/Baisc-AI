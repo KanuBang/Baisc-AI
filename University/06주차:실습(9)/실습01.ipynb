{
 "cells": [
  {
   "cell_type": "code",
   "execution_count": 1,
   "metadata": {
    "id": "Tn3XMAO0B0Ic"
   },
   "outputs": [],
   "source": [
    "from sklearn import datasets\n",
    "iris = datasets.load_iris() # 분꽃 데이터셋\n",
    "#digits = datasets.load_digits() # 숫자 데이터셋\n",
    "#diabetes = datasets.load_diabetes() # 당뇨 데이터셋\n",
    "#bcancer = datasets.load_breast_cancer() # 폐암"
   ]
  },
  {
   "cell_type": "code",
   "execution_count": 2,
   "metadata": {
    "id": "L3Iqvxs4Cn1B"
   },
   "outputs": [],
   "source": [
    "from sklearn.model_selection._split import train_test_split\n",
    "\n",
    "x = iris.data[:, :3] # feature\n",
    "y = iris.target  # label, class\n",
    "\n",
    "x_train, x_test, y_train, y_test = train_test_split(x, y, test_size=0.3, random_state = 0)"
   ]
  },
  {
   "cell_type": "code",
   "execution_count": 4,
   "metadata": {},
   "outputs": [
    {
     "name": "stdout",
     "output_type": "stream",
     "text": [
      "[[5.  2.  3.5]\n",
      " [6.5 3.  5.5]\n",
      " [6.7 3.3 5.7]\n",
      " [6.  2.2 5. ]\n",
      " [6.7 2.5 5.8]\n",
      " [5.6 2.5 3.9]\n",
      " [7.7 3.  6.1]\n",
      " [6.3 3.3 4.7]\n",
      " [5.5 2.4 3.8]\n",
      " [6.3 2.7 4.9]\n",
      " [6.3 2.8 5.1]\n",
      " [4.9 2.5 4.5]\n",
      " [6.3 2.5 5. ]\n",
      " [7.  3.2 4.7]\n",
      " [6.5 3.  5.2]\n",
      " [6.  3.4 4.5]\n",
      " [4.8 3.1 1.6]\n",
      " [5.8 2.7 5.1]\n",
      " [5.6 2.7 4.2]\n",
      " [5.6 2.9 3.6]\n",
      " [5.5 2.5 4. ]\n",
      " [6.1 3.  4.6]\n",
      " [7.2 3.2 6. ]\n",
      " [5.3 3.7 1.5]\n",
      " [4.3 3.  1.1]\n",
      " [6.4 2.7 5.3]\n",
      " [5.7 3.  4.2]\n",
      " [5.4 3.4 1.7]\n",
      " [5.7 4.4 1.5]\n",
      " [6.9 3.1 4.9]\n",
      " [4.6 3.1 1.5]\n",
      " [5.9 3.  5.1]\n",
      " [5.1 2.5 3. ]\n",
      " [4.6 3.4 1.4]\n",
      " [6.2 2.2 4.5]\n",
      " [7.2 3.6 6.1]\n",
      " [5.7 2.9 4.2]\n",
      " [4.8 3.  1.4]\n",
      " [7.1 3.  5.9]\n",
      " [6.9 3.2 5.7]\n",
      " [6.5 3.  5.8]\n",
      " [6.4 2.8 5.6]\n",
      " [5.1 3.8 1.6]\n",
      " [4.8 3.4 1.6]\n",
      " [6.5 3.2 5.1]\n",
      " [6.7 3.3 5.7]\n",
      " [4.5 2.3 1.3]\n",
      " [6.2 3.4 5.4]\n",
      " [4.9 3.  1.4]\n",
      " [5.7 2.5 5. ]\n",
      " [6.9 3.1 5.4]\n",
      " [4.4 3.2 1.3]\n",
      " [5.  3.6 1.4]\n",
      " [7.2 3.  5.8]\n",
      " [5.1 3.5 1.4]\n",
      " [4.4 3.  1.3]\n",
      " [5.4 3.9 1.7]\n",
      " [5.5 2.3 4. ]\n",
      " [6.8 3.2 5.9]\n",
      " [7.6 3.  6.6]\n",
      " [5.1 3.5 1.4]\n",
      " [4.9 3.1 1.5]\n",
      " [5.2 3.4 1.4]\n",
      " [5.7 2.8 4.5]\n",
      " [6.6 3.  4.4]\n",
      " [5.  3.2 1.2]\n",
      " [5.1 3.3 1.7]\n",
      " [6.4 2.9 4.3]\n",
      " [5.4 3.4 1.5]\n",
      " [7.7 2.6 6.9]\n",
      " [4.9 2.4 3.3]\n",
      " [7.9 3.8 6.4]\n",
      " [6.7 3.1 4.4]\n",
      " [5.2 4.1 1.5]\n",
      " [6.  3.  4.8]\n",
      " [5.8 4.  1.2]\n",
      " [7.7 2.8 6.7]\n",
      " [5.1 3.8 1.5]\n",
      " [4.7 3.2 1.6]\n",
      " [7.4 2.8 6.1]\n",
      " [5.  3.3 1.4]\n",
      " [6.3 3.4 5.6]\n",
      " [5.7 2.8 4.1]\n",
      " [5.8 2.7 3.9]\n",
      " [5.7 2.6 3.5]\n",
      " [6.4 3.2 5.3]\n",
      " [6.7 3.  5.2]\n",
      " [6.3 2.5 4.9]\n",
      " [6.7 3.  5. ]\n",
      " [5.  3.  1.6]\n",
      " [5.5 2.4 3.7]\n",
      " [6.7 3.1 5.6]\n",
      " [5.8 2.7 5.1]\n",
      " [5.1 3.4 1.5]\n",
      " [6.6 2.9 4.6]\n",
      " [5.6 3.  4.1]\n",
      " [5.9 3.2 4.8]\n",
      " [6.3 2.3 4.4]\n",
      " [5.5 3.5 1.3]\n",
      " [5.1 3.7 1.5]\n",
      " [4.9 3.1 1.5]\n",
      " [6.3 2.9 5.6]\n",
      " [5.8 2.7 4.1]\n",
      " [7.7 3.8 6.7]\n",
      " [4.6 3.2 1.4]]\n"
     ]
    }
   ],
   "source": [
    "print(x_train)"
   ]
  },
  {
   "cell_type": "code",
   "execution_count": null,
   "metadata": {},
   "outputs": [],
   "source": []
  },
  {
   "cell_type": "code",
   "execution_count": null,
   "metadata": {
    "id": "G_dH8oVKD0wZ"
   },
   "outputs": [],
   "source": [
    "from sklearn.preprocessing import StandardScaler, MinMaxScaler\n",
    "\n",
    "# scaling(표준화)\n",
    "print(x_train[:3])\n",
    "sc = StandardScaler()\n",
    "sc.fit(x_test)\n",
    "sc.fit(x_train)\n",
    "x_train = sc.transform(x_train)\n",
    "x_test = sc.transform(x_test)  # 표준화 완성\n",
    "print(x_train[:3])\n",
    "\n",
    "# 표준화 값을 원래 값으로 복귀\n",
    "# inver_x_train = sc.inverse_transform(x_train)\n",
    "# print(inver_x_train[:3])"
   ]
  },
  {
   "cell_type": "code",
   "execution_count": 2,
   "metadata": {
    "colab": {
     "base_uri": "https://localhost:8080/"
    },
    "id": "Wkcc4cRpB9jP",
    "outputId": "fd094c76-8da0-423d-aca9-456dc7668f07"
   },
   "outputs": [
    {
     "name": "stdout",
     "output_type": "stream",
     "text": [
      "Downloading data from https://www.cs.toronto.edu/~kriz/cifar-10-python.tar.gz\n",
      "170498071/170498071 [==============================] - 6s 0us/step\n",
      "Downloading data from https://storage.googleapis.com/tensorflow/tf-keras-datasets/boston_housing.npz\n",
      "57026/57026 [==============================] - 0s 0us/step\n"
     ]
    }
   ],
   "source": [
    "import tensorflow as tf\n",
    "(x_train, y_train), (x_test, y_test) = tf.keras.datasets.mnist.load_data()\n",
    "#(x_train, y_train), (x_test, y_test) = tf.keras.datasets.cifar10.load_data()\n",
    "#(x_train, y_train), (x_test, y_test) = tf.keras.datasets.boston_housing.load_data()\n"
   ]
  }
 ],
 "metadata": {
  "colab": {
   "provenance": []
  },
  "kernelspec": {
   "display_name": "Python 3 (ipykernel)",
   "language": "python",
   "name": "python3"
  },
  "language_info": {
   "codemirror_mode": {
    "name": "ipython",
    "version": 3
   },
   "file_extension": ".py",
   "mimetype": "text/x-python",
   "name": "python",
   "nbconvert_exporter": "python",
   "pygments_lexer": "ipython3",
   "version": "3.11.4"
  }
 },
 "nbformat": 4,
 "nbformat_minor": 1
}
