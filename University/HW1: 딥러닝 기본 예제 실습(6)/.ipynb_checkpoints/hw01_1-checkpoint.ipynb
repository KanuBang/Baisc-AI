{
 "cells": [
  {
   "cell_type": "markdown",
   "metadata": {
    "id": "qhXYsxx4-t8t"
   },
   "source": [
    "데이터명 : Boston Housing Price (보스턴 주택 가격 데이터)\n",
    "\n",
    "데이터설명 : 보스턴 시의 주택 가격에 대한 데이터이다.\n",
    "주택의 여러가진 요건들과 주택의 가격 정보가 포함되어 있다. 주택의 가격에 영향을 미치는 요소를 분석하고자 하는 목적으로 사용될 수 있다. 회귀분석 등의 분석에 활용될 수 있다.\n",
    "\n",
    "보스턴 주택 데이터는 여러 개의 측정지표들 (예를 들어, 범죄율, 학생/교사 비율 등)을 포함한, 보스턴 인근의 주택 가격의 중앙값(median value)이다. 이 데이터 집합은 14개의 변수를 포함하고 있다.\n",
    "\n",
    "필드의 이해 :\n",
    "데이터의 이해를 돕기 위해 포함된 14개의 변수에 대하여 간략하게 설명한다.  \n",
    "위 14개의 필드는 입력 변수로 사용되고, 맨 아래의 Play 속성이 목표(종속) 변수로 사용된다.\n",
    "\n",
    " [01]  CRIM\t자치시(town) 별 1인당 범죄율\n",
    "\n",
    " [02]  ZN\t25,000 평방피트를 초과하는 거주지역의 비율\n",
    "\n",
    " [03]  INDUS\t비소매상업지역이 점유하고 있는 토지의 비율\n",
    "\n",
    " [04]  CHAS\t찰스강에 대한 더미변수(강의 경계에 위치한 경우는 1, 아니면 0)\n",
    "\n",
    " [05]  NOX\t10ppm 당 농축 일산화질소\n",
    "\n",
    " [06]  RM\t주택 1가구당 평균 방의 개수\n",
    "\n",
    " [07]  AGE\t1940년 이전에 건축된 소유주택의 비율\n",
    "\n",
    " [08]  DIS\t5개의 보스턴 직업센터까지의 접근성 지수\n",
    "\n",
    " [09]  RAD\t방사형 도로까지의 접근성 지수\n",
    "\n",
    " [10]  TAX\t10,000 달러 당 재산세율\n",
    "\n",
    " [11]  PTRATIO\t자치시(town)별 학생/교사 비율\n",
    "\n",
    " [12]  B\t1000(Bk-0.63)^2, 여기서 Bk는 자치시별 흑인의 비율을 말함.\n",
    "\n",
    " [13]  LSTAT\t모집단의 하위계층의 비율(%)\n",
    "\n",
    " [14]  MEDV\t본인 소유의 주택가격(중앙값) (단위: $1,000)"
   ]
  },
  {
   "cell_type": "code",
   "execution_count": 2,
   "metadata": {
    "id": "e8LhnVKA7_J_"
   },
   "outputs": [
    {
     "name": "stdout",
     "output_type": "stream",
     "text": [
      "Downloading data from https://storage.googleapis.com/tensorflow/tf-keras-datasets/boston_housing.npz\n",
      "57026/57026 [==============================] - 0s 0us/step\n"
     ]
    }
   ],
   "source": [
    "from tensorflow import keras\n",
    "(train_data, train_label), (test_data, test_label) = keras.datasets.boston_housing.load_data()"
   ]
  },
  {
   "cell_type": "code",
   "execution_count": 3,
   "metadata": {
    "id": "5V0iwWU28Ngp"
   },
   "outputs": [
    {
     "data": {
      "text/plain": [
       "(404, 13)"
      ]
     },
     "execution_count": 3,
     "metadata": {},
     "output_type": "execute_result"
    }
   ],
   "source": [
    "train_data.shape"
   ]
  },
  {
   "cell_type": "code",
   "execution_count": 4,
   "metadata": {
    "id": "UKT_douo8PEW"
   },
   "outputs": [
    {
     "data": {
      "text/plain": [
       "(404,)"
      ]
     },
     "execution_count": 4,
     "metadata": {},
     "output_type": "execute_result"
    }
   ],
   "source": [
    "train_label.shape"
   ]
  },
  {
   "cell_type": "code",
   "execution_count": 5,
   "metadata": {
    "id": "y66vw2NO8ShU"
   },
   "outputs": [
    {
     "data": {
      "text/plain": [
       "array([[1.23247e+00, 0.00000e+00, 8.14000e+00, 0.00000e+00, 5.38000e-01,\n",
       "        6.14200e+00, 9.17000e+01, 3.97690e+00, 4.00000e+00, 3.07000e+02,\n",
       "        2.10000e+01, 3.96900e+02, 1.87200e+01],\n",
       "       [2.17700e-02, 8.25000e+01, 2.03000e+00, 0.00000e+00, 4.15000e-01,\n",
       "        7.61000e+00, 1.57000e+01, 6.27000e+00, 2.00000e+00, 3.48000e+02,\n",
       "        1.47000e+01, 3.95380e+02, 3.11000e+00],\n",
       "       [4.89822e+00, 0.00000e+00, 1.81000e+01, 0.00000e+00, 6.31000e-01,\n",
       "        4.97000e+00, 1.00000e+02, 1.33250e+00, 2.40000e+01, 6.66000e+02,\n",
       "        2.02000e+01, 3.75520e+02, 3.26000e+00],\n",
       "       [3.96100e-02, 0.00000e+00, 5.19000e+00, 0.00000e+00, 5.15000e-01,\n",
       "        6.03700e+00, 3.45000e+01, 5.98530e+00, 5.00000e+00, 2.24000e+02,\n",
       "        2.02000e+01, 3.96900e+02, 8.01000e+00],\n",
       "       [3.69311e+00, 0.00000e+00, 1.81000e+01, 0.00000e+00, 7.13000e-01,\n",
       "        6.37600e+00, 8.84000e+01, 2.56710e+00, 2.40000e+01, 6.66000e+02,\n",
       "        2.02000e+01, 3.91430e+02, 1.46500e+01]])"
      ]
     },
     "execution_count": 5,
     "metadata": {},
     "output_type": "execute_result"
    }
   ],
   "source": [
    "train_data[0:5]"
   ]
  },
  {
   "cell_type": "code",
   "execution_count": 6,
   "metadata": {
    "id": "mp9bP2nY8Zi8"
   },
   "outputs": [
    {
     "data": {
      "text/plain": [
       "array([15.2, 42.3, 50. , 21.1, 17.7])"
      ]
     },
     "execution_count": 6,
     "metadata": {},
     "output_type": "execute_result"
    }
   ],
   "source": [
    "train_label[0:5]"
   ]
  },
  {
   "cell_type": "code",
   "execution_count": 6,
   "metadata": {
    "id": "WSphrGyb8efm"
   },
   "outputs": [],
   "source": [
    "# 학습 모델 만들기\n",
    "from tensorflow.keras import layers\n",
    "\n",
    "model = keras.Sequential()\n",
    "\n",
    "model.add(layers.Dense(,activation='relu', input_shape=(13,)))\n",
    "# 주어진 데이터에 맞게 input_shape을 설정\n",
    "# model = model.add ( layers.Dense( ... ) )\n",
    "# ....\n",
    "\n",
    "# 마지막 layer는 출력에 맞게 Dense(1, activation='...')\n"
   ]
  },
  {
   "cell_type": "code",
   "execution_count": 7,
   "metadata": {
    "id": "sxREZDHK8g3T"
   },
   "outputs": [],
   "source": [
    "# loss 함수 정하기\n",
    "# model.compile( ... )"
   ]
  },
  {
   "cell_type": "code",
   "execution_count": 8,
   "metadata": {
    "id": "rl9-Ua3_81rx"
   },
   "outputs": [],
   "source": [
    "# 학습하기\n",
    "# model.fit( ... )"
   ]
  }
 ],
 "metadata": {
  "colab": {
   "provenance": []
  },
  "kernelspec": {
   "display_name": "Python 3 (ipykernel)",
   "language": "python",
   "name": "python3"
  },
  "language_info": {
   "codemirror_mode": {
    "name": "ipython",
    "version": 3
   },
   "file_extension": ".py",
   "mimetype": "text/x-python",
   "name": "python",
   "nbconvert_exporter": "python",
   "pygments_lexer": "ipython3",
   "version": "3.11.4"
  }
 },
 "nbformat": 4,
 "nbformat_minor": 1
}
