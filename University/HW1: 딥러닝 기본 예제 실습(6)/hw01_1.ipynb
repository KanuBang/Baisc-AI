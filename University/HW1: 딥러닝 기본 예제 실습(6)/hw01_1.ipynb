{
  "nbformat": 4,
  "nbformat_minor": 0,
  "metadata": {
    "colab": {
      "provenance": []
    },
    "kernelspec": {
      "name": "python3",
      "display_name": "Python 3"
    },
    "language_info": {
      "name": "python"
    }
  },
  "cells": [
    {
      "cell_type": "markdown",
      "source": [
        "데이터명 : Boston Housing Price (보스턴 주택 가격 데이터)\n",
        "\n",
        "데이터설명 : 보스턴 시의 주택 가격에 대한 데이터이다.\n",
        "주택의 여러가진 요건들과 주택의 가격 정보가 포함되어 있다. 주택의 가격에 영향을 미치는 요소를 분석하고자 하는 목적으로 사용될 수 있다. 회귀분석 등의 분석에 활용될 수 있다.\n",
        "\n",
        "보스턴 주택 데이터는 여러 개의 측정지표들 (예를 들어, 범죄율, 학생/교사 비율 등)을 포함한, 보스턴 인근의 주택 가격의 중앙값(median value)이다. 이 데이터 집합은 14개의 변수를 포함하고 있다.\n",
        "\n",
        "필드의 이해 :\n",
        "데이터의 이해를 돕기 위해 포함된 14개의 변수에 대하여 간략하게 설명한다.  \n",
        "위 14개의 필드는 입력 변수로 사용되고, 맨 아래의 Play 속성이 목표(종속) 변수로 사용된다.\n",
        "\n",
        " [01]  CRIM\t자치시(town) 별 1인당 범죄율\n",
        "\n",
        " [02]  ZN\t25,000 평방피트를 초과하는 거주지역의 비율\n",
        "\n",
        " [03]  INDUS\t비소매상업지역이 점유하고 있는 토지의 비율\n",
        "\n",
        " [04]  CHAS\t찰스강에 대한 더미변수(강의 경계에 위치한 경우는 1, 아니면 0)\n",
        "\n",
        " [05]  NOX\t10ppm 당 농축 일산화질소\n",
        "\n",
        " [06]  RM\t주택 1가구당 평균 방의 개수\n",
        "\n",
        " [07]  AGE\t1940년 이전에 건축된 소유주택의 비율\n",
        "\n",
        " [08]  DIS\t5개의 보스턴 직업센터까지의 접근성 지수\n",
        "\n",
        " [09]  RAD\t방사형 도로까지의 접근성 지수\n",
        "\n",
        " [10]  TAX\t10,000 달러 당 재산세율\n",
        "\n",
        " [11]  PTRATIO\t자치시(town)별 학생/교사 비율\n",
        "\n",
        " [12]  B\t1000(Bk-0.63)^2, 여기서 Bk는 자치시별 흑인의 비율을 말함.\n",
        "\n",
        " [13]  LSTAT\t모집단의 하위계층의 비율(%)\n",
        "\n",
        " [14]  MEDV\t본인 소유의 주택가격(중앙값) (단위: $1,000)"
      ],
      "metadata": {
        "id": "qhXYsxx4-t8t"
      }
    },
    {
      "cell_type": "code",
      "execution_count": 1,
      "metadata": {
        "id": "e8LhnVKA7_J_"
      },
      "outputs": [],
      "source": [
        "from tensorflow import keras\n",
        "(train_data, train_label), (test_data, test_label) = keras.datasets.boston_housing.load_data()"
      ]
    },
    {
      "cell_type": "code",
      "source": [
        "#train_data.shape"
      ],
      "metadata": {
        "id": "5V0iwWU28Ngp"
      },
      "execution_count": 2,
      "outputs": []
    },
    {
      "cell_type": "code",
      "source": [
        "#train_label.shape"
      ],
      "metadata": {
        "id": "UKT_douo8PEW"
      },
      "execution_count": 3,
      "outputs": []
    },
    {
      "cell_type": "code",
      "source": [
        "#train_data[0:5]"
      ],
      "metadata": {
        "id": "y66vw2NO8ShU"
      },
      "execution_count": 4,
      "outputs": []
    },
    {
      "cell_type": "code",
      "source": [
        "#train_label[0:5]"
      ],
      "metadata": {
        "id": "mp9bP2nY8Zi8"
      },
      "execution_count": 5,
      "outputs": []
    },
    {
      "cell_type": "code",
      "source": [
        "# 학습 모델 만들기\n",
        "from tensorflow.keras import layers\n",
        "\n",
        "model = keras.Sequential()\n",
        "\n",
        "# 주어진 데이터에 맞게 input_shape을 설정\n",
        "# model = model.add ( layers.Dense( ... ) )\n",
        "# ....\n",
        "\n",
        "# 마지막 layer는 출력에 맞게 Dense(1, activation='...')\n"
      ],
      "metadata": {
        "id": "WSphrGyb8efm"
      },
      "execution_count": 6,
      "outputs": []
    },
    {
      "cell_type": "code",
      "source": [
        "# loss 함수 정하기\n",
        "# model.compile( ... )"
      ],
      "metadata": {
        "id": "sxREZDHK8g3T"
      },
      "execution_count": 7,
      "outputs": []
    },
    {
      "cell_type": "code",
      "source": [
        "# 학습하기\n",
        "# model.fit( ... )"
      ],
      "metadata": {
        "id": "rl9-Ua3_81rx"
      },
      "execution_count": 8,
      "outputs": []
    }
  ]
}