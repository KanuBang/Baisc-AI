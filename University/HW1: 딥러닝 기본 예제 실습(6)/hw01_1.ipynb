{
 "cells": [
  {
   "cell_type": "markdown",
   "metadata": {
    "id": "qhXYsxx4-t8t"
   },
   "source": [
    "데이터명 : Boston Housing Price (보스턴 주택 가격 데이터)\n",
    "\n",
    "데이터설명 : 보스턴 시의 주택 가격에 대한 데이터이다.\n",
    "주택의 여러가진 요건들과 주택의 가격 정보가 포함되어 있다. 주택의 가격에 영향을 미치는 요소를 분석하고자 하는 목적으로 사용될 수 있다. 회귀분석 등의 분석에 활용될 수 있다.\n",
    "\n",
    "보스턴 주택 데이터는 여러 개의 측정지표들 (예를 들어, 범죄율, 학생/교사 비율 등)을 포함한, 보스턴 인근의 주택 가격의 중앙값(median value)이다. 이 데이터 집합은 14개의 변수를 포함하고 있다.\n",
    "\n",
    "필드의 이해 :\n",
    "데이터의 이해를 돕기 위해 포함된 14개의 변수에 대하여 간략하게 설명한다.  \n",
    "위 14개의 필드는 입력 변수로 사용되고, 맨 아래의 Play 속성이 목표(종속) 변수로 사용된다.\n",
    "\n",
    " [01]  CRIM\t자치시(town) 별 1인당 범죄율\n",
    "\n",
    " [02]  ZN\t25,000 평방피트를 초과하는 거주지역의 비율\n",
    "\n",
    " [03]  INDUS\t비소매상업지역이 점유하고 있는 토지의 비율\n",
    "\n",
    " [04]  CHAS\t찰스강에 대한 더미변수(강의 경계에 위치한 경우는 1, 아니면 0)\n",
    "\n",
    " [05]  NOX\t10ppm 당 농축 일산화질소\n",
    "\n",
    " [06]  RM\t주택 1가구당 평균 방의 개수\n",
    "\n",
    " [07]  AGE\t1940년 이전에 건축된 소유주택의 비율\n",
    "\n",
    " [08]  DIS\t5개의 보스턴 직업센터까지의 접근성 지수\n",
    "\n",
    " [09]  RAD\t방사형 도로까지의 접근성 지수\n",
    "\n",
    " [10]  TAX\t10,000 달러 당 재산세율\n",
    "\n",
    " [11]  PTRATIO\t자치시(town)별 학생/교사 비율\n",
    "\n",
    " [12]  B\t1000(Bk-0.63)^2, 여기서 Bk는 자치시별 흑인의 비율을 말함.\n",
    "\n",
    " [13]  LSTAT\t모집단의 하위계층의 비율(%)\n",
    "\n",
    " [14]  MEDV\t본인 소유의 주택가격(중앙값) (단위: $1,000)"
   ]
  },
  {
   "cell_type": "code",
   "execution_count": 27,
   "metadata": {
    "id": "e8LhnVKA7_J_"
   },
   "outputs": [],
   "source": [
    "from tensorflow import keras\n",
    "(train_data, train_label), (test_data, test_label) = keras.datasets.boston_housing.load_data()"
   ]
  },
  {
   "cell_type": "code",
   "execution_count": 28,
   "metadata": {
    "id": "5V0iwWU28Ngp"
   },
   "outputs": [
    {
     "data": {
      "text/plain": [
       "(404, 13)"
      ]
     },
     "execution_count": 28,
     "metadata": {},
     "output_type": "execute_result"
    }
   ],
   "source": [
    "train_data.shape"
   ]
  },
  {
   "cell_type": "code",
   "execution_count": 29,
   "metadata": {
    "id": "UKT_douo8PEW"
   },
   "outputs": [
    {
     "data": {
      "text/plain": [
       "(404,)"
      ]
     },
     "execution_count": 29,
     "metadata": {},
     "output_type": "execute_result"
    }
   ],
   "source": [
    "train_label.shape"
   ]
  },
  {
   "cell_type": "code",
   "execution_count": 30,
   "metadata": {
    "id": "y66vw2NO8ShU"
   },
   "outputs": [
    {
     "data": {
      "text/plain": [
       "array([[1.23247e+00, 0.00000e+00, 8.14000e+00, 0.00000e+00, 5.38000e-01,\n",
       "        6.14200e+00, 9.17000e+01, 3.97690e+00, 4.00000e+00, 3.07000e+02,\n",
       "        2.10000e+01, 3.96900e+02, 1.87200e+01],\n",
       "       [2.17700e-02, 8.25000e+01, 2.03000e+00, 0.00000e+00, 4.15000e-01,\n",
       "        7.61000e+00, 1.57000e+01, 6.27000e+00, 2.00000e+00, 3.48000e+02,\n",
       "        1.47000e+01, 3.95380e+02, 3.11000e+00],\n",
       "       [4.89822e+00, 0.00000e+00, 1.81000e+01, 0.00000e+00, 6.31000e-01,\n",
       "        4.97000e+00, 1.00000e+02, 1.33250e+00, 2.40000e+01, 6.66000e+02,\n",
       "        2.02000e+01, 3.75520e+02, 3.26000e+00],\n",
       "       [3.96100e-02, 0.00000e+00, 5.19000e+00, 0.00000e+00, 5.15000e-01,\n",
       "        6.03700e+00, 3.45000e+01, 5.98530e+00, 5.00000e+00, 2.24000e+02,\n",
       "        2.02000e+01, 3.96900e+02, 8.01000e+00],\n",
       "       [3.69311e+00, 0.00000e+00, 1.81000e+01, 0.00000e+00, 7.13000e-01,\n",
       "        6.37600e+00, 8.84000e+01, 2.56710e+00, 2.40000e+01, 6.66000e+02,\n",
       "        2.02000e+01, 3.91430e+02, 1.46500e+01]])"
      ]
     },
     "execution_count": 30,
     "metadata": {},
     "output_type": "execute_result"
    }
   ],
   "source": [
    "train_data[0:5]"
   ]
  },
  {
   "cell_type": "code",
   "execution_count": 31,
   "metadata": {
    "id": "mp9bP2nY8Zi8"
   },
   "outputs": [
    {
     "data": {
      "text/plain": [
       "array([15.2, 42.3, 50. , 21.1, 17.7])"
      ]
     },
     "execution_count": 31,
     "metadata": {},
     "output_type": "execute_result"
    }
   ],
   "source": [
    "train_label[0:5]"
   ]
  },
  {
   "cell_type": "code",
   "execution_count": 32,
   "metadata": {
    "id": "WSphrGyb8efm"
   },
   "outputs": [
    {
     "name": "stdout",
     "output_type": "stream",
     "text": [
      "Model: \"sequential_1\"\n",
      "_________________________________________________________________\n",
      " Layer (type)                Output Shape              Param #   \n",
      "=================================================================\n",
      " dense_2 (Dense)             (None, 10)                140       \n",
      "                                                                 \n",
      " dense_3 (Dense)             (None, 1)                 11        \n",
      "                                                                 \n",
      "=================================================================\n",
      "Total params: 151 (604.00 Byte)\n",
      "Trainable params: 151 (604.00 Byte)\n",
      "Non-trainable params: 0 (0.00 Byte)\n",
      "_________________________________________________________________\n"
     ]
    }
   ],
   "source": [
    "# 학습 모델 만들기\n",
    "from tensorflow.keras import layers\n",
    "\n",
    "model = keras.Sequential()\n",
    "\n",
    "model.add(layers.Dense(10,activation='relu', input_shape=(13,)))\n",
    "model.add(layers.Dense(1,activation='linear'))\n",
    "model.summary()\n",
    "# 주어진 데이터에 맞게 input_shape을 설정\n",
    "# model = model.add ( layers.Dense( ... ) )\n",
    "# ....\n",
    "\n",
    "# 마지막 layer는 출력에 맞게 Dense(1, activation='...')\n"
   ]
  },
  {
   "cell_type": "code",
   "execution_count": 33,
   "metadata": {
    "id": "sxREZDHK8g3T"
   },
   "outputs": [],
   "source": [
    "# loss 함수 정하기\n",
    "# model.compile( ... )\n",
    "model.compile(optimizer='rmsprop', loss='mse', metrics='mae')"
   ]
  },
  {
   "cell_type": "code",
   "execution_count": 34,
   "metadata": {
    "id": "rl9-Ua3_81rx"
   },
   "outputs": [
    {
     "name": "stdout",
     "output_type": "stream",
     "text": [
      "Epoch 1/5\n",
      "13/13 [==============================] - 0s 10ms/step - loss: 15023.0420 - mae: 104.7355\n",
      "Epoch 2/5\n",
      "13/13 [==============================] - 0s 6ms/step - loss: 6578.4102 - mae: 62.7716\n",
      "Epoch 3/5\n",
      "13/13 [==============================] - 0s 6ms/step - loss: 3384.3774 - mae: 43.6068\n",
      "Epoch 4/5\n",
      "13/13 [==============================] - 0s 6ms/step - loss: 2215.7034 - mae: 36.8420\n",
      "Epoch 5/5\n",
      "13/13 [==============================] - 0s 6ms/step - loss: 1749.8405 - mae: 34.3993\n"
     ]
    },
    {
     "data": {
      "text/plain": [
       "<keras.src.callbacks.History at 0x176dbe710>"
      ]
     },
     "execution_count": 34,
     "metadata": {},
     "output_type": "execute_result"
    }
   ],
   "source": [
    "# 학습하기\n",
    "# model.fit( ... )\n",
    "model.fit(train_data,train_label,epochs=5)"
   ]
  },
  {
   "cell_type": "code",
   "execution_count": 35,
   "metadata": {},
   "outputs": [
    {
     "name": "stdout",
     "output_type": "stream",
     "text": [
      "[15.2 42.3 50. ]\n"
     ]
    }
   ],
   "source": [
    "print(train_label[:3])"
   ]
  },
  {
   "cell_type": "code",
   "execution_count": 36,
   "metadata": {},
   "outputs": [
    {
     "name": "stdout",
     "output_type": "stream",
     "text": [
      "[[-0.7821526 ]\n",
      " [ 2.16380844]\n",
      " [ 3.00085272]]\n"
     ]
    }
   ],
   "source": [
    "# 손실이 너무 크므로 표준화 작업이 필요하다.\n",
    "\n",
    "from sklearn.preprocessing import StandardScaler\n",
    "\n",
    "sc = StandardScaler()\n",
    "train_label = train_label.reshape((-1,1))\n",
    "sc.fit(train_label)\n",
    "train_label = sc.transform(train_label)\n",
    "print(train_label[:3])"
   ]
  },
  {
   "cell_type": "code",
   "execution_count": 37,
   "metadata": {},
   "outputs": [
    {
     "name": "stdout",
     "output_type": "stream",
     "text": [
      "Epoch 1/100\n",
      "13/13 [==============================] - 1s 12ms/step - loss: 1266.2496 - mae: 28.2694\n",
      "Epoch 2/100\n",
      "13/13 [==============================] - 0s 8ms/step - loss: 849.4186 - mae: 24.3897\n",
      "Epoch 3/100\n",
      "13/13 [==============================] - 0s 8ms/step - loss: 616.8211 - mae: 20.9846\n",
      "Epoch 4/100\n",
      "13/13 [==============================] - 0s 8ms/step - loss: 431.0770 - mae: 17.6277\n",
      "Epoch 5/100\n",
      "13/13 [==============================] - 0s 7ms/step - loss: 316.5799 - mae: 14.9791\n",
      "Epoch 6/100\n",
      "13/13 [==============================] - 0s 7ms/step - loss: 230.0021 - mae: 12.5351\n",
      "Epoch 7/100\n",
      "13/13 [==============================] - 0s 7ms/step - loss: 183.3987 - mae: 11.1210\n",
      "Epoch 8/100\n",
      "13/13 [==============================] - 0s 8ms/step - loss: 141.7962 - mae: 9.5231\n",
      "Epoch 9/100\n",
      "13/13 [==============================] - 0s 7ms/step - loss: 123.5363 - mae: 8.7649\n",
      "Epoch 10/100\n",
      "13/13 [==============================] - 0s 8ms/step - loss: 96.6599 - mae: 7.7417\n",
      "Epoch 11/100\n",
      "13/13 [==============================] - 0s 7ms/step - loss: 85.8836 - mae: 7.0474\n",
      "Epoch 12/100\n",
      "13/13 [==============================] - 0s 7ms/step - loss: 71.0260 - mae: 6.3710\n",
      "Epoch 13/100\n",
      "13/13 [==============================] - 0s 7ms/step - loss: 65.2636 - mae: 5.9884\n",
      "Epoch 14/100\n",
      "13/13 [==============================] - 0s 7ms/step - loss: 51.7907 - mae: 5.2447\n",
      "Epoch 15/100\n",
      "13/13 [==============================] - 0s 7ms/step - loss: 47.7404 - mae: 5.0340\n",
      "Epoch 16/100\n",
      "13/13 [==============================] - 0s 8ms/step - loss: 42.4108 - mae: 4.7077\n",
      "Epoch 17/100\n",
      "13/13 [==============================] - 0s 9ms/step - loss: 36.3989 - mae: 4.1955\n",
      "Epoch 18/100\n",
      "13/13 [==============================] - 0s 8ms/step - loss: 31.2619 - mae: 3.9322\n",
      "Epoch 19/100\n",
      "13/13 [==============================] - 0s 8ms/step - loss: 29.7365 - mae: 3.9337\n",
      "Epoch 20/100\n",
      "13/13 [==============================] - 0s 8ms/step - loss: 26.8841 - mae: 3.5993\n",
      "Epoch 21/100\n",
      "13/13 [==============================] - 0s 8ms/step - loss: 20.8684 - mae: 3.0298\n",
      "Epoch 22/100\n",
      "13/13 [==============================] - 0s 8ms/step - loss: 19.8159 - mae: 3.1372\n",
      "Epoch 23/100\n",
      "13/13 [==============================] - 0s 8ms/step - loss: 19.7005 - mae: 3.0838\n",
      "Epoch 24/100\n",
      "13/13 [==============================] - 0s 8ms/step - loss: 15.7702 - mae: 2.6075\n",
      "Epoch 25/100\n",
      "13/13 [==============================] - 0s 8ms/step - loss: 15.8285 - mae: 2.7913\n",
      "Epoch 26/100\n",
      "13/13 [==============================] - 0s 8ms/step - loss: 10.9028 - mae: 2.1900\n",
      "Epoch 27/100\n",
      "13/13 [==============================] - 0s 8ms/step - loss: 14.3280 - mae: 2.5356\n",
      "Epoch 28/100\n",
      "13/13 [==============================] - 0s 8ms/step - loss: 11.4655 - mae: 2.2184\n",
      "Epoch 29/100\n",
      "13/13 [==============================] - 0s 8ms/step - loss: 11.5853 - mae: 2.4531\n",
      "Epoch 30/100\n",
      "13/13 [==============================] - 0s 7ms/step - loss: 10.5472 - mae: 2.2312\n",
      "Epoch 31/100\n",
      "13/13 [==============================] - 0s 8ms/step - loss: 8.8286 - mae: 2.1257\n",
      "Epoch 32/100\n",
      "13/13 [==============================] - 0s 8ms/step - loss: 8.6050 - mae: 2.1308\n",
      "Epoch 33/100\n",
      "13/13 [==============================] - 0s 8ms/step - loss: 8.2760 - mae: 2.1272\n",
      "Epoch 34/100\n",
      "13/13 [==============================] - 0s 9ms/step - loss: 7.4221 - mae: 2.0390\n",
      "Epoch 35/100\n",
      "13/13 [==============================] - 0s 8ms/step - loss: 7.5660 - mae: 2.0701\n",
      "Epoch 36/100\n",
      "13/13 [==============================] - 0s 7ms/step - loss: 7.4802 - mae: 2.0437\n",
      "Epoch 37/100\n",
      "13/13 [==============================] - 0s 7ms/step - loss: 6.3475 - mae: 1.9426\n",
      "Epoch 38/100\n",
      "13/13 [==============================] - 0s 7ms/step - loss: 6.5207 - mae: 1.9092\n",
      "Epoch 39/100\n",
      "13/13 [==============================] - 0s 8ms/step - loss: 5.8845 - mae: 1.8841\n",
      "Epoch 40/100\n",
      "13/13 [==============================] - 0s 8ms/step - loss: 5.2511 - mae: 1.7348\n",
      "Epoch 41/100\n",
      "13/13 [==============================] - 0s 8ms/step - loss: 5.4242 - mae: 1.7328\n",
      "Epoch 42/100\n",
      "13/13 [==============================] - 0s 9ms/step - loss: 4.8097 - mae: 1.7217\n",
      "Epoch 43/100\n",
      "13/13 [==============================] - 0s 8ms/step - loss: 5.5767 - mae: 1.9689\n",
      "Epoch 44/100\n",
      "13/13 [==============================] - 0s 8ms/step - loss: 3.2159 - mae: 1.4090\n",
      "Epoch 45/100\n",
      "13/13 [==============================] - 0s 9ms/step - loss: 4.4471 - mae: 1.6055\n",
      "Epoch 46/100\n",
      "13/13 [==============================] - 0s 8ms/step - loss: 4.9608 - mae: 1.8328\n",
      "Epoch 47/100\n",
      "13/13 [==============================] - 0s 8ms/step - loss: 4.7341 - mae: 1.8497\n",
      "Epoch 48/100\n",
      "13/13 [==============================] - 0s 8ms/step - loss: 4.5134 - mae: 1.7508\n",
      "Epoch 49/100\n",
      "13/13 [==============================] - 0s 8ms/step - loss: 3.2275 - mae: 1.4346\n",
      "Epoch 50/100\n",
      "13/13 [==============================] - 0s 8ms/step - loss: 4.5821 - mae: 1.8134\n",
      "Epoch 51/100\n",
      "13/13 [==============================] - 0s 8ms/step - loss: 4.5350 - mae: 1.7049\n",
      "Epoch 52/100\n",
      "13/13 [==============================] - 0s 8ms/step - loss: 1.5079 - mae: 0.9470\n",
      "Epoch 53/100\n",
      "13/13 [==============================] - 0s 8ms/step - loss: 4.0654 - mae: 1.5491\n",
      "Epoch 54/100\n",
      "13/13 [==============================] - 0s 8ms/step - loss: 4.4359 - mae: 1.8233\n",
      "Epoch 55/100\n",
      "13/13 [==============================] - 0s 8ms/step - loss: 3.5457 - mae: 1.5581\n",
      "Epoch 56/100\n",
      "13/13 [==============================] - 0s 8ms/step - loss: 3.9402 - mae: 1.7400\n",
      "Epoch 57/100\n",
      "13/13 [==============================] - 0s 7ms/step - loss: 3.2383 - mae: 1.5064\n",
      "Epoch 58/100\n",
      "13/13 [==============================] - 0s 8ms/step - loss: 3.7834 - mae: 1.5848\n",
      "Epoch 59/100\n",
      "13/13 [==============================] - 0s 8ms/step - loss: 1.3809 - mae: 0.8936\n",
      "Epoch 60/100\n",
      "13/13 [==============================] - 0s 8ms/step - loss: 4.4607 - mae: 1.6178\n",
      "Epoch 61/100\n",
      "13/13 [==============================] - 0s 7ms/step - loss: 4.2737 - mae: 1.7134\n",
      "Epoch 62/100\n",
      "13/13 [==============================] - 0s 7ms/step - loss: 2.9898 - mae: 1.4373\n",
      "Epoch 63/100\n",
      "13/13 [==============================] - 0s 8ms/step - loss: 3.5673 - mae: 1.6721\n",
      "Epoch 64/100\n",
      "13/13 [==============================] - 0s 7ms/step - loss: 3.3501 - mae: 1.5943\n",
      "Epoch 65/100\n",
      "13/13 [==============================] - 0s 9ms/step - loss: 2.7060 - mae: 1.3644\n",
      "Epoch 66/100\n",
      "13/13 [==============================] - 0s 9ms/step - loss: 3.1212 - mae: 1.5510\n",
      "Epoch 67/100\n",
      "13/13 [==============================] - 0s 9ms/step - loss: 3.8431 - mae: 1.7480\n",
      "Epoch 68/100\n",
      "13/13 [==============================] - 0s 8ms/step - loss: 3.1493 - mae: 1.5715\n",
      "Epoch 69/100\n",
      "13/13 [==============================] - 0s 8ms/step - loss: 3.0538 - mae: 1.4358\n",
      "Epoch 70/100\n",
      "13/13 [==============================] - 0s 8ms/step - loss: 4.3941 - mae: 1.7656\n",
      "Epoch 71/100\n",
      "13/13 [==============================] - 0s 8ms/step - loss: 1.8885 - mae: 0.9800\n",
      "Epoch 72/100\n",
      "13/13 [==============================] - 0s 8ms/step - loss: 3.6730 - mae: 1.5607\n",
      "Epoch 73/100\n",
      "13/13 [==============================] - 0s 8ms/step - loss: 2.4701 - mae: 1.3174\n",
      "Epoch 74/100\n",
      "13/13 [==============================] - 0s 8ms/step - loss: 3.8180 - mae: 1.5470\n",
      "Epoch 75/100\n",
      "13/13 [==============================] - 0s 8ms/step - loss: 3.6226 - mae: 1.6952\n",
      "Epoch 76/100\n",
      "13/13 [==============================] - 0s 7ms/step - loss: 3.2794 - mae: 1.6347\n",
      "Epoch 77/100\n",
      "13/13 [==============================] - 0s 7ms/step - loss: 3.4937 - mae: 1.6662\n",
      "Epoch 78/100\n",
      "13/13 [==============================] - 0s 8ms/step - loss: 3.6253 - mae: 1.6427\n",
      "Epoch 79/100\n",
      "13/13 [==============================] - 0s 8ms/step - loss: 2.9716 - mae: 1.2865\n",
      "Epoch 80/100\n",
      "13/13 [==============================] - 0s 7ms/step - loss: 2.5008 - mae: 1.3644\n",
      "Epoch 81/100\n",
      "13/13 [==============================] - 0s 8ms/step - loss: 2.9814 - mae: 1.4912\n",
      "Epoch 82/100\n",
      "13/13 [==============================] - 0s 7ms/step - loss: 3.8894 - mae: 1.8012\n",
      "Epoch 83/100\n",
      "13/13 [==============================] - 0s 8ms/step - loss: 3.0701 - mae: 1.5779\n",
      "Epoch 84/100\n",
      "13/13 [==============================] - 0s 7ms/step - loss: 3.0112 - mae: 1.5599\n",
      "Epoch 85/100\n",
      "13/13 [==============================] - 0s 7ms/step - loss: 3.6421 - mae: 1.6220\n",
      "Epoch 86/100\n"
     ]
    },
    {
     "name": "stdout",
     "output_type": "stream",
     "text": [
      "13/13 [==============================] - 0s 8ms/step - loss: 3.2857 - mae: 1.4565\n",
      "Epoch 87/100\n",
      "13/13 [==============================] - 0s 7ms/step - loss: 3.6517 - mae: 1.6208\n",
      "Epoch 88/100\n",
      "13/13 [==============================] - 0s 7ms/step - loss: 2.5376 - mae: 1.4072\n",
      "Epoch 89/100\n",
      "13/13 [==============================] - 0s 8ms/step - loss: 4.0363 - mae: 1.7983\n",
      "Epoch 90/100\n",
      "13/13 [==============================] - 0s 8ms/step - loss: 2.9232 - mae: 1.4610\n",
      "Epoch 91/100\n",
      "13/13 [==============================] - 0s 8ms/step - loss: 3.4217 - mae: 1.6868\n",
      "Epoch 92/100\n",
      "13/13 [==============================] - 0s 8ms/step - loss: 2.7861 - mae: 1.3908\n",
      "Epoch 93/100\n",
      "13/13 [==============================] - 0s 8ms/step - loss: 3.4804 - mae: 1.5683\n",
      "Epoch 94/100\n",
      "13/13 [==============================] - 0s 8ms/step - loss: 3.0742 - mae: 1.3301\n",
      "Epoch 95/100\n",
      "13/13 [==============================] - 0s 8ms/step - loss: 3.6987 - mae: 1.3585\n",
      "Epoch 96/100\n",
      "13/13 [==============================] - 0s 8ms/step - loss: 3.3586 - mae: 1.5626\n",
      "Epoch 97/100\n",
      "13/13 [==============================] - 0s 8ms/step - loss: 3.3951 - mae: 1.6603\n",
      "Epoch 98/100\n",
      "13/13 [==============================] - 0s 8ms/step - loss: 2.6763 - mae: 1.4820\n",
      "Epoch 99/100\n",
      "13/13 [==============================] - 0s 8ms/step - loss: 2.6795 - mae: 1.4155\n",
      "Epoch 100/100\n",
      "13/13 [==============================] - 0s 7ms/step - loss: 3.8444 - mae: 1.6833\n"
     ]
    },
    {
     "data": {
      "text/plain": [
       "<keras.src.callbacks.History at 0x2a14af290>"
      ]
     },
     "execution_count": 37,
     "metadata": {},
     "output_type": "execute_result"
    }
   ],
   "source": [
    "model.fit(train_data,train_label,epochs=100)"
   ]
  }
 ],
 "metadata": {
  "colab": {
   "provenance": []
  },
  "kernelspec": {
   "display_name": "Python 3 (ipykernel)",
   "language": "python",
   "name": "python3"
  },
  "language_info": {
   "codemirror_mode": {
    "name": "ipython",
    "version": 3
   },
   "file_extension": ".py",
   "mimetype": "text/x-python",
   "name": "python",
   "nbconvert_exporter": "python",
   "pygments_lexer": "ipython3",
   "version": "3.11.4"
  }
 },
 "nbformat": 4,
 "nbformat_minor": 1
}
