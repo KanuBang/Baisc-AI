{
 "cells": [
  {
   "cell_type": "markdown",
   "metadata": {
    "id": "qhXYsxx4-t8t"
   },
   "source": [
    "데이터명 : Boston Housing Price (보스턴 주택 가격 데이터)\n",
    "\n",
    "데이터설명 : 보스턴 시의 주택 가격에 대한 데이터이다.\n",
    "주택의 여러가진 요건들과 주택의 가격 정보가 포함되어 있다. 주택의 가격에 영향을 미치는 요소를 분석하고자 하는 목적으로 사용될 수 있다. 회귀분석 등의 분석에 활용될 수 있다.\n",
    "\n",
    "보스턴 주택 데이터는 여러 개의 측정지표들 (예를 들어, 범죄율, 학생/교사 비율 등)을 포함한, 보스턴 인근의 주택 가격의 중앙값(median value)이다. 이 데이터 집합은 14개의 변수를 포함하고 있다.\n",
    "\n",
    "필드의 이해 :\n",
    "데이터의 이해를 돕기 위해 포함된 14개의 변수에 대하여 간략하게 설명한다.  \n",
    "위 14개의 필드는 입력 변수로 사용되고, 맨 아래의 Play 속성이 목표(종속) 변수로 사용된다.\n",
    "\n",
    " [01]  CRIM\t자치시(town) 별 1인당 범죄율\n",
    "\n",
    " [02]  ZN\t25,000 평방피트를 초과하는 거주지역의 비율\n",
    "\n",
    " [03]  INDUS\t비소매상업지역이 점유하고 있는 토지의 비율\n",
    "\n",
    " [04]  CHAS\t찰스강에 대한 더미변수(강의 경계에 위치한 경우는 1, 아니면 0)\n",
    "\n",
    " [05]  NOX\t10ppm 당 농축 일산화질소\n",
    "\n",
    " [06]  RM\t주택 1가구당 평균 방의 개수\n",
    "\n",
    " [07]  AGE\t1940년 이전에 건축된 소유주택의 비율\n",
    "\n",
    " [08]  DIS\t5개의 보스턴 직업센터까지의 접근성 지수\n",
    "\n",
    " [09]  RAD\t방사형 도로까지의 접근성 지수\n",
    "\n",
    " [10]  TAX\t10,000 달러 당 재산세율\n",
    "\n",
    " [11]  PTRATIO\t자치시(town)별 학생/교사 비율\n",
    "\n",
    " [12]  B\t1000(Bk-0.63)^2, 여기서 Bk는 자치시별 흑인의 비율을 말함.\n",
    "\n",
    " [13]  LSTAT\t모집단의 하위계층의 비율(%)\n",
    "\n",
    " [14]  MEDV\t본인 소유의 주택가격(중앙값) (단위: $1,000)"
   ]
  },
  {
   "cell_type": "code",
   "execution_count": 38,
   "metadata": {
    "id": "e8LhnVKA7_J_"
   },
   "outputs": [],
   "source": [
    "from tensorflow import keras\n",
    "(train_data, train_label), (test_data, test_label) = keras.datasets.boston_housing.load_data()"
   ]
  },
  {
   "cell_type": "code",
   "execution_count": 39,
   "metadata": {
    "id": "5V0iwWU28Ngp"
   },
   "outputs": [
    {
     "data": {
      "text/plain": [
       "(404, 13)"
      ]
     },
     "execution_count": 39,
     "metadata": {},
     "output_type": "execute_result"
    }
   ],
   "source": [
    "train_data.shape"
   ]
  },
  {
   "cell_type": "code",
   "execution_count": 40,
   "metadata": {
    "id": "UKT_douo8PEW"
   },
   "outputs": [
    {
     "data": {
      "text/plain": [
       "(404,)"
      ]
     },
     "execution_count": 40,
     "metadata": {},
     "output_type": "execute_result"
    }
   ],
   "source": [
    "train_label.shape"
   ]
  },
  {
   "cell_type": "code",
   "execution_count": 41,
   "metadata": {
    "id": "y66vw2NO8ShU"
   },
   "outputs": [
    {
     "data": {
      "text/plain": [
       "array([[1.23247e+00, 0.00000e+00, 8.14000e+00, 0.00000e+00, 5.38000e-01,\n",
       "        6.14200e+00, 9.17000e+01, 3.97690e+00, 4.00000e+00, 3.07000e+02,\n",
       "        2.10000e+01, 3.96900e+02, 1.87200e+01],\n",
       "       [2.17700e-02, 8.25000e+01, 2.03000e+00, 0.00000e+00, 4.15000e-01,\n",
       "        7.61000e+00, 1.57000e+01, 6.27000e+00, 2.00000e+00, 3.48000e+02,\n",
       "        1.47000e+01, 3.95380e+02, 3.11000e+00],\n",
       "       [4.89822e+00, 0.00000e+00, 1.81000e+01, 0.00000e+00, 6.31000e-01,\n",
       "        4.97000e+00, 1.00000e+02, 1.33250e+00, 2.40000e+01, 6.66000e+02,\n",
       "        2.02000e+01, 3.75520e+02, 3.26000e+00],\n",
       "       [3.96100e-02, 0.00000e+00, 5.19000e+00, 0.00000e+00, 5.15000e-01,\n",
       "        6.03700e+00, 3.45000e+01, 5.98530e+00, 5.00000e+00, 2.24000e+02,\n",
       "        2.02000e+01, 3.96900e+02, 8.01000e+00],\n",
       "       [3.69311e+00, 0.00000e+00, 1.81000e+01, 0.00000e+00, 7.13000e-01,\n",
       "        6.37600e+00, 8.84000e+01, 2.56710e+00, 2.40000e+01, 6.66000e+02,\n",
       "        2.02000e+01, 3.91430e+02, 1.46500e+01]])"
      ]
     },
     "execution_count": 41,
     "metadata": {},
     "output_type": "execute_result"
    }
   ],
   "source": [
    "train_data[0:5]"
   ]
  },
  {
   "cell_type": "code",
   "execution_count": 42,
   "metadata": {
    "id": "mp9bP2nY8Zi8"
   },
   "outputs": [
    {
     "data": {
      "text/plain": [
       "array([15.2, 42.3, 50. , 21.1, 17.7])"
      ]
     },
     "execution_count": 42,
     "metadata": {},
     "output_type": "execute_result"
    }
   ],
   "source": [
    "train_label[0:5]"
   ]
  },
  {
   "cell_type": "code",
   "execution_count": 43,
   "metadata": {
    "id": "WSphrGyb8efm"
   },
   "outputs": [
    {
     "name": "stdout",
     "output_type": "stream",
     "text": [
      "Model: \"sequential_2\"\n",
      "_________________________________________________________________\n",
      " Layer (type)                Output Shape              Param #   \n",
      "=================================================================\n",
      " dense_4 (Dense)             (None, 10)                140       \n",
      "                                                                 \n",
      " dense_5 (Dense)             (None, 1)                 11        \n",
      "                                                                 \n",
      "=================================================================\n",
      "Total params: 151 (604.00 Byte)\n",
      "Trainable params: 151 (604.00 Byte)\n",
      "Non-trainable params: 0 (0.00 Byte)\n",
      "_________________________________________________________________\n"
     ]
    }
   ],
   "source": [
    "# 학습 모델 만들기\n",
    "from tensorflow.keras import layers\n",
    "\n",
    "model = keras.Sequential()\n",
    "\n",
    "model.add(layers.Dense(10,activation='relu', input_shape=(13,)))\n",
    "model.add(layers.Dense(1,activation='linear'))\n",
    "model.summary()\n",
    "# 주어진 데이터에 맞게 input_shape을 설정\n",
    "# model = model.add ( layers.Dense( ... ) )\n",
    "# ....\n",
    "\n",
    "# 마지막 layer는 출력에 맞게 Dense(1, activation='...')\n"
   ]
  },
  {
   "cell_type": "code",
   "execution_count": 44,
   "metadata": {
    "id": "sxREZDHK8g3T"
   },
   "outputs": [],
   "source": [
    "# loss 함수 정하기\n",
    "# model.compile( ... )\n",
    "model.compile(optimizer='rmsprop', loss='mse', metrics='mae')"
   ]
  },
  {
   "cell_type": "code",
   "execution_count": 45,
   "metadata": {
    "id": "rl9-Ua3_81rx"
   },
   "outputs": [
    {
     "name": "stdout",
     "output_type": "stream",
     "text": [
      "Epoch 1/5\n",
      "13/13 [==============================] - 0s 9ms/step - loss: 64365.4570 - mae: 248.2288\n",
      "Epoch 2/5\n",
      "13/13 [==============================] - 0s 6ms/step - loss: 39044.6602 - mae: 192.6758\n",
      "Epoch 3/5\n",
      "13/13 [==============================] - 0s 6ms/step - loss: 23531.6113 - mae: 147.6898\n",
      "Epoch 4/5\n",
      "13/13 [==============================] - 0s 6ms/step - loss: 13209.4453 - mae: 108.7520\n",
      "Epoch 5/5\n",
      "13/13 [==============================] - 0s 6ms/step - loss: 6838.2593 - mae: 77.1529\n"
     ]
    },
    {
     "data": {
      "text/plain": [
       "<keras.src.callbacks.History at 0x2a1527e10>"
      ]
     },
     "execution_count": 45,
     "metadata": {},
     "output_type": "execute_result"
    }
   ],
   "source": [
    "# 학습하기\n",
    "# model.fit( ... )\n",
    "model.fit(train_data,train_label,epochs=5)"
   ]
  },
  {
   "cell_type": "code",
   "execution_count": 46,
   "metadata": {},
   "outputs": [
    {
     "name": "stdout",
     "output_type": "stream",
     "text": [
      "[15.2 42.3 50. ]\n"
     ]
    }
   ],
   "source": [
    "print(train_label[:3])"
   ]
  },
  {
   "cell_type": "code",
   "execution_count": 47,
   "metadata": {},
   "outputs": [
    {
     "name": "stdout",
     "output_type": "stream",
     "text": [
      "[[-0.7821526 ]\n",
      " [ 2.16380844]\n",
      " [ 3.00085272]]\n"
     ]
    }
   ],
   "source": [
    "# 손실이 너무 크므로 표준화 작업이 필요하다.\n",
    "\n",
    "from sklearn.preprocessing import StandardScaler\n",
    "\n",
    "sc = StandardScaler()\n",
    "train_label = train_label.reshape((-1,1))\n",
    "sc.fit(train_label)\n",
    "train_label = sc.transform(train_label)\n",
    "print(train_label[:3])"
   ]
  },
  {
   "cell_type": "code",
   "execution_count": 48,
   "metadata": {},
   "outputs": [
    {
     "name": "stdout",
     "output_type": "stream",
     "text": [
      "Epoch 1/100\n",
      "13/13 [==============================] - 1s 14ms/step - loss: 5584.1094 - mae: 68.0253\n",
      "Epoch 2/100\n",
      "13/13 [==============================] - 0s 8ms/step - loss: 3009.9602 - mae: 47.1803\n",
      "Epoch 3/100\n",
      "13/13 [==============================] - 0s 8ms/step - loss: 2028.9658 - mae: 38.9267\n",
      "Epoch 4/100\n",
      "13/13 [==============================] - 0s 8ms/step - loss: 1512.2089 - mae: 33.7753\n",
      "Epoch 5/100\n",
      "13/13 [==============================] - 0s 8ms/step - loss: 1100.5129 - mae: 28.8049\n",
      "Epoch 6/100\n",
      "13/13 [==============================] - 0s 8ms/step - loss: 769.9473 - mae: 24.3246\n",
      "Epoch 7/100\n",
      "13/13 [==============================] - 0s 8ms/step - loss: 526.9618 - mae: 20.0188\n",
      "Epoch 8/100\n",
      "13/13 [==============================] - 0s 8ms/step - loss: 365.2001 - mae: 16.4668\n",
      "Epoch 9/100\n",
      "13/13 [==============================] - 0s 8ms/step - loss: 278.9443 - mae: 13.5153\n",
      "Epoch 10/100\n",
      "13/13 [==============================] - 0s 8ms/step - loss: 220.3204 - mae: 11.8518\n",
      "Epoch 11/100\n",
      "13/13 [==============================] - 0s 8ms/step - loss: 178.8822 - mae: 10.3362\n",
      "Epoch 12/100\n",
      "13/13 [==============================] - 0s 8ms/step - loss: 148.6874 - mae: 9.5710\n",
      "Epoch 13/100\n",
      "13/13 [==============================] - 0s 8ms/step - loss: 123.3094 - mae: 8.6511\n",
      "Epoch 14/100\n",
      "13/13 [==============================] - 0s 8ms/step - loss: 100.3979 - mae: 7.7675\n",
      "Epoch 15/100\n",
      "13/13 [==============================] - 0s 8ms/step - loss: 79.8900 - mae: 6.9695\n",
      "Epoch 16/100\n",
      "13/13 [==============================] - 0s 7ms/step - loss: 65.1324 - mae: 6.3359\n",
      "Epoch 17/100\n",
      "13/13 [==============================] - 0s 8ms/step - loss: 51.9755 - mae: 5.5208\n",
      "Epoch 18/100\n",
      "13/13 [==============================] - 0s 9ms/step - loss: 40.0452 - mae: 4.7854\n",
      "Epoch 19/100\n",
      "13/13 [==============================] - 0s 10ms/step - loss: 35.3472 - mae: 4.5343\n",
      "Epoch 20/100\n",
      "13/13 [==============================] - 0s 9ms/step - loss: 26.2982 - mae: 3.8279\n",
      "Epoch 21/100\n",
      "13/13 [==============================] - 0s 8ms/step - loss: 22.1432 - mae: 3.4742\n",
      "Epoch 22/100\n",
      "13/13 [==============================] - 0s 9ms/step - loss: 20.5131 - mae: 3.2226\n",
      "Epoch 23/100\n",
      "13/13 [==============================] - 0s 8ms/step - loss: 20.2200 - mae: 3.0928\n",
      "Epoch 24/100\n",
      "13/13 [==============================] - 0s 9ms/step - loss: 19.4615 - mae: 3.0726\n",
      "Epoch 25/100\n",
      "13/13 [==============================] - 0s 8ms/step - loss: 16.7872 - mae: 2.9402\n",
      "Epoch 26/100\n",
      "13/13 [==============================] - 0s 8ms/step - loss: 16.4419 - mae: 2.8926\n",
      "Epoch 27/100\n",
      "13/13 [==============================] - 0s 8ms/step - loss: 13.4784 - mae: 2.6653\n",
      "Epoch 28/100\n",
      "13/13 [==============================] - 0s 8ms/step - loss: 14.3829 - mae: 2.7413\n",
      "Epoch 29/100\n",
      "13/13 [==============================] - 0s 8ms/step - loss: 13.5467 - mae: 2.5791\n",
      "Epoch 30/100\n",
      "13/13 [==============================] - 0s 8ms/step - loss: 12.1430 - mae: 2.5140\n",
      "Epoch 31/100\n",
      "13/13 [==============================] - 0s 8ms/step - loss: 11.1396 - mae: 2.4065\n",
      "Epoch 32/100\n",
      "13/13 [==============================] - 0s 8ms/step - loss: 12.1857 - mae: 2.5533\n",
      "Epoch 33/100\n",
      "13/13 [==============================] - 0s 7ms/step - loss: 9.0250 - mae: 2.2258\n",
      "Epoch 34/100\n",
      "13/13 [==============================] - 0s 8ms/step - loss: 9.8564 - mae: 2.4054\n",
      "Epoch 35/100\n",
      "13/13 [==============================] - 0s 8ms/step - loss: 10.1265 - mae: 2.2998\n",
      "Epoch 36/100\n",
      "13/13 [==============================] - 0s 8ms/step - loss: 7.5835 - mae: 2.0957\n",
      "Epoch 37/100\n",
      "13/13 [==============================] - 0s 8ms/step - loss: 10.3015 - mae: 2.5718\n",
      "Epoch 38/100\n",
      "13/13 [==============================] - 0s 8ms/step - loss: 6.3131 - mae: 1.8965\n",
      "Epoch 39/100\n",
      "13/13 [==============================] - 0s 11ms/step - loss: 5.2986 - mae: 1.6862\n",
      "Epoch 40/100\n",
      "13/13 [==============================] - 0s 9ms/step - loss: 10.3652 - mae: 2.4768\n",
      "Epoch 41/100\n",
      "13/13 [==============================] - 0s 9ms/step - loss: 7.6684 - mae: 2.1845\n",
      "Epoch 42/100\n",
      "13/13 [==============================] - 0s 9ms/step - loss: 6.2594 - mae: 2.0491\n",
      "Epoch 43/100\n",
      "13/13 [==============================] - 0s 9ms/step - loss: 6.6109 - mae: 2.0830\n",
      "Epoch 44/100\n",
      "13/13 [==============================] - 0s 9ms/step - loss: 6.6719 - mae: 2.0966\n",
      "Epoch 45/100\n",
      "13/13 [==============================] - 0s 8ms/step - loss: 6.6872 - mae: 2.1215\n",
      "Epoch 46/100\n",
      "13/13 [==============================] - 0s 9ms/step - loss: 4.3906 - mae: 1.5402\n",
      "Epoch 47/100\n",
      "13/13 [==============================] - 0s 9ms/step - loss: 8.0190 - mae: 2.1708\n",
      "Epoch 48/100\n",
      "13/13 [==============================] - 0s 10ms/step - loss: 4.1812 - mae: 1.6824\n",
      "Epoch 49/100\n",
      "13/13 [==============================] - 0s 12ms/step - loss: 5.3604 - mae: 1.8896\n",
      "Epoch 50/100\n",
      "13/13 [==============================] - 0s 13ms/step - loss: 7.0230 - mae: 2.2440\n",
      "Epoch 51/100\n",
      "13/13 [==============================] - 0s 12ms/step - loss: 4.4993 - mae: 1.7334\n",
      "Epoch 52/100\n",
      "13/13 [==============================] - 0s 12ms/step - loss: 5.0221 - mae: 1.7876\n",
      "Epoch 53/100\n",
      "13/13 [==============================] - 0s 11ms/step - loss: 6.1386 - mae: 2.0205\n",
      "Epoch 54/100\n",
      "13/13 [==============================] - 0s 11ms/step - loss: 5.8662 - mae: 2.0637\n",
      "Epoch 55/100\n",
      "13/13 [==============================] - 0s 10ms/step - loss: 5.5559 - mae: 1.7969\n",
      "Epoch 56/100\n",
      "13/13 [==============================] - 0s 8ms/step - loss: 5.5362 - mae: 1.8214\n",
      "Epoch 57/100\n",
      "13/13 [==============================] - 0s 9ms/step - loss: 1.7267 - mae: 1.0120\n",
      "Epoch 58/100\n",
      "13/13 [==============================] - 0s 12ms/step - loss: 6.7092 - mae: 1.8579\n",
      "Epoch 59/100\n",
      "13/13 [==============================] - 0s 13ms/step - loss: 6.9651 - mae: 2.1835\n",
      "Epoch 60/100\n",
      "13/13 [==============================] - 0s 11ms/step - loss: 4.7076 - mae: 1.7572\n",
      "Epoch 61/100\n",
      "13/13 [==============================] - 0s 10ms/step - loss: 3.1505 - mae: 1.3861\n",
      "Epoch 62/100\n",
      "13/13 [==============================] - 0s 14ms/step - loss: 6.3031 - mae: 2.2035\n",
      "Epoch 63/100\n",
      "13/13 [==============================] - 0s 20ms/step - loss: 5.1776 - mae: 1.9549\n",
      "Epoch 64/100\n",
      "13/13 [==============================] - 0s 19ms/step - loss: 3.3944 - mae: 1.5404\n",
      "Epoch 65/100\n",
      "13/13 [==============================] - 0s 12ms/step - loss: 5.8415 - mae: 1.8247\n",
      "Epoch 66/100\n",
      "13/13 [==============================] - 0s 12ms/step - loss: 5.1024 - mae: 1.8436\n",
      "Epoch 67/100\n",
      "13/13 [==============================] - 0s 13ms/step - loss: 5.5264 - mae: 1.9814\n",
      "Epoch 68/100\n",
      "13/13 [==============================] - 0s 12ms/step - loss: 6.2143 - mae: 2.1137\n",
      "Epoch 69/100\n",
      "13/13 [==============================] - 0s 11ms/step - loss: 4.5067 - mae: 1.6670\n",
      "Epoch 70/100\n",
      "13/13 [==============================] - 0s 11ms/step - loss: 5.3131 - mae: 1.8341\n",
      "Epoch 71/100\n",
      "13/13 [==============================] - 0s 10ms/step - loss: 3.2572 - mae: 1.5410\n",
      "Epoch 72/100\n",
      "13/13 [==============================] - 0s 9ms/step - loss: 6.6713 - mae: 2.2100\n",
      "Epoch 73/100\n",
      "13/13 [==============================] - 0s 9ms/step - loss: 3.6897 - mae: 1.6460\n",
      "Epoch 74/100\n",
      "13/13 [==============================] - 0s 9ms/step - loss: 5.7590 - mae: 2.1117\n",
      "Epoch 75/100\n",
      "13/13 [==============================] - 0s 9ms/step - loss: 4.8103 - mae: 1.7652\n",
      "Epoch 76/100\n",
      "13/13 [==============================] - 0s 8ms/step - loss: 3.1878 - mae: 1.4275\n",
      "Epoch 77/100\n",
      "13/13 [==============================] - 0s 8ms/step - loss: 5.4384 - mae: 2.0221\n",
      "Epoch 78/100\n",
      "13/13 [==============================] - 0s 8ms/step - loss: 4.9241 - mae: 1.9350\n",
      "Epoch 79/100\n",
      "13/13 [==============================] - 0s 8ms/step - loss: 5.9289 - mae: 1.9786\n",
      "Epoch 80/100\n",
      "13/13 [==============================] - 0s 8ms/step - loss: 1.5453 - mae: 0.9585\n",
      "Epoch 81/100\n",
      "13/13 [==============================] - 0s 8ms/step - loss: 6.5204 - mae: 2.0127\n",
      "Epoch 82/100\n",
      "13/13 [==============================] - 0s 8ms/step - loss: 5.0746 - mae: 1.8693\n",
      "Epoch 83/100\n",
      "13/13 [==============================] - 0s 9ms/step - loss: 3.5243 - mae: 1.5474\n",
      "Epoch 84/100\n",
      "13/13 [==============================] - 0s 9ms/step - loss: 5.9014 - mae: 2.0992\n",
      "Epoch 85/100\n",
      "13/13 [==============================] - 0s 8ms/step - loss: 3.3643 - mae: 1.5794\n",
      "Epoch 86/100\n"
     ]
    },
    {
     "name": "stdout",
     "output_type": "stream",
     "text": [
      "13/13 [==============================] - 0s 9ms/step - loss: 4.0647 - mae: 1.5349\n",
      "Epoch 87/100\n",
      "13/13 [==============================] - 0s 8ms/step - loss: 5.7015 - mae: 1.9973\n",
      "Epoch 88/100\n",
      "13/13 [==============================] - 0s 7ms/step - loss: 5.5080 - mae: 1.9108\n",
      "Epoch 89/100\n",
      "13/13 [==============================] - 0s 7ms/step - loss: 4.3444 - mae: 1.6010\n",
      "Epoch 90/100\n",
      "13/13 [==============================] - 0s 7ms/step - loss: 4.1821 - mae: 1.7511\n",
      "Epoch 91/100\n",
      "13/13 [==============================] - 0s 8ms/step - loss: 4.2764 - mae: 1.7868\n",
      "Epoch 92/100\n",
      "13/13 [==============================] - 0s 8ms/step - loss: 5.1116 - mae: 1.8646\n",
      "Epoch 93/100\n",
      "13/13 [==============================] - 0s 7ms/step - loss: 5.7010 - mae: 1.9848\n",
      "Epoch 94/100\n",
      "13/13 [==============================] - 0s 7ms/step - loss: 3.3154 - mae: 1.3896\n",
      "Epoch 95/100\n",
      "13/13 [==============================] - 0s 7ms/step - loss: 5.0851 - mae: 1.9393\n",
      "Epoch 96/100\n",
      "13/13 [==============================] - 0s 8ms/step - loss: 3.8980 - mae: 1.6835\n",
      "Epoch 97/100\n",
      "13/13 [==============================] - 0s 8ms/step - loss: 3.8508 - mae: 1.6878\n",
      "Epoch 98/100\n",
      "13/13 [==============================] - 0s 8ms/step - loss: 4.2436 - mae: 1.6998\n",
      "Epoch 99/100\n",
      "13/13 [==============================] - 0s 8ms/step - loss: 4.5355 - mae: 1.6447\n",
      "Epoch 100/100\n",
      "13/13 [==============================] - 0s 8ms/step - loss: 5.3650 - mae: 1.8130\n"
     ]
    },
    {
     "data": {
      "text/plain": [
       "<keras.src.callbacks.History at 0x176ce3950>"
      ]
     },
     "execution_count": 48,
     "metadata": {},
     "output_type": "execute_result"
    }
   ],
   "source": [
    "model.fit(train_data,train_label,epochs=100)"
   ]
  }
 ],
 "metadata": {
  "colab": {
   "provenance": []
  },
  "kernelspec": {
   "display_name": "Python 3 (ipykernel)",
   "language": "python",
   "name": "python3"
  },
  "language_info": {
   "codemirror_mode": {
    "name": "ipython",
    "version": 3
   },
   "file_extension": ".py",
   "mimetype": "text/x-python",
   "name": "python",
   "nbconvert_exporter": "python",
   "pygments_lexer": "ipython3",
   "version": "3.11.4"
  }
 },
 "nbformat": 4,
 "nbformat_minor": 1
}
