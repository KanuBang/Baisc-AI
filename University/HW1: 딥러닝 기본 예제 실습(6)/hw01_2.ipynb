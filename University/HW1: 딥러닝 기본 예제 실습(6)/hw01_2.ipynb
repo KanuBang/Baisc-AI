{
  "nbformat": 4,
  "nbformat_minor": 0,
  "metadata": {
    "colab": {
      "provenance": []
    },
    "kernelspec": {
      "name": "python3",
      "display_name": "Python 3"
    },
    "language_info": {
      "name": "python"
    }
  },
  "cells": [
    {
      "cell_type": "markdown",
      "source": [
        "데이터명 : IRIS (아이리스, 붗꽃 데이터)  \n",
        "레코드수 : 150개\n",
        "필드개수 : 4개\n",
        "\n",
        "데이터설명 : 아이리스(붓꽃) 데이터에 대한 데이터이다. 꽃잎의 각 부분의 너비와 길이등을 측정한 데이터이며 150개의 레코드로 구성되어 있다. 아이리스 꽃은 아래의 그림과 같다. 프랑스의 국화라고 한다.\n",
        "\n",
        "\n",
        "사용자 삽입 이미지\n",
        "\n",
        "필드의 이해 :\n",
        "데이터의 이해를 돕기 위해 포함된 4개의 변수에 대하여 간략하게 설명한다.  \n",
        "총 4개의 필드로 구성되어있다.\n",
        "\n",
        " Sepal Length\t꽃받침의 길이 정보이다.\n",
        "\n",
        " Sepal Width\t꽃받침의 너비 정보이다.\n",
        "\n",
        " Petal Length\t꽃잎의 길이 정보이다.\n",
        "\n",
        " Petal Width\t꽃잎의 너비 정보이다.  "
      ],
      "metadata": {
        "id": "qhXYsxx4-t8t"
      }
    },
    {
      "cell_type": "code",
      "execution_count": 1,
      "metadata": {
        "id": "e8LhnVKA7_J_"
      },
      "outputs": [],
      "source": [
        "from sklearn import datasets\n",
        "from sklearn.model_selection import train_test_split\n",
        "\n",
        "iris = datasets.load_iris()\n",
        "train_data, test_data, train_label, test_label = train_test_split(iris['data'], iris['target'], test_size=0.33, random_state=321)"
      ]
    },
    {
      "cell_type": "code",
      "source": [
        "#train_data.shape"
      ],
      "metadata": {
        "id": "5V0iwWU28Ngp"
      },
      "execution_count": 2,
      "outputs": []
    },
    {
      "cell_type": "code",
      "source": [
        "#train_label.shape"
      ],
      "metadata": {
        "id": "UKT_douo8PEW"
      },
      "execution_count": 3,
      "outputs": []
    },
    {
      "cell_type": "code",
      "source": [
        "#train_data[0:5]"
      ],
      "metadata": {
        "id": "y66vw2NO8ShU"
      },
      "execution_count": 4,
      "outputs": []
    },
    {
      "cell_type": "code",
      "source": [
        "#train_label[0:5]"
      ],
      "metadata": {
        "id": "mp9bP2nY8Zi8"
      },
      "execution_count": 5,
      "outputs": []
    },
    {
      "cell_type": "code",
      "source": [
        "# 학습 모델 만들기\n",
        "from tensorflow import keras\n",
        "from tensorflow.keras import layers\n",
        "\n",
        "model = keras.Sequential()\n",
        "\n",
        "# 주어진 데이터에 맞게 input_shape을 설정\n",
        "# model = model.add ( layers.Dense( ... ) )\n",
        "# ....\n",
        "\n",
        "# 마지막 layer는 출력에 맞게 Dense(3, activation='...')\n"
      ],
      "metadata": {
        "id": "WSphrGyb8efm"
      },
      "execution_count": 6,
      "outputs": []
    },
    {
      "cell_type": "code",
      "source": [
        "# loss 함수 정하기\n",
        "# model.compile( ... )"
      ],
      "metadata": {
        "id": "sxREZDHK8g3T"
      },
      "execution_count": 7,
      "outputs": []
    },
    {
      "cell_type": "code",
      "source": [
        "# 학습하기\n",
        "# model.fit( ... )"
      ],
      "metadata": {
        "id": "rl9-Ua3_81rx"
      },
      "execution_count": 8,
      "outputs": []
    }
  ]
}