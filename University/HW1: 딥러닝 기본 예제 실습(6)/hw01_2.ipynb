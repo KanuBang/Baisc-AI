{
 "cells": [
  {
   "cell_type": "markdown",
   "metadata": {
    "id": "qhXYsxx4-t8t"
   },
   "source": [
    "데이터명 : IRIS (아이리스, 붗꽃 데이터)  \n",
    "레코드수 : 150개\n",
    "필드개수 : 4개\n",
    "\n",
    "데이터설명 : 아이리스(붓꽃) 데이터에 대한 데이터이다. 꽃잎의 각 부분의 너비와 길이등을 측정한 데이터이며 150개의 레코드로 구성되어 있다. 아이리스 꽃은 아래의 그림과 같다. 프랑스의 국화라고 한다.\n",
    "\n",
    "\n",
    "사용자 삽입 이미지\n",
    "\n",
    "필드의 이해 :\n",
    "데이터의 이해를 돕기 위해 포함된 4개의 변수에 대하여 간략하게 설명한다.  \n",
    "총 4개의 필드로 구성되어있다.\n",
    "\n",
    " Sepal Length\t꽃받침의 길이 정보이다.\n",
    "\n",
    " Sepal Width\t꽃받침의 너비 정보이다.\n",
    "\n",
    " Petal Length\t꽃잎의 길이 정보이다.\n",
    "\n",
    " Petal Width\t꽃잎의 너비 정보이다.  "
   ]
  },
  {
   "cell_type": "code",
   "execution_count": 200,
   "metadata": {
    "id": "e8LhnVKA7_J_"
   },
   "outputs": [],
   "source": [
    "from sklearn import datasets\n",
    "from sklearn.model_selection import train_test_split\n",
    "\n",
    "iris = datasets.load_iris()\n",
    "train_data, test_data, train_label, test_label = train_test_split(iris['data'], iris['target'], test_size=0.33, random_state=321)"
   ]
  },
  {
   "cell_type": "code",
   "execution_count": 201,
   "metadata": {
    "id": "5V0iwWU28Ngp"
   },
   "outputs": [
    {
     "data": {
      "text/plain": [
       "(100, 4)"
      ]
     },
     "execution_count": 201,
     "metadata": {},
     "output_type": "execute_result"
    }
   ],
   "source": [
    "train_data.shape"
   ]
  },
  {
   "cell_type": "code",
   "execution_count": 202,
   "metadata": {
    "id": "UKT_douo8PEW"
   },
   "outputs": [
    {
     "data": {
      "text/plain": [
       "(100,)"
      ]
     },
     "execution_count": 202,
     "metadata": {},
     "output_type": "execute_result"
    }
   ],
   "source": [
    "train_label.shape"
   ]
  },
  {
   "cell_type": "code",
   "execution_count": 203,
   "metadata": {
    "id": "y66vw2NO8ShU"
   },
   "outputs": [
    {
     "name": "stdout",
     "output_type": "stream",
     "text": [
      "[[6.2 2.9 4.3 1.3]\n",
      " [5.7 2.8 4.1 1.3]\n",
      " [6.1 2.6 5.6 1.4]\n",
      " [5.4 3.4 1.7 0.2]\n",
      " [7.7 2.8 6.7 2. ]]\n"
     ]
    }
   ],
   "source": [
    "print(train_data[0:5])"
   ]
  },
  {
   "cell_type": "code",
   "execution_count": 204,
   "metadata": {
    "id": "mp9bP2nY8Zi8"
   },
   "outputs": [
    {
     "name": "stdout",
     "output_type": "stream",
     "text": [
      "[1 1 2]\n"
     ]
    }
   ],
   "source": [
    "print(train_label[0:3])"
   ]
  },
  {
   "cell_type": "code",
   "execution_count": 205,
   "metadata": {},
   "outputs": [
    {
     "name": "stdout",
     "output_type": "stream",
     "text": [
      "{0, 1, 2}\n"
     ]
    }
   ],
   "source": [
    "print(set(train_label))"
   ]
  },
  {
   "cell_type": "code",
   "execution_count": 206,
   "metadata": {
    "id": "WSphrGyb8efm"
   },
   "outputs": [
    {
     "name": "stdout",
     "output_type": "stream",
     "text": [
      "Model: \"sequential_16\"\n",
      "_________________________________________________________________\n",
      " Layer (type)                Output Shape              Param #   \n",
      "=================================================================\n",
      " dense_32 (Dense)            (None, 2)                 10        \n",
      "                                                                 \n",
      " dense_33 (Dense)            (None, 3)                 9         \n",
      "                                                                 \n",
      "=================================================================\n",
      "Total params: 19 (76.00 Byte)\n",
      "Trainable params: 19 (76.00 Byte)\n",
      "Non-trainable params: 0 (0.00 Byte)\n",
      "_________________________________________________________________\n"
     ]
    }
   ],
   "source": [
    "# 학습 모델 만들기\n",
    "from tensorflow import keras\n",
    "from tensorflow.keras import layers\n",
    "\n",
    "model = keras.Sequential()\n",
    "\n",
    "model.add(layers.Dense(2, activation='relu', input_shape=(4,)))\n",
    "model.add(layers.Dense(3,activation='softmax'))\n",
    "model.summary()\n",
    "# 주어진 데이터에 맞게 input_shape을 설정\n",
    "# model = model.add ( layers.Dense( ... ) )\n",
    "# ....\n",
    "\n",
    "# 마지막 layer는 출력에 맞게 Dense(3, activation='...')\n"
   ]
  },
  {
   "cell_type": "code",
   "execution_count": 207,
   "metadata": {
    "id": "sxREZDHK8g3T"
   },
   "outputs": [],
   "source": [
    "# loss 함수 정하기\n",
    "# model.compile( ... )\n",
    "model.compile(optimizer='rmsprop', loss='categorical_crossentropy', metrics=['accuracy'])"
   ]
  },
  {
   "cell_type": "code",
   "execution_count": 208,
   "metadata": {},
   "outputs": [],
   "source": [
    "from tensorflow.keras.utils import to_categorical\n",
    "train_label = to_categorical(train_label)"
   ]
  },
  {
   "cell_type": "code",
   "execution_count": 209,
   "metadata": {},
   "outputs": [
    {
     "name": "stdout",
     "output_type": "stream",
     "text": [
      "[[0. 1. 0.]\n",
      " [0. 1. 0.]\n",
      " [0. 0. 1.]]\n"
     ]
    }
   ],
   "source": [
    "print(train_label[:3])"
   ]
  },
  {
   "cell_type": "code",
   "execution_count": 210,
   "metadata": {},
   "outputs": [],
   "source": [
    "from sklearn.preprocessing import StandardScaler\n",
    "sc = StandardScaler()\n",
    "sc.fit(train_data)\n",
    "train_data = sc.transform(train_data)"
   ]
  },
  {
   "cell_type": "code",
   "execution_count": 211,
   "metadata": {},
   "outputs": [
    {
     "name": "stdout",
     "output_type": "stream",
     "text": [
      "[[ 0.39685687 -0.35326411  0.27211304  0.10723986]\n",
      " [-0.22713192 -0.59035411  0.15873261  0.10723986]\n",
      " [ 0.27205911 -1.06453412  1.00908586  0.23802017]]\n"
     ]
    }
   ],
   "source": [
    "print(train_data[:3])"
   ]
  },
  {
   "cell_type": "code",
   "execution_count": 212,
   "metadata": {
    "id": "rl9-Ua3_81rx"
   },
   "outputs": [
    {
     "name": "stdout",
     "output_type": "stream",
     "text": [
      "Epoch 1/200\n",
      "4/4 [==============================] - 0s 19ms/step - loss: 1.1796 - accuracy: 0.2500\n",
      "Epoch 2/200\n",
      "4/4 [==============================] - 0s 12ms/step - loss: 1.1626 - accuracy: 0.2500\n",
      "Epoch 3/200\n",
      "4/4 [==============================] - 0s 12ms/step - loss: 1.1506 - accuracy: 0.2600\n",
      "Epoch 4/200\n",
      "4/4 [==============================] - 0s 12ms/step - loss: 1.1428 - accuracy: 0.2700\n",
      "Epoch 5/200\n",
      "4/4 [==============================] - 0s 11ms/step - loss: 1.1342 - accuracy: 0.2900\n",
      "Epoch 6/200\n",
      "4/4 [==============================] - 0s 11ms/step - loss: 1.1273 - accuracy: 0.2900\n",
      "Epoch 7/200\n",
      "4/4 [==============================] - 0s 11ms/step - loss: 1.1195 - accuracy: 0.2900\n",
      "Epoch 8/200\n",
      "4/4 [==============================] - 0s 11ms/step - loss: 1.1119 - accuracy: 0.3000\n",
      "Epoch 9/200\n",
      "4/4 [==============================] - 0s 11ms/step - loss: 1.1049 - accuracy: 0.3100\n",
      "Epoch 10/200\n",
      "4/4 [==============================] - 0s 11ms/step - loss: 1.0987 - accuracy: 0.3200\n",
      "Epoch 11/200\n",
      "4/4 [==============================] - 0s 11ms/step - loss: 1.0915 - accuracy: 0.3200\n",
      "Epoch 12/200\n",
      "4/4 [==============================] - 0s 11ms/step - loss: 1.0846 - accuracy: 0.3200\n",
      "Epoch 13/200\n",
      "4/4 [==============================] - 0s 12ms/step - loss: 1.0779 - accuracy: 0.3400\n",
      "Epoch 14/200\n",
      "4/4 [==============================] - 0s 13ms/step - loss: 1.0722 - accuracy: 0.3700\n",
      "Epoch 15/200\n",
      "4/4 [==============================] - 0s 14ms/step - loss: 1.0665 - accuracy: 0.3900\n",
      "Epoch 16/200\n",
      "4/4 [==============================] - 0s 19ms/step - loss: 1.0605 - accuracy: 0.4200\n",
      "Epoch 17/200\n",
      "4/4 [==============================] - 0s 17ms/step - loss: 1.0549 - accuracy: 0.4100\n",
      "Epoch 18/200\n",
      "4/4 [==============================] - 0s 14ms/step - loss: 1.0491 - accuracy: 0.4100\n",
      "Epoch 19/200\n",
      "4/4 [==============================] - 0s 16ms/step - loss: 1.0438 - accuracy: 0.4200\n",
      "Epoch 20/200\n",
      "4/4 [==============================] - 0s 15ms/step - loss: 1.0378 - accuracy: 0.4200\n",
      "Epoch 21/200\n",
      "4/4 [==============================] - 0s 18ms/step - loss: 1.0331 - accuracy: 0.4300\n",
      "Epoch 22/200\n",
      "4/4 [==============================] - 0s 15ms/step - loss: 1.0284 - accuracy: 0.4300\n",
      "Epoch 23/200\n",
      "4/4 [==============================] - 0s 25ms/step - loss: 1.0233 - accuracy: 0.4500\n",
      "Epoch 24/200\n",
      "4/4 [==============================] - 0s 21ms/step - loss: 1.0188 - accuracy: 0.4500\n",
      "Epoch 25/200\n",
      "4/4 [==============================] - 0s 15ms/step - loss: 1.0134 - accuracy: 0.4800\n",
      "Epoch 26/200\n",
      "4/4 [==============================] - 0s 15ms/step - loss: 1.0085 - accuracy: 0.5000\n",
      "Epoch 27/200\n",
      "4/4 [==============================] - 0s 14ms/step - loss: 1.0040 - accuracy: 0.5100\n",
      "Epoch 28/200\n",
      "4/4 [==============================] - 0s 15ms/step - loss: 1.0000 - accuracy: 0.5200\n",
      "Epoch 29/200\n",
      "4/4 [==============================] - 0s 11ms/step - loss: 0.9952 - accuracy: 0.5200\n",
      "Epoch 30/200\n",
      "4/4 [==============================] - 0s 12ms/step - loss: 0.9907 - accuracy: 0.5400\n",
      "Epoch 31/200\n",
      "4/4 [==============================] - 0s 14ms/step - loss: 0.9853 - accuracy: 0.5400\n",
      "Epoch 32/200\n",
      "4/4 [==============================] - 0s 14ms/step - loss: 0.9800 - accuracy: 0.5500\n",
      "Epoch 33/200\n",
      "4/4 [==============================] - 0s 13ms/step - loss: 0.9757 - accuracy: 0.5500\n",
      "Epoch 34/200\n",
      "4/4 [==============================] - 0s 14ms/step - loss: 0.9716 - accuracy: 0.5600\n",
      "Epoch 35/200\n",
      "4/4 [==============================] - 0s 14ms/step - loss: 0.9659 - accuracy: 0.5600\n",
      "Epoch 36/200\n",
      "4/4 [==============================] - 0s 17ms/step - loss: 0.9621 - accuracy: 0.5600\n",
      "Epoch 37/200\n",
      "4/4 [==============================] - 0s 15ms/step - loss: 0.9587 - accuracy: 0.5600\n",
      "Epoch 38/200\n",
      "4/4 [==============================] - 0s 12ms/step - loss: 0.9545 - accuracy: 0.5600\n",
      "Epoch 39/200\n",
      "4/4 [==============================] - 0s 11ms/step - loss: 0.9497 - accuracy: 0.5700\n",
      "Epoch 40/200\n",
      "4/4 [==============================] - 0s 11ms/step - loss: 0.9455 - accuracy: 0.5700\n",
      "Epoch 41/200\n",
      "4/4 [==============================] - 0s 11ms/step - loss: 0.9415 - accuracy: 0.5800\n",
      "Epoch 42/200\n",
      "4/4 [==============================] - 0s 11ms/step - loss: 0.9384 - accuracy: 0.6000\n",
      "Epoch 43/200\n",
      "4/4 [==============================] - 0s 10ms/step - loss: 0.9332 - accuracy: 0.6000\n",
      "Epoch 44/200\n",
      "4/4 [==============================] - 0s 12ms/step - loss: 0.9291 - accuracy: 0.6000\n",
      "Epoch 45/200\n",
      "4/4 [==============================] - 0s 11ms/step - loss: 0.9246 - accuracy: 0.6000\n",
      "Epoch 46/200\n",
      "4/4 [==============================] - 0s 11ms/step - loss: 0.9220 - accuracy: 0.6100\n",
      "Epoch 47/200\n",
      "4/4 [==============================] - 0s 11ms/step - loss: 0.9184 - accuracy: 0.6100\n",
      "Epoch 48/200\n",
      "4/4 [==============================] - 0s 11ms/step - loss: 0.9151 - accuracy: 0.6200\n",
      "Epoch 49/200\n",
      "4/4 [==============================] - 0s 11ms/step - loss: 0.9106 - accuracy: 0.6200\n",
      "Epoch 50/200\n",
      "4/4 [==============================] - 0s 10ms/step - loss: 0.9070 - accuracy: 0.6200\n",
      "Epoch 51/200\n",
      "4/4 [==============================] - 0s 11ms/step - loss: 0.9031 - accuracy: 0.6200\n",
      "Epoch 52/200\n",
      "4/4 [==============================] - 0s 10ms/step - loss: 0.8983 - accuracy: 0.6300\n",
      "Epoch 53/200\n",
      "4/4 [==============================] - 0s 10ms/step - loss: 0.8938 - accuracy: 0.6400\n",
      "Epoch 54/200\n",
      "4/4 [==============================] - 0s 10ms/step - loss: 0.8889 - accuracy: 0.6400\n",
      "Epoch 55/200\n",
      "4/4 [==============================] - 0s 10ms/step - loss: 0.8840 - accuracy: 0.6500\n",
      "Epoch 56/200\n",
      "4/4 [==============================] - 0s 10ms/step - loss: 0.8791 - accuracy: 0.6500\n",
      "Epoch 57/200\n",
      "4/4 [==============================] - 0s 10ms/step - loss: 0.8743 - accuracy: 0.6600\n",
      "Epoch 58/200\n",
      "4/4 [==============================] - 0s 10ms/step - loss: 0.8695 - accuracy: 0.6600\n",
      "Epoch 59/200\n",
      "4/4 [==============================] - 0s 10ms/step - loss: 0.8649 - accuracy: 0.6700\n",
      "Epoch 60/200\n",
      "4/4 [==============================] - 0s 10ms/step - loss: 0.8601 - accuracy: 0.6800\n",
      "Epoch 61/200\n",
      "4/4 [==============================] - 0s 10ms/step - loss: 0.8558 - accuracy: 0.6800\n",
      "Epoch 62/200\n",
      "4/4 [==============================] - 0s 11ms/step - loss: 0.8497 - accuracy: 0.6900\n",
      "Epoch 63/200\n",
      "4/4 [==============================] - 0s 11ms/step - loss: 0.8445 - accuracy: 0.6900\n",
      "Epoch 64/200\n",
      "4/4 [==============================] - 0s 11ms/step - loss: 0.8397 - accuracy: 0.6800\n",
      "Epoch 65/200\n",
      "4/4 [==============================] - 0s 11ms/step - loss: 0.8354 - accuracy: 0.6900\n",
      "Epoch 66/200\n",
      "4/4 [==============================] - 0s 10ms/step - loss: 0.8299 - accuracy: 0.6900\n",
      "Epoch 67/200\n",
      "4/4 [==============================] - 0s 10ms/step - loss: 0.8248 - accuracy: 0.6900\n",
      "Epoch 68/200\n",
      "4/4 [==============================] - 0s 10ms/step - loss: 0.8200 - accuracy: 0.6900\n",
      "Epoch 69/200\n",
      "4/4 [==============================] - 0s 12ms/step - loss: 0.8143 - accuracy: 0.6900\n",
      "Epoch 70/200\n",
      "4/4 [==============================] - 0s 11ms/step - loss: 0.8099 - accuracy: 0.6900\n",
      "Epoch 71/200\n",
      "4/4 [==============================] - 0s 13ms/step - loss: 0.8043 - accuracy: 0.7000\n",
      "Epoch 72/200\n",
      "4/4 [==============================] - 0s 12ms/step - loss: 0.7992 - accuracy: 0.7300\n",
      "Epoch 73/200\n",
      "4/4 [==============================] - 0s 10ms/step - loss: 0.7941 - accuracy: 0.7200\n",
      "Epoch 74/200\n",
      "4/4 [==============================] - 0s 11ms/step - loss: 0.7883 - accuracy: 0.7300\n",
      "Epoch 75/200\n",
      "4/4 [==============================] - 0s 10ms/step - loss: 0.7835 - accuracy: 0.7300\n",
      "Epoch 76/200\n",
      "4/4 [==============================] - 0s 10ms/step - loss: 0.7781 - accuracy: 0.7300\n",
      "Epoch 77/200\n",
      "4/4 [==============================] - 0s 11ms/step - loss: 0.7723 - accuracy: 0.7400\n",
      "Epoch 78/200\n",
      "4/4 [==============================] - 0s 10ms/step - loss: 0.7668 - accuracy: 0.7500\n",
      "Epoch 79/200\n",
      "4/4 [==============================] - 0s 11ms/step - loss: 0.7621 - accuracy: 0.7400\n",
      "Epoch 80/200\n",
      "4/4 [==============================] - 0s 10ms/step - loss: 0.7569 - accuracy: 0.7700\n",
      "Epoch 81/200\n",
      "4/4 [==============================] - 0s 10ms/step - loss: 0.7518 - accuracy: 0.7700\n",
      "Epoch 82/200\n",
      "4/4 [==============================] - 0s 10ms/step - loss: 0.7462 - accuracy: 0.7600\n",
      "Epoch 83/200\n"
     ]
    },
    {
     "name": "stdout",
     "output_type": "stream",
     "text": [
      "4/4 [==============================] - 0s 10ms/step - loss: 0.7418 - accuracy: 0.7600\n",
      "Epoch 84/200\n",
      "4/4 [==============================] - 0s 11ms/step - loss: 0.7366 - accuracy: 0.7600\n",
      "Epoch 85/200\n",
      "4/4 [==============================] - 0s 13ms/step - loss: 0.7310 - accuracy: 0.7600\n",
      "Epoch 86/200\n",
      "4/4 [==============================] - 0s 10ms/step - loss: 0.7257 - accuracy: 0.7500\n",
      "Epoch 87/200\n",
      "4/4 [==============================] - 0s 10ms/step - loss: 0.7201 - accuracy: 0.7500\n",
      "Epoch 88/200\n",
      "4/4 [==============================] - 0s 11ms/step - loss: 0.7146 - accuracy: 0.7500\n",
      "Epoch 89/200\n",
      "4/4 [==============================] - 0s 11ms/step - loss: 0.7101 - accuracy: 0.7500\n",
      "Epoch 90/200\n",
      "4/4 [==============================] - 0s 11ms/step - loss: 0.7045 - accuracy: 0.7700\n",
      "Epoch 91/200\n",
      "4/4 [==============================] - 0s 12ms/step - loss: 0.6993 - accuracy: 0.7700\n",
      "Epoch 92/200\n",
      "4/4 [==============================] - 0s 12ms/step - loss: 0.6945 - accuracy: 0.8000\n",
      "Epoch 93/200\n",
      "4/4 [==============================] - 0s 11ms/step - loss: 0.6889 - accuracy: 0.8000\n",
      "Epoch 94/200\n",
      "4/4 [==============================] - 0s 12ms/step - loss: 0.6830 - accuracy: 0.8000\n",
      "Epoch 95/200\n",
      "4/4 [==============================] - 0s 13ms/step - loss: 0.6791 - accuracy: 0.8000\n",
      "Epoch 96/200\n",
      "4/4 [==============================] - 0s 17ms/step - loss: 0.6744 - accuracy: 0.8000\n",
      "Epoch 97/200\n",
      "4/4 [==============================] - 0s 18ms/step - loss: 0.6697 - accuracy: 0.8000\n",
      "Epoch 98/200\n",
      "4/4 [==============================] - 0s 15ms/step - loss: 0.6653 - accuracy: 0.8000\n",
      "Epoch 99/200\n",
      "4/4 [==============================] - 0s 16ms/step - loss: 0.6603 - accuracy: 0.7900\n",
      "Epoch 100/200\n",
      "4/4 [==============================] - 0s 14ms/step - loss: 0.6559 - accuracy: 0.7900\n",
      "Epoch 101/200\n",
      "4/4 [==============================] - 0s 15ms/step - loss: 0.6517 - accuracy: 0.8000\n",
      "Epoch 102/200\n",
      "4/4 [==============================] - 0s 13ms/step - loss: 0.6472 - accuracy: 0.8000\n",
      "Epoch 103/200\n",
      "4/4 [==============================] - 0s 13ms/step - loss: 0.6426 - accuracy: 0.8000\n",
      "Epoch 104/200\n",
      "4/4 [==============================] - 0s 11ms/step - loss: 0.6379 - accuracy: 0.8000\n",
      "Epoch 105/200\n",
      "4/4 [==============================] - 0s 12ms/step - loss: 0.6329 - accuracy: 0.8000\n",
      "Epoch 106/200\n",
      "4/4 [==============================] - 0s 11ms/step - loss: 0.6279 - accuracy: 0.7700\n",
      "Epoch 107/200\n",
      "4/4 [==============================] - 0s 10ms/step - loss: 0.6240 - accuracy: 0.8000\n",
      "Epoch 108/200\n",
      "4/4 [==============================] - 0s 10ms/step - loss: 0.6195 - accuracy: 0.8000\n",
      "Epoch 109/200\n",
      "4/4 [==============================] - 0s 10ms/step - loss: 0.6149 - accuracy: 0.7800\n",
      "Epoch 110/200\n",
      "4/4 [==============================] - 0s 10ms/step - loss: 0.6101 - accuracy: 0.7800\n",
      "Epoch 111/200\n",
      "4/4 [==============================] - 0s 10ms/step - loss: 0.6060 - accuracy: 0.7700\n",
      "Epoch 112/200\n",
      "4/4 [==============================] - 0s 10ms/step - loss: 0.6019 - accuracy: 0.7800\n",
      "Epoch 113/200\n",
      "4/4 [==============================] - 0s 12ms/step - loss: 0.5974 - accuracy: 0.7700\n",
      "Epoch 114/200\n",
      "4/4 [==============================] - 0s 15ms/step - loss: 0.5935 - accuracy: 0.7800\n",
      "Epoch 115/200\n",
      "4/4 [==============================] - 0s 14ms/step - loss: 0.5891 - accuracy: 0.8000\n",
      "Epoch 116/200\n",
      "4/4 [==============================] - 0s 12ms/step - loss: 0.5852 - accuracy: 0.8000\n",
      "Epoch 117/200\n",
      "4/4 [==============================] - 0s 12ms/step - loss: 0.5810 - accuracy: 0.8000\n",
      "Epoch 118/200\n",
      "4/4 [==============================] - 0s 12ms/step - loss: 0.5770 - accuracy: 0.8000\n",
      "Epoch 119/200\n",
      "4/4 [==============================] - 0s 12ms/step - loss: 0.5732 - accuracy: 0.8000\n",
      "Epoch 120/200\n",
      "4/4 [==============================] - 0s 11ms/step - loss: 0.5687 - accuracy: 0.8000\n",
      "Epoch 121/200\n",
      "4/4 [==============================] - 0s 13ms/step - loss: 0.5641 - accuracy: 0.8000\n",
      "Epoch 122/200\n",
      "4/4 [==============================] - 0s 13ms/step - loss: 0.5603 - accuracy: 0.8000\n",
      "Epoch 123/200\n",
      "4/4 [==============================] - 0s 12ms/step - loss: 0.5565 - accuracy: 0.8100\n",
      "Epoch 124/200\n",
      "4/4 [==============================] - 0s 11ms/step - loss: 0.5525 - accuracy: 0.8000\n",
      "Epoch 125/200\n",
      "4/4 [==============================] - 0s 12ms/step - loss: 0.5490 - accuracy: 0.8000\n",
      "Epoch 126/200\n",
      "4/4 [==============================] - 0s 11ms/step - loss: 0.5450 - accuracy: 0.8100\n",
      "Epoch 127/200\n",
      "4/4 [==============================] - 0s 11ms/step - loss: 0.5412 - accuracy: 0.8100\n",
      "Epoch 128/200\n",
      "4/4 [==============================] - 0s 13ms/step - loss: 0.5374 - accuracy: 0.8000\n",
      "Epoch 129/200\n",
      "4/4 [==============================] - 0s 12ms/step - loss: 0.5337 - accuracy: 0.8000\n",
      "Epoch 130/200\n",
      "4/4 [==============================] - 0s 14ms/step - loss: 0.5303 - accuracy: 0.8000\n",
      "Epoch 131/200\n",
      "4/4 [==============================] - 0s 13ms/step - loss: 0.5270 - accuracy: 0.8000\n",
      "Epoch 132/200\n",
      "4/4 [==============================] - 0s 13ms/step - loss: 0.5236 - accuracy: 0.8000\n",
      "Epoch 133/200\n",
      "4/4 [==============================] - 0s 12ms/step - loss: 0.5206 - accuracy: 0.7900\n",
      "Epoch 134/200\n",
      "4/4 [==============================] - 0s 11ms/step - loss: 0.5174 - accuracy: 0.7900\n",
      "Epoch 135/200\n",
      "4/4 [==============================] - 0s 12ms/step - loss: 0.5146 - accuracy: 0.7900\n",
      "Epoch 136/200\n",
      "4/4 [==============================] - 0s 12ms/step - loss: 0.5118 - accuracy: 0.8000\n",
      "Epoch 137/200\n",
      "4/4 [==============================] - 0s 13ms/step - loss: 0.5088 - accuracy: 0.8000\n",
      "Epoch 138/200\n",
      "4/4 [==============================] - 0s 13ms/step - loss: 0.5059 - accuracy: 0.8000\n",
      "Epoch 139/200\n",
      "4/4 [==============================] - 0s 12ms/step - loss: 0.5032 - accuracy: 0.8000\n",
      "Epoch 140/200\n",
      "4/4 [==============================] - 0s 12ms/step - loss: 0.5006 - accuracy: 0.8000\n",
      "Epoch 141/200\n",
      "4/4 [==============================] - 0s 12ms/step - loss: 0.4971 - accuracy: 0.8000\n",
      "Epoch 142/200\n",
      "4/4 [==============================] - 0s 12ms/step - loss: 0.4944 - accuracy: 0.8000\n",
      "Epoch 143/200\n",
      "4/4 [==============================] - 0s 12ms/step - loss: 0.4915 - accuracy: 0.8000\n",
      "Epoch 144/200\n",
      "4/4 [==============================] - 0s 12ms/step - loss: 0.4890 - accuracy: 0.8000\n",
      "Epoch 145/200\n",
      "4/4 [==============================] - 0s 12ms/step - loss: 0.4859 - accuracy: 0.8000\n",
      "Epoch 146/200\n",
      "4/4 [==============================] - 0s 12ms/step - loss: 0.4826 - accuracy: 0.8000\n",
      "Epoch 147/200\n",
      "4/4 [==============================] - 0s 14ms/step - loss: 0.4801 - accuracy: 0.8000\n",
      "Epoch 148/200\n",
      "4/4 [==============================] - 0s 13ms/step - loss: 0.4778 - accuracy: 0.7900\n",
      "Epoch 149/200\n",
      "4/4 [==============================] - 0s 17ms/step - loss: 0.4749 - accuracy: 0.7900\n",
      "Epoch 150/200\n",
      "4/4 [==============================] - 0s 20ms/step - loss: 0.4731 - accuracy: 0.7900\n",
      "Epoch 151/200\n",
      "4/4 [==============================] - 0s 17ms/step - loss: 0.4712 - accuracy: 0.7900\n",
      "Epoch 152/200\n",
      "4/4 [==============================] - 0s 17ms/step - loss: 0.4692 - accuracy: 0.7900\n",
      "Epoch 153/200\n",
      "4/4 [==============================] - 0s 21ms/step - loss: 0.4669 - accuracy: 0.7900\n",
      "Epoch 154/200\n",
      "4/4 [==============================] - 0s 16ms/step - loss: 0.4649 - accuracy: 0.7900\n",
      "Epoch 155/200\n",
      "4/4 [==============================] - 0s 13ms/step - loss: 0.4633 - accuracy: 0.7900\n",
      "Epoch 156/200\n",
      "4/4 [==============================] - 0s 14ms/step - loss: 0.4612 - accuracy: 0.7900\n",
      "Epoch 157/200\n",
      "4/4 [==============================] - 0s 14ms/step - loss: 0.4591 - accuracy: 0.7900\n",
      "Epoch 158/200\n",
      "4/4 [==============================] - 0s 13ms/step - loss: 0.4573 - accuracy: 0.7900\n",
      "Epoch 159/200\n",
      "4/4 [==============================] - 0s 10ms/step - loss: 0.4556 - accuracy: 0.7900\n",
      "Epoch 160/200\n",
      "4/4 [==============================] - 0s 11ms/step - loss: 0.4534 - accuracy: 0.7900\n",
      "Epoch 161/200\n",
      "4/4 [==============================] - 0s 10ms/step - loss: 0.4516 - accuracy: 0.7900\n",
      "Epoch 162/200\n",
      "4/4 [==============================] - 0s 10ms/step - loss: 0.4494 - accuracy: 0.7900\n",
      "Epoch 163/200\n",
      "4/4 [==============================] - 0s 10ms/step - loss: 0.4475 - accuracy: 0.7900\n",
      "Epoch 164/200\n",
      "4/4 [==============================] - 0s 10ms/step - loss: 0.4455 - accuracy: 0.7900\n",
      "Epoch 165/200\n"
     ]
    },
    {
     "name": "stdout",
     "output_type": "stream",
     "text": [
      "4/4 [==============================] - 0s 11ms/step - loss: 0.4436 - accuracy: 0.7900\n",
      "Epoch 166/200\n",
      "4/4 [==============================] - 0s 11ms/step - loss: 0.4414 - accuracy: 0.8000\n",
      "Epoch 167/200\n",
      "4/4 [==============================] - 0s 11ms/step - loss: 0.4398 - accuracy: 0.8000\n",
      "Epoch 168/200\n",
      "4/4 [==============================] - 0s 11ms/step - loss: 0.4380 - accuracy: 0.7900\n",
      "Epoch 169/200\n",
      "4/4 [==============================] - 0s 10ms/step - loss: 0.4357 - accuracy: 0.8000\n",
      "Epoch 170/200\n",
      "4/4 [==============================] - 0s 10ms/step - loss: 0.4339 - accuracy: 0.8000\n",
      "Epoch 171/200\n",
      "4/4 [==============================] - 0s 10ms/step - loss: 0.4324 - accuracy: 0.8000\n",
      "Epoch 172/200\n",
      "4/4 [==============================] - 0s 10ms/step - loss: 0.4307 - accuracy: 0.8000\n",
      "Epoch 173/200\n",
      "4/4 [==============================] - 0s 10ms/step - loss: 0.4285 - accuracy: 0.8000\n",
      "Epoch 174/200\n",
      "4/4 [==============================] - 0s 12ms/step - loss: 0.4271 - accuracy: 0.8000\n",
      "Epoch 175/200\n",
      "4/4 [==============================] - 0s 10ms/step - loss: 0.4251 - accuracy: 0.8100\n",
      "Epoch 176/200\n",
      "4/4 [==============================] - 0s 10ms/step - loss: 0.4236 - accuracy: 0.8100\n",
      "Epoch 177/200\n",
      "4/4 [==============================] - 0s 10ms/step - loss: 0.4218 - accuracy: 0.8100\n",
      "Epoch 178/200\n",
      "4/4 [==============================] - 0s 10ms/step - loss: 0.4200 - accuracy: 0.8100\n",
      "Epoch 179/200\n",
      "4/4 [==============================] - 0s 10ms/step - loss: 0.4184 - accuracy: 0.8100\n",
      "Epoch 180/200\n",
      "4/4 [==============================] - 0s 10ms/step - loss: 0.4170 - accuracy: 0.8100\n",
      "Epoch 181/200\n",
      "4/4 [==============================] - 0s 19ms/step - loss: 0.4152 - accuracy: 0.8100\n",
      "Epoch 182/200\n",
      "4/4 [==============================] - 0s 22ms/step - loss: 0.4136 - accuracy: 0.8100\n",
      "Epoch 183/200\n",
      "4/4 [==============================] - 0s 11ms/step - loss: 0.4121 - accuracy: 0.8100\n",
      "Epoch 184/200\n",
      "4/4 [==============================] - 0s 11ms/step - loss: 0.4110 - accuracy: 0.8100\n",
      "Epoch 185/200\n",
      "4/4 [==============================] - 0s 11ms/step - loss: 0.4097 - accuracy: 0.8100\n",
      "Epoch 186/200\n",
      "4/4 [==============================] - 0s 12ms/step - loss: 0.4082 - accuracy: 0.8100\n",
      "Epoch 187/200\n",
      "4/4 [==============================] - 0s 12ms/step - loss: 0.4063 - accuracy: 0.8100\n",
      "Epoch 188/200\n",
      "4/4 [==============================] - 0s 13ms/step - loss: 0.4047 - accuracy: 0.8100\n",
      "Epoch 189/200\n",
      "4/4 [==============================] - 0s 11ms/step - loss: 0.4032 - accuracy: 0.8100\n",
      "Epoch 190/200\n",
      "4/4 [==============================] - 0s 10ms/step - loss: 0.4016 - accuracy: 0.8100\n",
      "Epoch 191/200\n",
      "4/4 [==============================] - 0s 25ms/step - loss: 0.4003 - accuracy: 0.8200\n",
      "Epoch 192/200\n",
      "4/4 [==============================] - 0s 22ms/step - loss: 0.3987 - accuracy: 0.8200\n",
      "Epoch 193/200\n",
      "4/4 [==============================] - 0s 13ms/step - loss: 0.3967 - accuracy: 0.8200\n",
      "Epoch 194/200\n",
      "4/4 [==============================] - 0s 13ms/step - loss: 0.3952 - accuracy: 0.8300\n",
      "Epoch 195/200\n",
      "4/4 [==============================] - 0s 16ms/step - loss: 0.3940 - accuracy: 0.8300\n",
      "Epoch 196/200\n",
      "4/4 [==============================] - 0s 14ms/step - loss: 0.3921 - accuracy: 0.8300\n",
      "Epoch 197/200\n",
      "4/4 [==============================] - 0s 17ms/step - loss: 0.3907 - accuracy: 0.8300\n",
      "Epoch 198/200\n",
      "4/4 [==============================] - 0s 23ms/step - loss: 0.3891 - accuracy: 0.8300\n",
      "Epoch 199/200\n",
      "4/4 [==============================] - 0s 21ms/step - loss: 0.3876 - accuracy: 0.8300\n",
      "Epoch 200/200\n",
      "4/4 [==============================] - 0s 16ms/step - loss: 0.3859 - accuracy: 0.8300\n"
     ]
    },
    {
     "data": {
      "text/plain": [
       "<keras.src.callbacks.History at 0x2994d7450>"
      ]
     },
     "execution_count": 212,
     "metadata": {},
     "output_type": "execute_result"
    }
   ],
   "source": [
    "# 학습하기\n",
    "# model.fit( ... )\n",
    "model.fit(train_data,train_label,epochs=200)"
   ]
  }
 ],
 "metadata": {
  "colab": {
   "provenance": []
  },
  "kernelspec": {
   "display_name": "Python 3 (ipykernel)",
   "language": "python",
   "name": "python3"
  },
  "language_info": {
   "codemirror_mode": {
    "name": "ipython",
    "version": 3
   },
   "file_extension": ".py",
   "mimetype": "text/x-python",
   "name": "python",
   "nbconvert_exporter": "python",
   "pygments_lexer": "ipython3",
   "version": "3.11.4"
  }
 },
 "nbformat": 4,
 "nbformat_minor": 1
}
