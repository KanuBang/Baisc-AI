{
 "cells": [
  {
   "cell_type": "code",
   "execution_count": 62,
   "id": "43015f30",
   "metadata": {},
   "outputs": [],
   "source": [
    "from sklearn import datasets\n",
    "diabetes = datasets.load_diabetes()"
   ]
  },
  {
   "cell_type": "code",
   "execution_count": 63,
   "id": "9e08367f",
   "metadata": {},
   "outputs": [],
   "source": [
    "x_train = diabetes.data\n",
    "x_target = diabetes.target"
   ]
  },
  {
   "cell_type": "code",
   "execution_count": 64,
   "id": "99ea2c49",
   "metadata": {},
   "outputs": [
    {
     "data": {
      "text/plain": [
       "(442, 10)"
      ]
     },
     "execution_count": 64,
     "metadata": {},
     "output_type": "execute_result"
    }
   ],
   "source": [
    "x_train.shape # 입력 10"
   ]
  },
  {
   "cell_type": "code",
   "execution_count": 65,
   "id": "67437441",
   "metadata": {},
   "outputs": [
    {
     "data": {
      "text/plain": [
       "(442,)"
      ]
     },
     "execution_count": 65,
     "metadata": {},
     "output_type": "execute_result"
    }
   ],
   "source": [
    "x_target.shape"
   ]
  },
  {
   "cell_type": "code",
   "execution_count": 66,
   "id": "20b6ddef",
   "metadata": {},
   "outputs": [
    {
     "name": "stdout",
     "output_type": "stream",
     "text": [
      "[151.  75. 141.]\n"
     ]
    }
   ],
   "source": [
    "print(x_target[:3]) # 출력: 회귀 문제이기에 1"
   ]
  },
  {
   "cell_type": "code",
   "execution_count": 67,
   "id": "f928c109",
   "metadata": {},
   "outputs": [
    {
     "name": "stdout",
     "output_type": "stream",
     "text": [
      "Model: \"sequential_4\"\n",
      "_________________________________________________________________\n",
      " Layer (type)                Output Shape              Param #   \n",
      "=================================================================\n",
      " dense_8 (Dense)             (None, 16)                176       \n",
      "                                                                 \n",
      " dense_9 (Dense)             (None, 1)                 17        \n",
      "                                                                 \n",
      "=================================================================\n",
      "Total params: 193 (772.00 Byte)\n",
      "Trainable params: 193 (772.00 Byte)\n",
      "Non-trainable params: 0 (0.00 Byte)\n",
      "_________________________________________________________________\n"
     ]
    }
   ],
   "source": [
    "from tensorflow import keras\n",
    "from tensorflow.keras import layers\n",
    "\n",
    "model = keras.Sequential()\n",
    "\n",
    "model.add(layers.Dense(16, activation='relu', input_shape=(10,)))\n",
    "model.add(layers.Dense(1, activation='linear'))\n",
    "\n",
    "model.summary()"
   ]
  },
  {
   "cell_type": "code",
   "execution_count": 68,
   "id": "56ebc92e",
   "metadata": {},
   "outputs": [],
   "source": [
    "model.compile(optimizer='rmsprop', loss='mse', metrics='mae')"
   ]
  },
  {
   "cell_type": "code",
   "execution_count": 69,
   "id": "792bae20",
   "metadata": {},
   "outputs": [
    {
     "name": "stdout",
     "output_type": "stream",
     "text": [
      "Epoch 1/5\n",
      "14/14 [==============================] - 1s 12ms/step - loss: 29055.6875 - mae: 152.0799\n",
      "Epoch 2/5\n",
      "14/14 [==============================] - 0s 20ms/step - loss: 29032.5977 - mae: 152.0035\n",
      "Epoch 3/5\n",
      "14/14 [==============================] - 0s 13ms/step - loss: 29011.9707 - mae: 151.9356\n",
      "Epoch 4/5\n",
      "14/14 [==============================] - 0s 12ms/step - loss: 28990.8125 - mae: 151.8659\n",
      "Epoch 5/5\n",
      "14/14 [==============================] - 0s 11ms/step - loss: 28969.2891 - mae: 151.7958\n"
     ]
    },
    {
     "data": {
      "text/plain": [
       "<keras.src.callbacks.History at 0x299eba350>"
      ]
     },
     "execution_count": 69,
     "metadata": {},
     "output_type": "execute_result"
    }
   ],
   "source": [
    "model.fit(x_train,x_target,epochs=5)"
   ]
  },
  {
   "cell_type": "markdown",
   "id": "ccccda1e",
   "metadata": {},
   "source": [
    "### 손실이 너무 크다. 표준화가 필요하다."
   ]
  },
  {
   "cell_type": "code",
   "execution_count": 77,
   "id": "3527b42c",
   "metadata": {},
   "outputs": [],
   "source": [
    "from sklearn.preprocessing import StandardScaler\n",
    "\n",
    "sc = StandardScaler()\n",
    "x_target = x_target.reshape((-1,1))\n",
    "sc.fit(x_target)\n",
    "x_target = sc.transform(x_target)"
   ]
  },
  {
   "cell_type": "markdown",
   "id": "af9e193b",
   "metadata": {},
   "source": [
    "\n",
    "As a general rule of thumb, you do not need to standardize the target data in classification tasks. This is because the target variable represents the classes that you are trying to predict, and you do not want to change the distribution of the classes.\n",
    "\n",
    "However, in regression tasks, you may want to standardize the target variable. This is because regression tasks are trying to predict a continuous value, such as the price of a house or the number of customers who will visit a store. Standardizing the target variable can make it easier for your model to learn to predict the continuous value accurately."
   ]
  },
  {
   "cell_type": "code",
   "execution_count": 76,
   "id": "d4bfb8d3",
   "metadata": {},
   "outputs": [
    {
     "name": "stdout",
     "output_type": "stream",
     "text": [
      "Epoch 1/100\n",
      "14/14 [==============================] - 0s 9ms/step - loss: 0.4880 - mae: 0.5657\n",
      "Epoch 2/100\n",
      "14/14 [==============================] - 0s 9ms/step - loss: 0.4870 - mae: 0.5655\n",
      "Epoch 3/100\n",
      "14/14 [==============================] - 0s 9ms/step - loss: 0.4879 - mae: 0.5654\n",
      "Epoch 4/100\n",
      "14/14 [==============================] - 0s 9ms/step - loss: 0.4874 - mae: 0.5661\n",
      "Epoch 5/100\n",
      "14/14 [==============================] - 0s 12ms/step - loss: 0.4885 - mae: 0.5658\n",
      "Epoch 6/100\n",
      "14/14 [==============================] - 0s 10ms/step - loss: 0.4868 - mae: 0.5651\n",
      "Epoch 7/100\n",
      "14/14 [==============================] - 0s 11ms/step - loss: 0.4878 - mae: 0.5661\n",
      "Epoch 8/100\n",
      "14/14 [==============================] - 0s 12ms/step - loss: 0.4883 - mae: 0.5653\n",
      "Epoch 9/100\n",
      "14/14 [==============================] - 0s 13ms/step - loss: 0.4867 - mae: 0.5646\n",
      "Epoch 10/100\n",
      "14/14 [==============================] - 0s 12ms/step - loss: 0.4872 - mae: 0.5651\n",
      "Epoch 11/100\n",
      "14/14 [==============================] - 0s 14ms/step - loss: 0.4872 - mae: 0.5649\n",
      "Epoch 12/100\n",
      "14/14 [==============================] - 0s 11ms/step - loss: 0.4870 - mae: 0.5643\n",
      "Epoch 13/100\n",
      "14/14 [==============================] - 0s 11ms/step - loss: 0.4871 - mae: 0.5652\n",
      "Epoch 14/100\n",
      "14/14 [==============================] - 0s 11ms/step - loss: 0.4875 - mae: 0.5653\n",
      "Epoch 15/100\n",
      "14/14 [==============================] - 0s 13ms/step - loss: 0.4865 - mae: 0.5650\n",
      "Epoch 16/100\n",
      "14/14 [==============================] - 0s 11ms/step - loss: 0.4873 - mae: 0.5653\n",
      "Epoch 17/100\n",
      "14/14 [==============================] - 0s 18ms/step - loss: 0.4870 - mae: 0.5649\n",
      "Epoch 18/100\n",
      "14/14 [==============================] - 0s 12ms/step - loss: 0.4875 - mae: 0.5652\n",
      "Epoch 19/100\n",
      "14/14 [==============================] - 0s 10ms/step - loss: 0.4872 - mae: 0.5652\n",
      "Epoch 20/100\n",
      "14/14 [==============================] - 0s 9ms/step - loss: 0.4873 - mae: 0.5652\n",
      "Epoch 21/100\n",
      "14/14 [==============================] - 0s 9ms/step - loss: 0.4875 - mae: 0.5656\n",
      "Epoch 22/100\n",
      "14/14 [==============================] - 0s 12ms/step - loss: 0.4870 - mae: 0.5652\n",
      "Epoch 23/100\n",
      "14/14 [==============================] - 0s 23ms/step - loss: 0.4869 - mae: 0.5648\n",
      "Epoch 24/100\n",
      "14/14 [==============================] - 0s 15ms/step - loss: 0.4871 - mae: 0.5649\n",
      "Epoch 25/100\n",
      "14/14 [==============================] - 0s 13ms/step - loss: 0.4868 - mae: 0.5647\n",
      "Epoch 26/100\n",
      "14/14 [==============================] - 0s 12ms/step - loss: 0.4880 - mae: 0.5651\n",
      "Epoch 27/100\n",
      "14/14 [==============================] - 0s 15ms/step - loss: 0.4868 - mae: 0.5648\n",
      "Epoch 28/100\n",
      "14/14 [==============================] - 1s 39ms/step - loss: 0.4870 - mae: 0.5647\n",
      "Epoch 29/100\n",
      "14/14 [==============================] - 0s 13ms/step - loss: 0.4872 - mae: 0.5651\n",
      "Epoch 30/100\n",
      "14/14 [==============================] - 0s 16ms/step - loss: 0.4875 - mae: 0.5654\n",
      "Epoch 31/100\n",
      "14/14 [==============================] - 0s 19ms/step - loss: 0.4872 - mae: 0.5649\n",
      "Epoch 32/100\n",
      "14/14 [==============================] - 0s 15ms/step - loss: 0.4864 - mae: 0.5652\n",
      "Epoch 33/100\n",
      "14/14 [==============================] - 0s 14ms/step - loss: 0.4874 - mae: 0.5650\n",
      "Epoch 34/100\n",
      "14/14 [==============================] - 0s 12ms/step - loss: 0.4862 - mae: 0.5645\n",
      "Epoch 35/100\n",
      "14/14 [==============================] - 0s 10ms/step - loss: 0.4873 - mae: 0.5649\n",
      "Epoch 36/100\n",
      "14/14 [==============================] - 0s 12ms/step - loss: 0.4872 - mae: 0.5649\n",
      "Epoch 37/100\n",
      "14/14 [==============================] - 0s 12ms/step - loss: 0.4874 - mae: 0.5650\n",
      "Epoch 38/100\n",
      "14/14 [==============================] - 0s 10ms/step - loss: 0.4869 - mae: 0.5650\n",
      "Epoch 39/100\n",
      "14/14 [==============================] - 0s 11ms/step - loss: 0.4865 - mae: 0.5645\n",
      "Epoch 40/100\n",
      "14/14 [==============================] - 0s 13ms/step - loss: 0.4866 - mae: 0.5646\n",
      "Epoch 41/100\n",
      "14/14 [==============================] - 0s 17ms/step - loss: 0.4872 - mae: 0.5648\n",
      "Epoch 42/100\n",
      "14/14 [==============================] - 0s 19ms/step - loss: 0.4868 - mae: 0.5643\n",
      "Epoch 43/100\n",
      "14/14 [==============================] - 0s 14ms/step - loss: 0.4869 - mae: 0.5650\n",
      "Epoch 44/100\n",
      "14/14 [==============================] - 0s 10ms/step - loss: 0.4868 - mae: 0.5648\n",
      "Epoch 45/100\n",
      "14/14 [==============================] - 0s 17ms/step - loss: 0.4868 - mae: 0.5638\n",
      "Epoch 46/100\n",
      "14/14 [==============================] - 0s 14ms/step - loss: 0.4867 - mae: 0.5643\n",
      "Epoch 47/100\n",
      "14/14 [==============================] - 0s 14ms/step - loss: 0.4870 - mae: 0.5647\n",
      "Epoch 48/100\n",
      "14/14 [==============================] - 0s 11ms/step - loss: 0.4874 - mae: 0.5654\n",
      "Epoch 49/100\n",
      "14/14 [==============================] - 0s 10ms/step - loss: 0.4871 - mae: 0.5650\n",
      "Epoch 50/100\n",
      "14/14 [==============================] - 0s 11ms/step - loss: 0.4868 - mae: 0.5648\n",
      "Epoch 51/100\n",
      "14/14 [==============================] - 0s 11ms/step - loss: 0.4872 - mae: 0.5650\n",
      "Epoch 52/100\n",
      "14/14 [==============================] - 0s 13ms/step - loss: 0.4864 - mae: 0.5646\n",
      "Epoch 53/100\n",
      "14/14 [==============================] - 0s 11ms/step - loss: 0.4864 - mae: 0.5641\n",
      "Epoch 54/100\n",
      "14/14 [==============================] - 0s 11ms/step - loss: 0.4872 - mae: 0.5643\n",
      "Epoch 55/100\n",
      "14/14 [==============================] - 0s 11ms/step - loss: 0.4866 - mae: 0.5645\n",
      "Epoch 56/100\n",
      "14/14 [==============================] - 0s 11ms/step - loss: 0.4870 - mae: 0.5649\n",
      "Epoch 57/100\n",
      "14/14 [==============================] - 0s 11ms/step - loss: 0.4868 - mae: 0.5644\n",
      "Epoch 58/100\n",
      "14/14 [==============================] - 0s 13ms/step - loss: 0.4872 - mae: 0.5645\n",
      "Epoch 59/100\n",
      "14/14 [==============================] - 0s 11ms/step - loss: 0.4872 - mae: 0.5650\n",
      "Epoch 60/100\n",
      "14/14 [==============================] - 0s 11ms/step - loss: 0.4865 - mae: 0.5643\n",
      "Epoch 61/100\n",
      "14/14 [==============================] - 0s 11ms/step - loss: 0.4875 - mae: 0.5654\n",
      "Epoch 62/100\n",
      "14/14 [==============================] - 0s 11ms/step - loss: 0.4870 - mae: 0.5647\n",
      "Epoch 63/100\n",
      "14/14 [==============================] - 0s 11ms/step - loss: 0.4873 - mae: 0.5660\n",
      "Epoch 64/100\n",
      "14/14 [==============================] - 0s 11ms/step - loss: 0.4866 - mae: 0.5646\n",
      "Epoch 65/100\n",
      "14/14 [==============================] - 0s 12ms/step - loss: 0.4864 - mae: 0.5645\n",
      "Epoch 66/100\n",
      "14/14 [==============================] - 0s 11ms/step - loss: 0.4875 - mae: 0.5651\n",
      "Epoch 67/100\n",
      "14/14 [==============================] - 0s 11ms/step - loss: 0.4867 - mae: 0.5647\n",
      "Epoch 68/100\n",
      "14/14 [==============================] - 0s 12ms/step - loss: 0.4869 - mae: 0.5647\n",
      "Epoch 69/100\n",
      "14/14 [==============================] - 0s 11ms/step - loss: 0.4869 - mae: 0.5641\n",
      "Epoch 70/100\n",
      "14/14 [==============================] - 0s 13ms/step - loss: 0.4868 - mae: 0.5643\n",
      "Epoch 71/100\n",
      "14/14 [==============================] - 0s 17ms/step - loss: 0.4877 - mae: 0.5653\n",
      "Epoch 72/100\n",
      "14/14 [==============================] - 0s 12ms/step - loss: 0.4866 - mae: 0.5642\n",
      "Epoch 73/100\n",
      "14/14 [==============================] - 0s 13ms/step - loss: 0.4867 - mae: 0.5647\n",
      "Epoch 74/100\n",
      "14/14 [==============================] - 0s 10ms/step - loss: 0.4869 - mae: 0.5644\n",
      "Epoch 75/100\n",
      "14/14 [==============================] - 0s 11ms/step - loss: 0.4866 - mae: 0.5644\n",
      "Epoch 76/100\n",
      "14/14 [==============================] - 0s 14ms/step - loss: 0.4871 - mae: 0.5646\n",
      "Epoch 77/100\n",
      "14/14 [==============================] - 0s 10ms/step - loss: 0.4864 - mae: 0.5641\n",
      "Epoch 78/100\n",
      "14/14 [==============================] - 0s 9ms/step - loss: 0.4873 - mae: 0.5654\n",
      "Epoch 79/100\n",
      "14/14 [==============================] - 0s 9ms/step - loss: 0.4868 - mae: 0.5645\n",
      "Epoch 80/100\n",
      "14/14 [==============================] - 0s 9ms/step - loss: 0.4867 - mae: 0.5644\n",
      "Epoch 81/100\n",
      "14/14 [==============================] - 0s 9ms/step - loss: 0.4872 - mae: 0.5649\n",
      "Epoch 82/100\n",
      "14/14 [==============================] - 0s 8ms/step - loss: 0.4863 - mae: 0.5641\n",
      "Epoch 83/100\n",
      "14/14 [==============================] - 0s 8ms/step - loss: 0.4867 - mae: 0.5636\n",
      "Epoch 84/100\n",
      "14/14 [==============================] - 0s 9ms/step - loss: 0.4862 - mae: 0.5643\n",
      "Epoch 85/100\n",
      "14/14 [==============================] - 0s 11ms/step - loss: 0.4877 - mae: 0.5650\n",
      "Epoch 86/100\n"
     ]
    },
    {
     "name": "stdout",
     "output_type": "stream",
     "text": [
      "14/14 [==============================] - 0s 29ms/step - loss: 0.4868 - mae: 0.5645\n",
      "Epoch 87/100\n",
      "14/14 [==============================] - 0s 13ms/step - loss: 0.4865 - mae: 0.5645\n",
      "Epoch 88/100\n",
      "14/14 [==============================] - 0s 9ms/step - loss: 0.4868 - mae: 0.5645\n",
      "Epoch 89/100\n",
      "14/14 [==============================] - 0s 9ms/step - loss: 0.4871 - mae: 0.5650\n",
      "Epoch 90/100\n",
      "14/14 [==============================] - 0s 9ms/step - loss: 0.4867 - mae: 0.5649\n",
      "Epoch 91/100\n",
      "14/14 [==============================] - 0s 9ms/step - loss: 0.4873 - mae: 0.5645\n",
      "Epoch 92/100\n",
      "14/14 [==============================] - 0s 9ms/step - loss: 0.4873 - mae: 0.5652\n",
      "Epoch 93/100\n",
      "14/14 [==============================] - 0s 11ms/step - loss: 0.4866 - mae: 0.5645\n",
      "Epoch 94/100\n",
      "14/14 [==============================] - 0s 9ms/step - loss: 0.4872 - mae: 0.5653\n",
      "Epoch 95/100\n",
      "14/14 [==============================] - 0s 9ms/step - loss: 0.4867 - mae: 0.5648\n",
      "Epoch 96/100\n",
      "14/14 [==============================] - 0s 9ms/step - loss: 0.4864 - mae: 0.5645\n",
      "Epoch 97/100\n",
      "14/14 [==============================] - 0s 9ms/step - loss: 0.4869 - mae: 0.5646\n",
      "Epoch 98/100\n",
      "14/14 [==============================] - 0s 8ms/step - loss: 0.4868 - mae: 0.5649\n",
      "Epoch 99/100\n",
      "14/14 [==============================] - 0s 8ms/step - loss: 0.4870 - mae: 0.5648\n",
      "Epoch 100/100\n",
      "14/14 [==============================] - 0s 8ms/step - loss: 0.4865 - mae: 0.5647\n"
     ]
    },
    {
     "data": {
      "text/plain": [
       "<keras.src.callbacks.History at 0x29e9ad450>"
      ]
     },
     "execution_count": 76,
     "metadata": {},
     "output_type": "execute_result"
    }
   ],
   "source": [
    "model.fit(x_train,x_target,epochs=100)"
   ]
  }
 ],
 "metadata": {
  "kernelspec": {
   "display_name": "Python 3 (ipykernel)",
   "language": "python",
   "name": "python3"
  },
  "language_info": {
   "codemirror_mode": {
    "name": "ipython",
    "version": 3
   },
   "file_extension": ".py",
   "mimetype": "text/x-python",
   "name": "python",
   "nbconvert_exporter": "python",
   "pygments_lexer": "ipython3",
   "version": "3.11.4"
  }
 },
 "nbformat": 4,
 "nbformat_minor": 5
}
