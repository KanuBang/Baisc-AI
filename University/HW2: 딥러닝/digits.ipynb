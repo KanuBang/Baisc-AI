{
 "cells": [
  {
   "cell_type": "code",
   "execution_count": 22,
   "id": "fe3d5050",
   "metadata": {},
   "outputs": [],
   "source": [
    "from sklearn import datasets\n",
    "digits = datasets.load_digits()"
   ]
  },
  {
   "cell_type": "code",
   "execution_count": 23,
   "id": "f805fa2a",
   "metadata": {},
   "outputs": [
    {
     "data": {
      "text/plain": [
       "(1797, 64)"
      ]
     },
     "execution_count": 23,
     "metadata": {},
     "output_type": "execute_result"
    }
   ],
   "source": [
    "x_input = digits.data\n",
    "x_input.shape"
   ]
  },
  {
   "cell_type": "code",
   "execution_count": 24,
   "id": "8d43339e",
   "metadata": {},
   "outputs": [
    {
     "data": {
      "text/plain": [
       "(1797,)"
      ]
     },
     "execution_count": 24,
     "metadata": {},
     "output_type": "execute_result"
    }
   ],
   "source": [
    "x_target = digits.target\n",
    "x_target.shape"
   ]
  },
  {
   "cell_type": "code",
   "execution_count": 25,
   "id": "58458c41",
   "metadata": {},
   "outputs": [
    {
     "name": "stdout",
     "output_type": "stream",
     "text": [
      "[0 1 2]\n"
     ]
    }
   ],
   "source": [
    "print(x_target[:3])"
   ]
  },
  {
   "cell_type": "code",
   "execution_count": 26,
   "id": "69c3c603",
   "metadata": {},
   "outputs": [],
   "source": [
    "# 아마 입력은 64, 출력은 10일 거다(10종류를 분류하기 때문에)\n",
    "# 이 문제는 일단 다항 분류이다."
   ]
  },
  {
   "cell_type": "code",
   "execution_count": 27,
   "id": "ce3a42ae",
   "metadata": {},
   "outputs": [
    {
     "name": "stdout",
     "output_type": "stream",
     "text": [
      "Model: \"sequential_1\"\n",
      "_________________________________________________________________\n",
      " Layer (type)                Output Shape              Param #   \n",
      "=================================================================\n",
      " dense_2 (Dense)             (None, 16)                1040      \n",
      "                                                                 \n",
      " dense_3 (Dense)             (None, 10)                170       \n",
      "                                                                 \n",
      "=================================================================\n",
      "Total params: 1210 (4.73 KB)\n",
      "Trainable params: 1210 (4.73 KB)\n",
      "Non-trainable params: 0 (0.00 Byte)\n",
      "_________________________________________________________________\n"
     ]
    }
   ],
   "source": [
    "from tensorflow import keras\n",
    "from tensorflow.keras import layers\n",
    "\n",
    "model = keras.Sequential()\n",
    "model.add(layers.Dense(16, activation='relu', input_shape=(64,)))\n",
    "model.add(layers.Dense(10, activation='softmax'))\n",
    "\n",
    "model.summary()"
   ]
  },
  {
   "cell_type": "code",
   "execution_count": 28,
   "id": "e9f35329",
   "metadata": {},
   "outputs": [],
   "source": [
    "model.compile(optimizer='rmsprop', loss='categorical_crossentropy', metrics=['accuracy'])"
   ]
  },
  {
   "cell_type": "code",
   "execution_count": 29,
   "id": "b446962a",
   "metadata": {},
   "outputs": [
    {
     "name": "stdout",
     "output_type": "stream",
     "text": [
      "[[1. 0. 0. 0. 0. 0. 0. 0. 0. 0.]\n",
      " [0. 1. 0. 0. 0. 0. 0. 0. 0. 0.]\n",
      " [0. 0. 1. 0. 0. 0. 0. 0. 0. 0.]]\n"
     ]
    }
   ],
   "source": [
    "from tensorflow.keras.utils import to_categorical\n",
    "\n",
    "x_target = to_categorical(x_target)\n",
    "print(x_target[:3])"
   ]
  },
  {
   "cell_type": "code",
   "execution_count": 31,
   "id": "6be6a12c",
   "metadata": {},
   "outputs": [
    {
     "name": "stdout",
     "output_type": "stream",
     "text": [
      "Epoch 1/35\n",
      "57/57 [==============================] - 1s 9ms/step - loss: 0.6126 - accuracy: 0.8386\n",
      "Epoch 2/35\n",
      "57/57 [==============================] - 1s 9ms/step - loss: 0.5003 - accuracy: 0.8648\n",
      "Epoch 3/35\n",
      "57/57 [==============================] - 1s 9ms/step - loss: 0.4191 - accuracy: 0.8854\n",
      "Epoch 4/35\n",
      "57/57 [==============================] - 1s 9ms/step - loss: 0.3703 - accuracy: 0.8998\n",
      "Epoch 5/35\n",
      "57/57 [==============================] - 1s 9ms/step - loss: 0.3228 - accuracy: 0.9143\n",
      "Epoch 6/35\n",
      "57/57 [==============================] - 1s 9ms/step - loss: 0.2861 - accuracy: 0.9226\n",
      "Epoch 7/35\n",
      "57/57 [==============================] - 1s 9ms/step - loss: 0.2530 - accuracy: 0.9288\n",
      "Epoch 8/35\n",
      "57/57 [==============================] - 1s 9ms/step - loss: 0.2336 - accuracy: 0.9338\n",
      "Epoch 9/35\n",
      "57/57 [==============================] - 1s 9ms/step - loss: 0.2131 - accuracy: 0.9399\n",
      "Epoch 10/35\n",
      "57/57 [==============================] - 1s 9ms/step - loss: 0.1938 - accuracy: 0.9471\n",
      "Epoch 11/35\n",
      "57/57 [==============================] - 1s 9ms/step - loss: 0.1836 - accuracy: 0.9444\n",
      "Epoch 12/35\n",
      "57/57 [==============================] - 1s 9ms/step - loss: 0.1691 - accuracy: 0.9560\n",
      "Epoch 13/35\n",
      "57/57 [==============================] - 1s 9ms/step - loss: 0.1647 - accuracy: 0.9555\n",
      "Epoch 14/35\n",
      "57/57 [==============================] - 1s 9ms/step - loss: 0.1491 - accuracy: 0.9583\n",
      "Epoch 15/35\n",
      "57/57 [==============================] - 1s 9ms/step - loss: 0.1429 - accuracy: 0.9588\n",
      "Epoch 16/35\n",
      "57/57 [==============================] - 1s 9ms/step - loss: 0.1328 - accuracy: 0.9649\n",
      "Epoch 17/35\n",
      "57/57 [==============================] - 1s 9ms/step - loss: 0.1276 - accuracy: 0.9622\n",
      "Epoch 18/35\n",
      "57/57 [==============================] - 1s 9ms/step - loss: 0.1226 - accuracy: 0.9661\n",
      "Epoch 19/35\n",
      "57/57 [==============================] - 1s 9ms/step - loss: 0.1190 - accuracy: 0.9694\n",
      "Epoch 20/35\n",
      "57/57 [==============================] - 1s 9ms/step - loss: 0.1108 - accuracy: 0.9699\n",
      "Epoch 21/35\n",
      "57/57 [==============================] - 1s 9ms/step - loss: 0.1067 - accuracy: 0.9683\n",
      "Epoch 22/35\n",
      "57/57 [==============================] - 1s 9ms/step - loss: 0.1045 - accuracy: 0.9694\n",
      "Epoch 23/35\n",
      "57/57 [==============================] - 1s 9ms/step - loss: 0.0983 - accuracy: 0.9711\n",
      "Epoch 24/35\n",
      "57/57 [==============================] - 1s 9ms/step - loss: 0.0952 - accuracy: 0.9738\n",
      "Epoch 25/35\n",
      "57/57 [==============================] - 1s 9ms/step - loss: 0.0923 - accuracy: 0.9777\n",
      "Epoch 26/35\n",
      "57/57 [==============================] - 1s 9ms/step - loss: 0.0890 - accuracy: 0.9777\n",
      "Epoch 27/35\n",
      "57/57 [==============================] - 1s 10ms/step - loss: 0.0829 - accuracy: 0.9794\n",
      "Epoch 28/35\n",
      "57/57 [==============================] - 1s 9ms/step - loss: 0.0804 - accuracy: 0.9811\n",
      "Epoch 29/35\n",
      "57/57 [==============================] - 1s 9ms/step - loss: 0.0774 - accuracy: 0.9789\n",
      "Epoch 30/35\n",
      "57/57 [==============================] - 1s 9ms/step - loss: 0.0728 - accuracy: 0.9800\n",
      "Epoch 31/35\n",
      "57/57 [==============================] - 1s 9ms/step - loss: 0.0732 - accuracy: 0.9816\n",
      "Epoch 32/35\n",
      "57/57 [==============================] - 1s 9ms/step - loss: 0.0690 - accuracy: 0.9811\n",
      "Epoch 33/35\n",
      "57/57 [==============================] - 1s 9ms/step - loss: 0.0657 - accuracy: 0.9827\n",
      "Epoch 34/35\n",
      "57/57 [==============================] - 1s 9ms/step - loss: 0.0652 - accuracy: 0.9839\n",
      "Epoch 35/35\n",
      "57/57 [==============================] - 1s 9ms/step - loss: 0.0630 - accuracy: 0.9855\n"
     ]
    },
    {
     "data": {
      "text/plain": [
       "<keras.src.callbacks.History at 0x288f45910>"
      ]
     },
     "execution_count": 31,
     "metadata": {},
     "output_type": "execute_result"
    }
   ],
   "source": [
    "model.fit(x_input,x_target,epochs=35)"
   ]
  }
 ],
 "metadata": {
  "kernelspec": {
   "display_name": "Python 3 (ipykernel)",
   "language": "python",
   "name": "python3"
  },
  "language_info": {
   "codemirror_mode": {
    "name": "ipython",
    "version": 3
   },
   "file_extension": ".py",
   "mimetype": "text/x-python",
   "name": "python",
   "nbconvert_exporter": "python",
   "pygments_lexer": "ipython3",
   "version": "3.11.4"
  }
 },
 "nbformat": 4,
 "nbformat_minor": 5
}
