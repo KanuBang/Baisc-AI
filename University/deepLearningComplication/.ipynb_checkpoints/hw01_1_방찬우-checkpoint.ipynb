{
 "cells": [
  {
   "cell_type": "markdown",
   "metadata": {
    "id": "qhXYsxx4-t8t"
   },
   "source": [
    "데이터명 : Boston Housing Price (보스턴 주택 가격 데이터)\n",
    "\n",
    "데이터설명 : 보스턴 시의 주택 가격에 대한 데이터이다.\n",
    "주택의 여러가진 요건들과 주택의 가격 정보가 포함되어 있다. 주택의 가격에 영향을 미치는 요소를 분석하고자 하는 목적으로 사용될 수 있다. 회귀분석 등의 분석에 활용될 수 있다.\n",
    "\n",
    "보스턴 주택 데이터는 여러 개의 측정지표들 (예를 들어, 범죄율, 학생/교사 비율 등)을 포함한, 보스턴 인근의 주택 가격의 중앙값(median value)이다. 이 데이터 집합은 14개의 변수를 포함하고 있다.\n",
    "\n",
    "필드의 이해 :\n",
    "데이터의 이해를 돕기 위해 포함된 14개의 변수에 대하여 간략하게 설명한다.  \n",
    "위 14개의 필드는 입력 변수로 사용되고, 맨 아래의 Play 속성이 목표(종속) 변수로 사용된다.\n",
    "\n",
    " [01]  CRIM\t자치시(town) 별 1인당 범죄율\n",
    "\n",
    " [02]  ZN\t25,000 평방피트를 초과하는 거주지역의 비율\n",
    "\n",
    " [03]  INDUS\t비소매상업지역이 점유하고 있는 토지의 비율\n",
    "\n",
    " [04]  CHAS\t찰스강에 대한 더미변수(강의 경계에 위치한 경우는 1, 아니면 0)\n",
    "\n",
    " [05]  NOX\t10ppm 당 농축 일산화질소\n",
    "\n",
    " [06]  RM\t주택 1가구당 평균 방의 개수\n",
    "\n",
    " [07]  AGE\t1940년 이전에 건축된 소유주택의 비율\n",
    "\n",
    " [08]  DIS\t5개의 보스턴 직업센터까지의 접근성 지수\n",
    "\n",
    " [09]  RAD\t방사형 도로까지의 접근성 지수\n",
    "\n",
    " [10]  TAX\t10,000 달러 당 재산세율\n",
    "\n",
    " [11]  PTRATIO\t자치시(town)별 학생/교사 비율\n",
    "\n",
    " [12]  B\t1000(Bk-0.63)^2, 여기서 Bk는 자치시별 흑인의 비율을 말함.\n",
    "\n",
    " [13]  LSTAT\t모집단의 하위계층의 비율(%)\n",
    "\n",
    " [14]  MEDV\t본인 소유의 주택가격(중앙값) (단위: $1,000)"
   ]
  },
  {
   "cell_type": "code",
   "execution_count": 1,
   "metadata": {
    "id": "e8LhnVKA7_J_"
   },
   "outputs": [],
   "source": [
    "from tensorflow import keras\n",
    "(train_data, train_label), (test_data, test_label) = keras.datasets.boston_housing.load_data()"
   ]
  },
  {
   "cell_type": "code",
   "execution_count": 2,
   "metadata": {
    "id": "5V0iwWU28Ngp"
   },
   "outputs": [
    {
     "data": {
      "text/plain": [
       "(404, 13)"
      ]
     },
     "execution_count": 2,
     "metadata": {},
     "output_type": "execute_result"
    }
   ],
   "source": [
    "train_data.shape"
   ]
  },
  {
   "cell_type": "code",
   "execution_count": 3,
   "metadata": {
    "id": "UKT_douo8PEW"
   },
   "outputs": [
    {
     "data": {
      "text/plain": [
       "(404,)"
      ]
     },
     "execution_count": 3,
     "metadata": {},
     "output_type": "execute_result"
    }
   ],
   "source": [
    "train_label.shape"
   ]
  },
  {
   "cell_type": "code",
   "execution_count": 4,
   "metadata": {
    "id": "y66vw2NO8ShU"
   },
   "outputs": [
    {
     "data": {
      "text/plain": [
       "array([[1.23247e+00, 0.00000e+00, 8.14000e+00, 0.00000e+00, 5.38000e-01,\n",
       "        6.14200e+00, 9.17000e+01, 3.97690e+00, 4.00000e+00, 3.07000e+02,\n",
       "        2.10000e+01, 3.96900e+02, 1.87200e+01],\n",
       "       [2.17700e-02, 8.25000e+01, 2.03000e+00, 0.00000e+00, 4.15000e-01,\n",
       "        7.61000e+00, 1.57000e+01, 6.27000e+00, 2.00000e+00, 3.48000e+02,\n",
       "        1.47000e+01, 3.95380e+02, 3.11000e+00],\n",
       "       [4.89822e+00, 0.00000e+00, 1.81000e+01, 0.00000e+00, 6.31000e-01,\n",
       "        4.97000e+00, 1.00000e+02, 1.33250e+00, 2.40000e+01, 6.66000e+02,\n",
       "        2.02000e+01, 3.75520e+02, 3.26000e+00],\n",
       "       [3.96100e-02, 0.00000e+00, 5.19000e+00, 0.00000e+00, 5.15000e-01,\n",
       "        6.03700e+00, 3.45000e+01, 5.98530e+00, 5.00000e+00, 2.24000e+02,\n",
       "        2.02000e+01, 3.96900e+02, 8.01000e+00],\n",
       "       [3.69311e+00, 0.00000e+00, 1.81000e+01, 0.00000e+00, 7.13000e-01,\n",
       "        6.37600e+00, 8.84000e+01, 2.56710e+00, 2.40000e+01, 6.66000e+02,\n",
       "        2.02000e+01, 3.91430e+02, 1.46500e+01]])"
      ]
     },
     "execution_count": 4,
     "metadata": {},
     "output_type": "execute_result"
    }
   ],
   "source": [
    "print(train_data[0:5])"
   ]
  },
  {
   "cell_type": "code",
   "execution_count": 6,
   "metadata": {
    "id": "mp9bP2nY8Zi8"
   },
   "outputs": [
    {
     "name": "stdout",
     "output_type": "stream",
     "text": [
      "[15.2 42.3 50.  21.1 17.7]\n"
     ]
    }
   ],
   "source": [
    "print(train_label[0:5])"
   ]
  },
  {
   "cell_type": "code",
   "execution_count": 7,
   "metadata": {},
   "outputs": [
    {
     "name": "stdout",
     "output_type": "stream",
     "text": [
      "{5.0, 6.3, 7.2, 8.8, 9.6, 10.9, 11.3, 12.1, 13.3, 14.4, 15.2, 15.6, 17.7, 18.5, 17.9, 19.9, 21.1, 15.7, 23.1, 24.1, 22.5, 24.0, 27.5, 22.9, 22.3, 30.8, 25.0, 32.9, 24.7, 34.7, 34.9, 30.1, 31.5, 32.0, 36.4, 39.8, 38.7, 42.3, 43.5, 41.7, 36.2, 46.0, 44.0, 48.5, 8.5, 50.0, 10.5, 48.8, 48.3, 45.4, 11.0, 11.5, 12.5, 13.5, 14.5, 14.0, 15.0, 16.6, 16.1, 16.5, 16.0, 16.4, 17.5, 17.1, 17.0, 17.4, 18.4, 18.9, 18.0, 18.1, 19.1, 19.5, 19.4, 19.6, 19.0, 20.4, 20.0, 20.6, 20.5, 20.1, 21.0, 21.4, 21.6, 21.9, 22.0, 22.6, 22.4, 22.1, 23.0, 23.9, 23.6, 23.4, 23.5, 24.4, 24.6, 24.5, 25.1, 26.6, 26.4, 26.5, 27.9, 27.1, 28.6, 28.0, 28.5, 29.4, 29.1, 29.9, 29.0, 30.5, 31.1, 31.6, 31.0, 32.2, 32.7, 33.4, 33.1, 8.4, 33.2, 33.3, 34.6, 33.8, 35.2, 10.4, 7.5, 36.5, 36.1, 11.9, 7.0, 37.0, 37.3, 37.9, 37.6, 37.2, 13.9, 13.4, 14.9, 41.3, 43.8, 44.8, 8.3, 8.7, 10.2, 10.8, 11.7, 11.8, 12.7, 12.3, 12.8, 13.2, 13.8, 14.3, 14.2, 14.8, 15.3, 16.7, 16.2, 16.3, 16.8, 17.8, 17.2, 17.3, 18.7, 18.3, 18.2, 18.8, 19.3, 19.7, 19.8, 19.2, 20.3, 20.2, 20.7, 20.8, 21.7, 21.2, 21.8, 22.2, 22.8, 22.7, 23.7, 23.3, 23.8, 23.2, 24.8, 24.3, 25.3, 25.2, 26.2, 28.7, 28.2, 29.8, 30.7, 30.3, 31.7, 12.6, 13.1, 13.6, 14.6, 14.1, 15.1}\n"
     ]
    }
   ],
   "source": [
    "print(set(train_label))"
   ]
  },
  {
   "cell_type": "markdown",
   "metadata": {},
   "source": [
    "# 문제:회귀\n",
    "# 입력:13\n",
    "# 출력:1"
   ]
  },
  {
   "cell_type": "code",
   "execution_count": 6,
   "metadata": {
    "id": "WSphrGyb8efm"
   },
   "outputs": [],
   "source": [
    "# 학습 모델 만들기\n",
    "from tensorflow.keras import layers\n",
    "\n",
    "model = keras.Sequential()\n",
    "\n",
    "model.add(layers.Dense(activation='relut',input_shape=))\n",
    "# 주어진 데이터에 맞게 input_shape을 설정\n",
    "# model = model.add ( layers.Dense( ... ) )\n",
    "# ....\n",
    "\n",
    "# 마지막 layer는 출력에 맞게 Dense(1, activation='...')\n"
   ]
  },
  {
   "cell_type": "code",
   "execution_count": 7,
   "metadata": {
    "id": "sxREZDHK8g3T"
   },
   "outputs": [],
   "source": [
    "# loss 함수 정하기\n",
    "# model.compile( ... )"
   ]
  },
  {
   "cell_type": "code",
   "execution_count": 8,
   "metadata": {
    "id": "rl9-Ua3_81rx"
   },
   "outputs": [],
   "source": [
    "# 학습하기\n",
    "# model.fit( ... )"
   ]
  }
 ],
 "metadata": {
  "colab": {
   "provenance": []
  },
  "kernelspec": {
   "display_name": "Python 3 (ipykernel)",
   "language": "python",
   "name": "python3"
  },
  "language_info": {
   "codemirror_mode": {
    "name": "ipython",
    "version": 3
   },
   "file_extension": ".py",
   "mimetype": "text/x-python",
   "name": "python",
   "nbconvert_exporter": "python",
   "pygments_lexer": "ipython3",
   "version": "3.11.4"
  }
 },
 "nbformat": 4,
 "nbformat_minor": 1
}
