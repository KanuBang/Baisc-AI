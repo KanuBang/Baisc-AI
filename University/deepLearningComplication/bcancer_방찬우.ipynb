{
 "cells": [
  {
   "cell_type": "code",
   "execution_count": 16,
   "id": "1ceb4a55",
   "metadata": {},
   "outputs": [],
   "source": [
    "from sklearn import datasets\n",
    "bcancer = datasets.load_breast_cancer()"
   ]
  },
  {
   "cell_type": "code",
   "execution_count": 17,
   "id": "66ee3634",
   "metadata": {},
   "outputs": [],
   "source": [
    "x_input = bcancer.data"
   ]
  },
  {
   "cell_type": "code",
   "execution_count": 18,
   "id": "090ac095",
   "metadata": {},
   "outputs": [
    {
     "data": {
      "text/plain": [
       "(569, 30)"
      ]
     },
     "execution_count": 18,
     "metadata": {},
     "output_type": "execute_result"
    }
   ],
   "source": [
    "x_input.shape"
   ]
  },
  {
   "cell_type": "code",
   "execution_count": 19,
   "id": "20119ea0",
   "metadata": {},
   "outputs": [],
   "source": [
    "x_target = bcancer.target"
   ]
  },
  {
   "cell_type": "code",
   "execution_count": 20,
   "id": "590f0b39",
   "metadata": {},
   "outputs": [
    {
     "data": {
      "text/plain": [
       "(569,)"
      ]
     },
     "execution_count": 20,
     "metadata": {},
     "output_type": "execute_result"
    }
   ],
   "source": [
    "x_target.shape"
   ]
  },
  {
   "cell_type": "code",
   "execution_count": 21,
   "id": "5cce5e0a",
   "metadata": {},
   "outputs": [
    {
     "data": {
      "text/plain": [
       "{0, 1}"
      ]
     },
     "execution_count": 21,
     "metadata": {},
     "output_type": "execute_result"
    }
   ],
   "source": [
    "set(x_target)"
   ]
  },
  {
   "cell_type": "markdown",
   "id": "8b95b72a",
   "metadata": {},
   "source": [
    "### 문제: 이진분류\n",
    "### 입력은 30\n",
    "### 출력은 1"
   ]
  },
  {
   "cell_type": "code",
   "execution_count": 22,
   "id": "4345332f",
   "metadata": {},
   "outputs": [
    {
     "name": "stdout",
     "output_type": "stream",
     "text": [
      "Model: \"sequential_1\"\n",
      "_________________________________________________________________\n",
      " Layer (type)                Output Shape              Param #   \n",
      "=================================================================\n",
      " dense_2 (Dense)             (None, 16)                496       \n",
      "                                                                 \n",
      " dense_3 (Dense)             (None, 1)                 17        \n",
      "                                                                 \n",
      "=================================================================\n",
      "Total params: 513 (2.00 KB)\n",
      "Trainable params: 513 (2.00 KB)\n",
      "Non-trainable params: 0 (0.00 Byte)\n",
      "_________________________________________________________________\n"
     ]
    }
   ],
   "source": [
    "from tensorflow import keras\n",
    "from tensorflow.keras import layers\n",
    "\n",
    "model = keras.Sequential()\n",
    "model.add(layers.Dense(16,activation='relu',input_shape=(30,)))\n",
    "model.add(layers.Dense(1,activation='sigmoid'))\n",
    "\n",
    "model.summary()"
   ]
  },
  {
   "cell_type": "code",
   "execution_count": 23,
   "id": "830ee76c",
   "metadata": {},
   "outputs": [],
   "source": [
    "model.compile(optimizer='rmsprop',loss='binary_crossentropy',metrics=['accuracy'])"
   ]
  },
  {
   "cell_type": "code",
   "execution_count": 24,
   "id": "3d21eda2",
   "metadata": {},
   "outputs": [
    {
     "name": "stdout",
     "output_type": "stream",
     "text": [
      "Epoch 1/10\n",
      "18/18 [==============================] - 1s 12ms/step - loss: 195.4684 - accuracy: 0.6274\n",
      "Epoch 2/10\n",
      "18/18 [==============================] - 0s 8ms/step - loss: 97.1397 - accuracy: 0.6274\n",
      "Epoch 3/10\n",
      "18/18 [==============================] - 0s 8ms/step - loss: 24.4449 - accuracy: 0.3691\n",
      "Epoch 4/10\n",
      "18/18 [==============================] - 0s 7ms/step - loss: 9.9091 - accuracy: 0.2232\n",
      "Epoch 5/10\n",
      "18/18 [==============================] - 0s 8ms/step - loss: 7.1049 - accuracy: 0.2654\n",
      "Epoch 6/10\n",
      "18/18 [==============================] - 0s 7ms/step - loss: 5.1684 - accuracy: 0.3058\n",
      "Epoch 7/10\n",
      "18/18 [==============================] - 0s 7ms/step - loss: 3.7416 - accuracy: 0.4271\n",
      "Epoch 8/10\n",
      "18/18 [==============================] - 0s 7ms/step - loss: 2.5495 - accuracy: 0.4974\n",
      "Epoch 9/10\n",
      "18/18 [==============================] - 0s 7ms/step - loss: 2.0596 - accuracy: 0.6011\n",
      "Epoch 10/10\n",
      "18/18 [==============================] - 0s 7ms/step - loss: 1.5482 - accuracy: 0.6221\n"
     ]
    },
    {
     "data": {
      "text/plain": [
       "<keras.src.callbacks.History at 0x28459a890>"
      ]
     },
     "execution_count": 24,
     "metadata": {},
     "output_type": "execute_result"
    }
   ],
   "source": [
    "model.fit(x_input,x_target,epochs=10)"
   ]
  },
  {
   "cell_type": "code",
   "execution_count": 25,
   "id": "6d1a2318",
   "metadata": {},
   "outputs": [
    {
     "name": "stdout",
     "output_type": "stream",
     "text": [
      "[[1.799e+01 1.038e+01 1.228e+02 1.001e+03 1.184e-01 2.776e-01 3.001e-01\n",
      "  1.471e-01 2.419e-01 7.871e-02 1.095e+00 9.053e-01 8.589e+00 1.534e+02\n",
      "  6.399e-03 4.904e-02 5.373e-02 1.587e-02 3.003e-02 6.193e-03 2.538e+01\n",
      "  1.733e+01 1.846e+02 2.019e+03 1.622e-01 6.656e-01 7.119e-01 2.654e-01\n",
      "  4.601e-01 1.189e-01]\n",
      " [2.057e+01 1.777e+01 1.329e+02 1.326e+03 8.474e-02 7.864e-02 8.690e-02\n",
      "  7.017e-02 1.812e-01 5.667e-02 5.435e-01 7.339e-01 3.398e+00 7.408e+01\n",
      "  5.225e-03 1.308e-02 1.860e-02 1.340e-02 1.389e-02 3.532e-03 2.499e+01\n",
      "  2.341e+01 1.588e+02 1.956e+03 1.238e-01 1.866e-01 2.416e-01 1.860e-01\n",
      "  2.750e-01 8.902e-02]\n",
      " [1.969e+01 2.125e+01 1.300e+02 1.203e+03 1.096e-01 1.599e-01 1.974e-01\n",
      "  1.279e-01 2.069e-01 5.999e-02 7.456e-01 7.869e-01 4.585e+00 9.403e+01\n",
      "  6.150e-03 4.006e-02 3.832e-02 2.058e-02 2.250e-02 4.571e-03 2.357e+01\n",
      "  2.553e+01 1.525e+02 1.709e+03 1.444e-01 4.245e-01 4.504e-01 2.430e-01\n",
      "  3.613e-01 8.758e-02]]\n"
     ]
    }
   ],
   "source": [
    "print(x_input[:3])"
   ]
  },
  {
   "cell_type": "code",
   "execution_count": 26,
   "id": "5cc244f9",
   "metadata": {},
   "outputs": [
    {
     "name": "stdout",
     "output_type": "stream",
     "text": [
      "[0 0 0]\n"
     ]
    }
   ],
   "source": [
    "print(x_target[:3])"
   ]
  },
  {
   "cell_type": "code",
   "execution_count": 27,
   "id": "a1b962c3",
   "metadata": {},
   "outputs": [],
   "source": [
    "from sklearn.preprocessing import StandardScaler\n",
    "sc = StandardScaler()\n",
    "# x_input을 표준편차로 표준화\n",
    "# 위에서 꼴을 보니 2차원임\n",
    "# 그대로 fit\n",
    "sc.fit(x_input)\n",
    "x_input = sc.transform(x_input)"
   ]
  },
  {
   "cell_type": "code",
   "execution_count": 28,
   "id": "ed3269e5",
   "metadata": {},
   "outputs": [
    {
     "name": "stdout",
     "output_type": "stream",
     "text": [
      "Epoch 1/10\n",
      "18/18 [==============================] - 0s 7ms/step - loss: 0.4192 - accuracy: 0.8576\n",
      "Epoch 2/10\n",
      "18/18 [==============================] - 0s 7ms/step - loss: 0.3161 - accuracy: 0.9156\n",
      "Epoch 3/10\n",
      "18/18 [==============================] - 0s 7ms/step - loss: 0.2622 - accuracy: 0.9350\n",
      "Epoch 4/10\n",
      "18/18 [==============================] - 0s 7ms/step - loss: 0.2240 - accuracy: 0.9402\n",
      "Epoch 5/10\n",
      "18/18 [==============================] - 0s 7ms/step - loss: 0.1948 - accuracy: 0.9508\n",
      "Epoch 6/10\n",
      "18/18 [==============================] - 0s 7ms/step - loss: 0.1697 - accuracy: 0.9543\n",
      "Epoch 7/10\n",
      "18/18 [==============================] - 0s 7ms/step - loss: 0.1485 - accuracy: 0.9596\n",
      "Epoch 8/10\n",
      "18/18 [==============================] - 0s 7ms/step - loss: 0.1307 - accuracy: 0.9684\n",
      "Epoch 9/10\n",
      "18/18 [==============================] - 0s 7ms/step - loss: 0.1156 - accuracy: 0.9684\n",
      "Epoch 10/10\n",
      "18/18 [==============================] - 0s 7ms/step - loss: 0.1038 - accuracy: 0.9701\n"
     ]
    },
    {
     "data": {
      "text/plain": [
       "<keras.src.callbacks.History at 0x284677ed0>"
      ]
     },
     "execution_count": 28,
     "metadata": {},
     "output_type": "execute_result"
    }
   ],
   "source": [
    "model.fit(x_input,x_target,epochs=10) # 스"
   ]
  }
 ],
 "metadata": {
  "kernelspec": {
   "display_name": "Python 3 (ipykernel)",
   "language": "python",
   "name": "python3"
  },
  "language_info": {
   "codemirror_mode": {
    "name": "ipython",
    "version": 3
   },
   "file_extension": ".py",
   "mimetype": "text/x-python",
   "name": "python",
   "nbconvert_exporter": "python",
   "pygments_lexer": "ipython3",
   "version": "3.11.4"
  }
 },
 "nbformat": 4,
 "nbformat_minor": 5
}
