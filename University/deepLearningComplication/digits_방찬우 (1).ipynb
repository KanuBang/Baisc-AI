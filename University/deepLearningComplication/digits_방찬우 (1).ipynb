{
 "cells": [
  {
   "cell_type": "code",
   "execution_count": 19,
   "id": "e91df596",
   "metadata": {},
   "outputs": [],
   "source": [
    "from sklearn import datasets\n",
    "\n",
    "digits = datasets.load_digits()"
   ]
  },
  {
   "cell_type": "code",
   "execution_count": 20,
   "id": "d069ecc2",
   "metadata": {},
   "outputs": [],
   "source": [
    "x_input = digits.data"
   ]
  },
  {
   "cell_type": "code",
   "execution_count": 21,
   "id": "f15ba9d6",
   "metadata": {},
   "outputs": [
    {
     "data": {
      "text/plain": [
       "(1797, 64)"
      ]
     },
     "execution_count": 21,
     "metadata": {},
     "output_type": "execute_result"
    }
   ],
   "source": [
    "x_input.shape"
   ]
  },
  {
   "cell_type": "code",
   "execution_count": 22,
   "id": "8e27cbe9",
   "metadata": {},
   "outputs": [
    {
     "name": "stdout",
     "output_type": "stream",
     "text": [
      "[[ 0.  0.  5. 13.  9.  1.  0.  0.  0.  0. 13. 15. 10. 15.  5.  0.  0.  3.\n",
      "  15.  2.  0. 11.  8.  0.  0.  4. 12.  0.  0.  8.  8.  0.  0.  5.  8.  0.\n",
      "   0.  9.  8.  0.  0.  4. 11.  0.  1. 12.  7.  0.  0.  2. 14.  5. 10. 12.\n",
      "   0.  0.  0.  0.  6. 13. 10.  0.  0.  0.]\n",
      " [ 0.  0.  0. 12. 13.  5.  0.  0.  0.  0.  0. 11. 16.  9.  0.  0.  0.  0.\n",
      "   3. 15. 16.  6.  0.  0.  0.  7. 15. 16. 16.  2.  0.  0.  0.  0.  1. 16.\n",
      "  16.  3.  0.  0.  0.  0.  1. 16. 16.  6.  0.  0.  0.  0.  1. 16. 16.  6.\n",
      "   0.  0.  0.  0.  0. 11. 16. 10.  0.  0.]]\n"
     ]
    }
   ],
   "source": [
    "print(x_input[:2])"
   ]
  },
  {
   "cell_type": "code",
   "execution_count": 23,
   "id": "d6fb54a5",
   "metadata": {},
   "outputs": [],
   "source": [
    "x_target = digits.target"
   ]
  },
  {
   "cell_type": "code",
   "execution_count": 24,
   "id": "2bdea56c",
   "metadata": {},
   "outputs": [
    {
     "data": {
      "text/plain": [
       "(1797,)"
      ]
     },
     "execution_count": 24,
     "metadata": {},
     "output_type": "execute_result"
    }
   ],
   "source": [
    "x_target.shape"
   ]
  },
  {
   "cell_type": "code",
   "execution_count": 25,
   "id": "40431b7e",
   "metadata": {},
   "outputs": [
    {
     "name": "stdout",
     "output_type": "stream",
     "text": [
      "[0 1 2 3 4 5 6 7 8 9]\n"
     ]
    }
   ],
   "source": [
    "print(x_target[:10])"
   ]
  },
  {
   "cell_type": "markdown",
   "id": "b076790a",
   "metadata": {},
   "source": [
    "# 문제: 다항 분류\n",
    "# 입력: 64\n",
    "# 출력: 10 (set으로 구함)"
   ]
  },
  {
   "cell_type": "code",
   "execution_count": 26,
   "id": "e1520ad5",
   "metadata": {},
   "outputs": [
    {
     "name": "stdout",
     "output_type": "stream",
     "text": [
      "{0, 1, 2, 3, 4, 5, 6, 7, 8, 9}\n"
     ]
    }
   ],
   "source": [
    "print(set(x_target))"
   ]
  },
  {
   "cell_type": "code",
   "execution_count": 27,
   "id": "706f3c23",
   "metadata": {},
   "outputs": [
    {
     "name": "stdout",
     "output_type": "stream",
     "text": [
      "Model: \"sequential_2\"\n",
      "_________________________________________________________________\n",
      " Layer (type)                Output Shape              Param #   \n",
      "=================================================================\n",
      " dense_4 (Dense)             (None, 32)                2080      \n",
      "                                                                 \n",
      " dense_5 (Dense)             (None, 10)                330       \n",
      "                                                                 \n",
      "=================================================================\n",
      "Total params: 2410 (9.41 KB)\n",
      "Trainable params: 2410 (9.41 KB)\n",
      "Non-trainable params: 0 (0.00 Byte)\n",
      "_________________________________________________________________\n"
     ]
    }
   ],
   "source": [
    "from tensorflow import keras\n",
    "from tensorflow.keras import layers\n",
    "\n",
    "model = keras.Sequential()\n",
    "model.add(layers.Dense(32,activation='relu',input_shape=(64,)))\n",
    "model.add(layers.Dense(10,activation='softmax'))\n",
    "model.summary()"
   ]
  },
  {
   "cell_type": "code",
   "execution_count": 28,
   "id": "8da61500",
   "metadata": {},
   "outputs": [],
   "source": [
    "model.compile(optimizer='rmsprop', loss='categorical_crossentropy', metrics=['accuracy'])"
   ]
  },
  {
   "cell_type": "code",
   "execution_count": 29,
   "id": "bb4c0c6e",
   "metadata": {},
   "outputs": [],
   "source": [
    "# 다항 분류이므로 target의 전처리가 필요함\n",
    "from tensorflow.keras.utils import to_categorical\n",
    "\n",
    "x_target = to_categorical(x_target)"
   ]
  },
  {
   "cell_type": "code",
   "execution_count": 30,
   "id": "15df168b",
   "metadata": {},
   "outputs": [
    {
     "name": "stdout",
     "output_type": "stream",
     "text": [
      "[[1. 0. 0. 0. 0. 0. 0. 0. 0. 0.]\n",
      " [0. 1. 0. 0. 0. 0. 0. 0. 0. 0.]\n",
      " [0. 0. 1. 0. 0. 0. 0. 0. 0. 0.]]\n"
     ]
    }
   ],
   "source": [
    "print(x_target[:3])"
   ]
  },
  {
   "cell_type": "code",
   "execution_count": 31,
   "id": "fb6cc284",
   "metadata": {},
   "outputs": [
    {
     "name": "stdout",
     "output_type": "stream",
     "text": [
      "Epoch 1/5\n"
     ]
    },
    {
     "name": "stderr",
     "output_type": "stream",
     "text": [
      "2023-10-12 18:07:18.928099: I tensorflow/core/grappler/optimizers/custom_graph_optimizer_registry.cc:117] Plugin optimizer for device_type GPU is enabled.\n"
     ]
    },
    {
     "name": "stdout",
     "output_type": "stream",
     "text": [
      "57/57 [==============================] - 4s 20ms/step - loss: 8.8906 - accuracy: 0.1970\n",
      "Epoch 2/5\n",
      "57/57 [==============================] - 1s 9ms/step - loss: 2.9113 - accuracy: 0.4096\n",
      "Epoch 3/5\n",
      "57/57 [==============================] - 1s 9ms/step - loss: 1.2537 - accuracy: 0.6667\n",
      "Epoch 4/5\n",
      "57/57 [==============================] - 1s 10ms/step - loss: 0.7364 - accuracy: 0.7941\n",
      "Epoch 5/5\n",
      "57/57 [==============================] - 1s 9ms/step - loss: 0.5233 - accuracy: 0.8447\n"
     ]
    },
    {
     "data": {
      "text/plain": [
       "<keras.src.callbacks.History at 0x28a050a10>"
      ]
     },
     "execution_count": 31,
     "metadata": {},
     "output_type": "execute_result"
    }
   ],
   "source": [
    "model.fit(x_input,x_target,epochs=5)"
   ]
  },
  {
   "cell_type": "code",
   "execution_count": 32,
   "id": "a981cf08",
   "metadata": {},
   "outputs": [
    {
     "name": "stdout",
     "output_type": "stream",
     "text": [
      "[[ 0.  0.  5. 13.  9.  1.  0.  0.  0.  0. 13. 15. 10. 15.  5.  0.  0.  3.\n",
      "  15.  2.  0. 11.  8.  0.  0.  4. 12.  0.  0.  8.  8.  0.  0.  5.  8.  0.\n",
      "   0.  9.  8.  0.  0.  4. 11.  0.  1. 12.  7.  0.  0.  2. 14.  5. 10. 12.\n",
      "   0.  0.  0.  0.  6. 13. 10.  0.  0.  0.]\n",
      " [ 0.  0.  0. 12. 13.  5.  0.  0.  0.  0.  0. 11. 16.  9.  0.  0.  0.  0.\n",
      "   3. 15. 16.  6.  0.  0.  0.  7. 15. 16. 16.  2.  0.  0.  0.  0.  1. 16.\n",
      "  16.  3.  0.  0.  0.  0.  1. 16. 16.  6.  0.  0.  0.  0.  1. 16. 16.  6.\n",
      "   0.  0.  0.  0.  0. 11. 16. 10.  0.  0.]\n",
      " [ 0.  0.  0.  4. 15. 12.  0.  0.  0.  0.  3. 16. 15. 14.  0.  0.  0.  0.\n",
      "   8. 13.  8. 16.  0.  0.  0.  0.  1.  6. 15. 11.  0.  0.  0.  1.  8. 13.\n",
      "  15.  1.  0.  0.  0.  9. 16. 16.  5.  0.  0.  0.  0.  3. 13. 16. 16. 11.\n",
      "   5.  0.  0.  0.  0.  3. 11. 16.  9.  0.]]\n"
     ]
    }
   ],
   "source": [
    "print(x_input[:3])"
   ]
  },
  {
   "cell_type": "code",
   "execution_count": 33,
   "id": "e820538f",
   "metadata": {},
   "outputs": [],
   "source": [
    "# 정확도를 올리기 위해 인풋을 전처리함\n",
    "from sklearn.preprocessing import StandardScaler\n",
    "\n",
    "sc = StandardScaler()\n",
    "# 인풋이 2차원 배열이라 reshape는 필요없어 보임\n",
    "sc.fit(x_input)\n",
    "x_input = sc.transform(x_input)"
   ]
  },
  {
   "cell_type": "code",
   "execution_count": 35,
   "id": "d6cdb90b",
   "metadata": {},
   "outputs": [
    {
     "name": "stdout",
     "output_type": "stream",
     "text": [
      "[[ 0.         -0.33501649 -0.04308102  0.27407152 -0.66447751 -0.84412939\n",
      "  -0.40972392 -0.12502292 -0.05907756 -0.62400926  0.4829745   0.75962245\n",
      "  -0.05842586  1.12772113  0.87958306 -0.13043338 -0.04462507  0.11144272\n",
      "   0.89588044 -0.86066632 -1.14964846  0.51547187  1.90596347 -0.11422184\n",
      "  -0.03337973  0.48648928  0.46988512 -1.49990136 -1.61406277  0.07639777\n",
      "   1.54181413 -0.04723238  0.          0.76465553  0.05263019 -1.44763006\n",
      "  -1.73666443  0.04361588  1.43955804  0.         -0.06134367  0.8105536\n",
      "   0.63011714 -1.12245711 -1.06623158  0.66096475  0.81845076 -0.08874162\n",
      "  -0.03543326  0.74211893  1.15065212 -0.86867056  0.11012973  0.53761116\n",
      "  -0.75743581 -0.20978513 -0.02359646 -0.29908135  0.08671869  0.20829258\n",
      "  -0.36677122 -1.14664746 -0.5056698  -0.19600752]\n",
      " [ 0.         -0.33501649 -1.09493684  0.03864775  0.26875116 -0.13801953\n",
      "  -0.40972392 -0.12502292 -0.05907756 -0.62400926 -1.91557297 -0.24630352\n",
      "   1.19644995  0.13619465 -0.51499146 -0.13043338 -0.04462507 -0.72764628\n",
      "  -1.2133854   1.38030848  1.44186017 -0.29155283 -0.54880546 -0.11422184\n",
      "  -0.03337973  1.44018517  0.95451315  1.22058589  0.98740215 -0.94558832\n",
      "  -0.62889588 -0.04723238  0.         -0.67237227 -1.05445197  1.10556952\n",
      "   0.96064411 -0.97870236 -0.82269451  0.         -0.06134367 -0.5312841\n",
      "  -0.89983895  1.36217503  1.33078862 -0.39278683 -0.79827225 -0.08874162\n",
      "  -0.03543326 -0.40357499 -1.15311752  1.23639392  1.24208282 -0.45750018\n",
      "  -0.75743581 -0.20978513 -0.02359646 -0.29908135 -1.08938309 -0.24900951\n",
      "   0.84963214  0.54856067 -0.5056698  -0.19600752]]\n"
     ]
    }
   ],
   "source": [
    "print(x_input[:2])"
   ]
  },
  {
   "cell_type": "code",
   "execution_count": 36,
   "id": "0968eca2",
   "metadata": {},
   "outputs": [
    {
     "name": "stdout",
     "output_type": "stream",
     "text": [
      "Epoch 1/5\n",
      "57/57 [==============================] - 1s 9ms/step - loss: 0.7267 - accuracy: 0.8414\n",
      "Epoch 2/5\n",
      "57/57 [==============================] - 1s 9ms/step - loss: 0.4437 - accuracy: 0.8976\n",
      "Epoch 3/5\n",
      "57/57 [==============================] - 1s 9ms/step - loss: 0.2992 - accuracy: 0.9310\n",
      "Epoch 4/5\n",
      "57/57 [==============================] - 1s 9ms/step - loss: 0.2276 - accuracy: 0.9444\n",
      "Epoch 5/5\n",
      "57/57 [==============================] - 1s 9ms/step - loss: 0.1859 - accuracy: 0.9549\n"
     ]
    },
    {
     "data": {
      "text/plain": [
       "<keras.src.callbacks.History at 0x28a55f610>"
      ]
     },
     "execution_count": 36,
     "metadata": {},
     "output_type": "execute_result"
    }
   ],
   "source": [
    "model.fit(x_input,x_target,epochs=5)\n",
    "# 인풋을 전처리 하니 훨씬 정확도가 올라갔다."
   ]
  }
 ],
 "metadata": {
  "kernelspec": {
   "display_name": "Python 3 (ipykernel)",
   "language": "python",
   "name": "python3"
  },
  "language_info": {
   "codemirror_mode": {
    "name": "ipython",
    "version": 3
   },
   "file_extension": ".py",
   "mimetype": "text/x-python",
   "name": "python",
   "nbconvert_exporter": "python",
   "pygments_lexer": "ipython3",
   "version": "3.11.4"
  }
 },
 "nbformat": 4,
 "nbformat_minor": 5
}
