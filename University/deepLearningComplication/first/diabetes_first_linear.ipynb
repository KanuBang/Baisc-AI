{
 "cells": [
  {
   "cell_type": "code",
   "execution_count": 30,
   "id": "ade2e698",
   "metadata": {},
   "outputs": [],
   "source": [
    "from sklearn import datasets\n",
    "diabetes = datasets.load_diabetes()"
   ]
  },
  {
   "cell_type": "code",
   "execution_count": 31,
   "id": "4e759fa6",
   "metadata": {},
   "outputs": [],
   "source": [
    "from sklearn.model_selection import train_test_split\n",
    "data = diabetes.data\n",
    "target= diabetes.target\n",
    "\n",
    "train_input, test_input, train_target, test_target = train_test_split(data,target,random_state=42)"
   ]
  },
  {
   "cell_type": "code",
   "execution_count": 32,
   "id": "bad8327d",
   "metadata": {},
   "outputs": [
    {
     "data": {
      "text/plain": [
       "(331, 10)"
      ]
     },
     "execution_count": 32,
     "metadata": {},
     "output_type": "execute_result"
    }
   ],
   "source": [
    "train_input.shape"
   ]
  },
  {
   "cell_type": "code",
   "execution_count": 33,
   "id": "b6227454",
   "metadata": {},
   "outputs": [
    {
     "data": {
      "text/plain": [
       "(111, 10)"
      ]
     },
     "execution_count": 33,
     "metadata": {},
     "output_type": "execute_result"
    }
   ],
   "source": [
    "test_input.shape"
   ]
  },
  {
   "cell_type": "code",
   "execution_count": 34,
   "id": "2439e759",
   "metadata": {},
   "outputs": [
    {
     "data": {
      "text/plain": [
       "(331,)"
      ]
     },
     "execution_count": 34,
     "metadata": {},
     "output_type": "execute_result"
    }
   ],
   "source": [
    "train_target.shape"
   ]
  },
  {
   "cell_type": "code",
   "execution_count": 35,
   "id": "9c65a82c",
   "metadata": {},
   "outputs": [
    {
     "data": {
      "text/plain": [
       "(111,)"
      ]
     },
     "execution_count": 35,
     "metadata": {},
     "output_type": "execute_result"
    }
   ],
   "source": [
    "test_target.shape"
   ]
  },
  {
   "cell_type": "code",
   "execution_count": 36,
   "id": "224293d8",
   "metadata": {},
   "outputs": [
    {
     "name": "stdout",
     "output_type": "stream",
     "text": [
      "{37.0, 42.0, 48.0, 52.0, 53.0, 59.0, 60.0, 61.0, 63.0, 64.0, 65.0, 67.0, 68.0, 69.0, 70.0, 71.0, 72.0, 77.0, 84.0, 87.0, 88.0, 89.0, 90.0, 91.0, 94.0, 95.0, 96.0, 97.0, 98.0, 99.0, 101.0, 102.0, 107.0, 108.0, 110.0, 111.0, 113.0, 118.0, 122.0, 125.0, 128.0, 129.0, 135.0, 136.0, 140.0, 144.0, 150.0, 151.0, 153.0, 156.0, 158.0, 164.0, 167.0, 168.0, 170.0, 171.0, 172.0, 178.0, 180.0, 181.0, 184.0, 186.0, 187.0, 190.0, 197.0, 200.0, 202.0, 214.0, 219.0, 220.0, 222.0, 230.0, 232.0, 233.0, 237.0, 242.0, 248.0, 252.0, 258.0, 262.0, 263.0, 264.0, 270.0, 272.0, 275.0, 277.0, 280.0, 281.0, 295.0, 297.0, 310.0}\n"
     ]
    }
   ],
   "source": [
    "print(set(test_target))"
   ]
  },
  {
   "cell_type": "markdown",
   "id": "a47d6a6f",
   "metadata": {},
   "source": [
    "문제: 회귀\n",
    "입력: 10\n",
    "출력: 1"
   ]
  },
  {
   "cell_type": "code",
   "execution_count": 37,
   "id": "0c9c1445",
   "metadata": {},
   "outputs": [
    {
     "name": "stdout",
     "output_type": "stream",
     "text": [
      "Model: \"sequential_5\"\n",
      "_________________________________________________________________\n",
      " Layer (type)                Output Shape              Param #   \n",
      "=================================================================\n",
      " dense_10 (Dense)            (None, 6)                 66        \n",
      "                                                                 \n",
      " dense_11 (Dense)            (None, 1)                 7         \n",
      "                                                                 \n",
      "=================================================================\n",
      "Total params: 73 (292.00 Byte)\n",
      "Trainable params: 73 (292.00 Byte)\n",
      "Non-trainable params: 0 (0.00 Byte)\n",
      "_________________________________________________________________\n"
     ]
    }
   ],
   "source": [
    "from tensorflow import keras\n",
    "from tensorflow.keras import layers\n",
    "\n",
    "model = keras.Sequential()\n",
    "\n",
    "model.add(layers.Dense(6,activation='relu',input_shape=(10,)))\n",
    "model.add(layers.Dense(1,activation='linear'))\n",
    "model.summary()"
   ]
  },
  {
   "cell_type": "code",
   "execution_count": 38,
   "id": "8d3b3f66",
   "metadata": {},
   "outputs": [],
   "source": [
    "model.compile(optimizer='rmsprop',loss='mse', metrics='mae')"
   ]
  },
  {
   "cell_type": "code",
   "execution_count": 39,
   "id": "bd602854",
   "metadata": {},
   "outputs": [
    {
     "name": "stdout",
     "output_type": "stream",
     "text": [
      "Epoch 1/10\n",
      "11/11 [==============================] - 0s 10ms/step - loss: 29856.5742 - mae: 154.3168\n",
      "Epoch 2/10\n",
      "11/11 [==============================] - 0s 6ms/step - loss: 29842.6074 - mae: 154.2728\n",
      "Epoch 3/10\n",
      "11/11 [==============================] - 0s 6ms/step - loss: 29830.9277 - mae: 154.2367\n",
      "Epoch 4/10\n",
      "11/11 [==============================] - 0s 6ms/step - loss: 29818.9492 - mae: 154.1986\n",
      "Epoch 5/10\n",
      "11/11 [==============================] - 0s 6ms/step - loss: 29806.8691 - mae: 154.1612\n",
      "Epoch 6/10\n",
      "11/11 [==============================] - 0s 6ms/step - loss: 29794.5234 - mae: 154.1226\n",
      "Epoch 7/10\n",
      "11/11 [==============================] - 0s 6ms/step - loss: 29782.1172 - mae: 154.0838\n",
      "Epoch 8/10\n",
      "11/11 [==============================] - 0s 6ms/step - loss: 29769.2988 - mae: 154.0432\n",
      "Epoch 9/10\n",
      "11/11 [==============================] - 0s 6ms/step - loss: 29756.1367 - mae: 154.0025\n",
      "Epoch 10/10\n",
      "11/11 [==============================] - 0s 6ms/step - loss: 29742.7734 - mae: 153.9604\n"
     ]
    },
    {
     "data": {
      "text/plain": [
       "<keras.src.callbacks.History at 0x28fee6850>"
      ]
     },
     "execution_count": 39,
     "metadata": {},
     "output_type": "execute_result"
    }
   ],
   "source": [
    "model.fit(train_input,train_target,epochs=10)"
   ]
  },
  {
   "cell_type": "code",
   "execution_count": 40,
   "id": "0670eca9",
   "metadata": {},
   "outputs": [
    {
     "name": "stdout",
     "output_type": "stream",
     "text": [
      "(331, 10)\n"
     ]
    }
   ],
   "source": [
    "# 전처리\n",
    "from sklearn.preprocessing import StandardScaler\n",
    "sc= StandardScaler()\n",
    "print(train_input.shape)\n",
    "sc.fit(train_input)\n",
    "train_input = sc.transform(train_input)"
   ]
  },
  {
   "cell_type": "code",
   "execution_count": 41,
   "id": "120be0eb",
   "metadata": {},
   "outputs": [
    {
     "name": "stdout",
     "output_type": "stream",
     "text": [
      "[[-0.14076048 -0.94415495  0.84790954  1.00611767  0.49966677 -0.49570782\n",
      "   1.59560967 -0.83615253  1.05349869  0.52027913]\n",
      " [ 1.34704232 -0.94415495 -1.11841168  2.22985217  0.64281174  0.40027943\n",
      "  -0.36237506  0.47126119  1.173589    0.78239844]\n",
      " [ 0.17246116 -0.94415495  1.12227995 -0.14563245  1.18676263  0.926185\n",
      "  -0.0490975   0.4636155   1.12456479  2.18036813]]\n"
     ]
    }
   ],
   "source": [
    "print(train_input[:3])"
   ]
  },
  {
   "cell_type": "code",
   "execution_count": 42,
   "id": "ae3a6528",
   "metadata": {},
   "outputs": [],
   "source": [
    "from sklearn.preprocessing import StandardScaler\n",
    "sc= StandardScaler()\n",
    "train_target = train_target.reshape((-1,1))\n",
    "sc.fit(train_target)\n",
    "train_target = sc.transform(train_target)"
   ]
  },
  {
   "cell_type": "code",
   "execution_count": 43,
   "id": "1396be3d",
   "metadata": {},
   "outputs": [
    {
     "name": "stdout",
     "output_type": "stream",
     "text": [
      "[[0.14991654]\n",
      " [0.4457472 ]\n",
      " [0.23995196]]\n"
     ]
    }
   ],
   "source": [
    "print(train_target[:3])"
   ]
  },
  {
   "cell_type": "code",
   "execution_count": 45,
   "id": "f8c7741f",
   "metadata": {},
   "outputs": [
    {
     "name": "stdout",
     "output_type": "stream",
     "text": [
      "Epoch 1/30\n",
      "11/11 [==============================] - 0s 8ms/step - loss: 0.9577 - mae: 0.7797\n",
      "Epoch 2/30\n",
      "11/11 [==============================] - 0s 8ms/step - loss: 0.8863 - mae: 0.7515\n",
      "Epoch 3/30\n",
      "11/11 [==============================] - 0s 8ms/step - loss: 0.8247 - mae: 0.7258\n",
      "Epoch 4/30\n",
      "11/11 [==============================] - 0s 8ms/step - loss: 0.7733 - mae: 0.7046\n",
      "Epoch 5/30\n",
      "11/11 [==============================] - 0s 8ms/step - loss: 0.7274 - mae: 0.6842\n",
      "Epoch 6/30\n",
      "11/11 [==============================] - 0s 8ms/step - loss: 0.6877 - mae: 0.6669\n",
      "Epoch 7/30\n",
      "11/11 [==============================] - 0s 8ms/step - loss: 0.6521 - mae: 0.6514\n",
      "Epoch 8/30\n",
      "11/11 [==============================] - 0s 8ms/step - loss: 0.6251 - mae: 0.6397\n",
      "Epoch 9/30\n",
      "11/11 [==============================] - 0s 9ms/step - loss: 0.5998 - mae: 0.6270\n",
      "Epoch 10/30\n",
      "11/11 [==============================] - 0s 9ms/step - loss: 0.5790 - mae: 0.6179\n",
      "Epoch 11/30\n",
      "11/11 [==============================] - 0s 8ms/step - loss: 0.5614 - mae: 0.6095\n",
      "Epoch 12/30\n",
      "11/11 [==============================] - 0s 9ms/step - loss: 0.5512 - mae: 0.6046\n",
      "Epoch 13/30\n",
      "11/11 [==============================] - 0s 8ms/step - loss: 0.5401 - mae: 0.5997\n",
      "Epoch 14/30\n",
      "11/11 [==============================] - 0s 8ms/step - loss: 0.5321 - mae: 0.5957\n",
      "Epoch 15/30\n",
      "11/11 [==============================] - 0s 8ms/step - loss: 0.5254 - mae: 0.5923\n",
      "Epoch 16/30\n",
      "11/11 [==============================] - 0s 8ms/step - loss: 0.5182 - mae: 0.5890\n",
      "Epoch 17/30\n",
      "11/11 [==============================] - 0s 8ms/step - loss: 0.5144 - mae: 0.5866\n",
      "Epoch 18/30\n",
      "11/11 [==============================] - 0s 8ms/step - loss: 0.5107 - mae: 0.5852\n",
      "Epoch 19/30\n",
      "11/11 [==============================] - 0s 8ms/step - loss: 0.5072 - mae: 0.5827\n",
      "Epoch 20/30\n",
      "11/11 [==============================] - 0s 8ms/step - loss: 0.5042 - mae: 0.5809\n",
      "Epoch 21/30\n",
      "11/11 [==============================] - 0s 8ms/step - loss: 0.5008 - mae: 0.5790\n",
      "Epoch 22/30\n",
      "11/11 [==============================] - 0s 8ms/step - loss: 0.4991 - mae: 0.5774\n",
      "Epoch 23/30\n",
      "11/11 [==============================] - 0s 8ms/step - loss: 0.4993 - mae: 0.5784\n",
      "Epoch 24/30\n",
      "11/11 [==============================] - 0s 8ms/step - loss: 0.4963 - mae: 0.5759\n",
      "Epoch 25/30\n",
      "11/11 [==============================] - 0s 8ms/step - loss: 0.4956 - mae: 0.5759\n",
      "Epoch 26/30\n",
      "11/11 [==============================] - 0s 8ms/step - loss: 0.4947 - mae: 0.5757\n",
      "Epoch 27/30\n",
      "11/11 [==============================] - 0s 8ms/step - loss: 0.4933 - mae: 0.5744\n",
      "Epoch 28/30\n",
      "11/11 [==============================] - 0s 8ms/step - loss: 0.4937 - mae: 0.5743\n",
      "Epoch 29/30\n",
      "11/11 [==============================] - 0s 8ms/step - loss: 0.4923 - mae: 0.5740\n",
      "Epoch 30/30\n",
      "11/11 [==============================] - 0s 8ms/step - loss: 0.4911 - mae: 0.5733\n"
     ]
    },
    {
     "data": {
      "text/plain": [
       "<keras.src.callbacks.History at 0x294612e50>"
      ]
     },
     "execution_count": 45,
     "metadata": {},
     "output_type": "execute_result"
    }
   ],
   "source": [
    "model.fit(train_input,train_target,epochs=30)"
   ]
  }
 ],
 "metadata": {
  "kernelspec": {
   "display_name": "Python 3 (ipykernel)",
   "language": "python",
   "name": "python3"
  },
  "language_info": {
   "codemirror_mode": {
    "name": "ipython",
    "version": 3
   },
   "file_extension": ".py",
   "mimetype": "text/x-python",
   "name": "python",
   "nbconvert_exporter": "python",
   "pygments_lexer": "ipython3",
   "version": "3.11.4"
  }
 },
 "nbformat": 4,
 "nbformat_minor": 5
}
