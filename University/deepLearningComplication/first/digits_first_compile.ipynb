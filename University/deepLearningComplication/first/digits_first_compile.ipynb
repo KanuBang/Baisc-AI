{
 "cells": [
  {
   "cell_type": "code",
   "execution_count": 1,
   "id": "b0c910bf",
   "metadata": {},
   "outputs": [],
   "source": [
    "from sklearn import datasets\n",
    "digits = datasets.load_digits()"
   ]
  },
  {
   "cell_type": "code",
   "execution_count": 2,
   "id": "bd345da4",
   "metadata": {},
   "outputs": [],
   "source": [
    "data = digits.data\n",
    "target = digits.target"
   ]
  },
  {
   "cell_type": "code",
   "execution_count": 3,
   "id": "536304ef",
   "metadata": {},
   "outputs": [],
   "source": [
    "from sklearn.model_selection import train_test_split\n",
    "\n",
    "train_input, test_input, train_target, test_target = train_test_split(data,target,random_state=42)"
   ]
  },
  {
   "cell_type": "code",
   "execution_count": 4,
   "id": "7052f032",
   "metadata": {},
   "outputs": [
    {
     "data": {
      "text/plain": [
       "(1347, 64)"
      ]
     },
     "execution_count": 4,
     "metadata": {},
     "output_type": "execute_result"
    }
   ],
   "source": [
    "train_input.shape"
   ]
  },
  {
   "cell_type": "code",
   "execution_count": 5,
   "id": "2b7a1fed",
   "metadata": {},
   "outputs": [
    {
     "data": {
      "text/plain": [
       "(450, 64)"
      ]
     },
     "execution_count": 5,
     "metadata": {},
     "output_type": "execute_result"
    }
   ],
   "source": [
    "test_input.shape"
   ]
  },
  {
   "cell_type": "code",
   "execution_count": 6,
   "id": "693738c8",
   "metadata": {},
   "outputs": [
    {
     "data": {
      "text/plain": [
       "(1347,)"
      ]
     },
     "execution_count": 6,
     "metadata": {},
     "output_type": "execute_result"
    }
   ],
   "source": [
    "train_target.shape"
   ]
  },
  {
   "cell_type": "code",
   "execution_count": 7,
   "id": "216e86c1",
   "metadata": {},
   "outputs": [
    {
     "data": {
      "text/plain": [
       "(450,)"
      ]
     },
     "execution_count": 7,
     "metadata": {},
     "output_type": "execute_result"
    }
   ],
   "source": [
    "test_target.shape"
   ]
  },
  {
   "cell_type": "code",
   "execution_count": 8,
   "id": "333e3e64",
   "metadata": {},
   "outputs": [
    {
     "name": "stdout",
     "output_type": "stream",
     "text": [
      "{0, 1, 2, 3, 4, 5, 6, 7, 8, 9}\n"
     ]
    }
   ],
   "source": [
    "print(set(train_target))"
   ]
  },
  {
   "cell_type": "markdown",
   "id": "9d30af79",
   "metadata": {},
   "source": [
    "문제: 다중 분류\n",
    "입력: 64\n",
    "출력: 10"
   ]
  },
  {
   "cell_type": "code",
   "execution_count": 9,
   "id": "a2fc2167",
   "metadata": {},
   "outputs": [],
   "source": [
    "# 전처리\n",
    "from tensorflow.keras.utils import to_categorical\n",
    "\n",
    "train_target = to_categorical(train_target)"
   ]
  },
  {
   "cell_type": "code",
   "execution_count": 10,
   "id": "f4c28fda",
   "metadata": {},
   "outputs": [
    {
     "name": "stdout",
     "output_type": "stream",
     "text": [
      "[[0. 0. 0. 0. 0. 1. 0. 0. 0. 0.]\n",
      " [0. 0. 1. 0. 0. 0. 0. 0. 0. 0.]]\n"
     ]
    }
   ],
   "source": [
    "print(train_target[:2])"
   ]
  },
  {
   "cell_type": "code",
   "execution_count": 11,
   "id": "98cfa503",
   "metadata": {},
   "outputs": [
    {
     "name": "stderr",
     "output_type": "stream",
     "text": [
      "2023-10-16 13:40:27.708473: I metal_plugin/src/device/metal_device.cc:1154] Metal device set to: Apple M2\n",
      "2023-10-16 13:40:27.708537: I metal_plugin/src/device/metal_device.cc:296] systemMemory: 8.00 GB\n",
      "2023-10-16 13:40:27.708556: I metal_plugin/src/device/metal_device.cc:313] maxCacheSize: 2.67 GB\n",
      "2023-10-16 13:40:27.708801: I tensorflow/core/common_runtime/pluggable_device/pluggable_device_factory.cc:306] Could not identify NUMA node of platform GPU ID 0, defaulting to 0. Your kernel may not have been built with NUMA support.\n",
      "2023-10-16 13:40:27.709196: I tensorflow/core/common_runtime/pluggable_device/pluggable_device_factory.cc:272] Created TensorFlow device (/job:localhost/replica:0/task:0/device:GPU:0 with 0 MB memory) -> physical PluggableDevice (device: 0, name: METAL, pci bus id: <undefined>)\n"
     ]
    },
    {
     "name": "stdout",
     "output_type": "stream",
     "text": [
      "Model: \"sequential\"\n",
      "_________________________________________________________________\n",
      " Layer (type)                Output Shape              Param #   \n",
      "=================================================================\n",
      " dense (Dense)               (None, 16)                1040      \n",
      "                                                                 \n",
      " dense_1 (Dense)             (None, 10)                170       \n",
      "                                                                 \n",
      "=================================================================\n",
      "Total params: 1210 (4.73 KB)\n",
      "Trainable params: 1210 (4.73 KB)\n",
      "Non-trainable params: 0 (0.00 Byte)\n",
      "_________________________________________________________________\n"
     ]
    }
   ],
   "source": [
    "from tensorflow import keras\n",
    "from tensorflow.keras import layers\n",
    "\n",
    "model = keras.Sequential()\n",
    "model.add(layers.Dense(16, activation='relu', input_shape = (64,)))\n",
    "model.add(layers.Dense(10, activation='softmax'))\n",
    "model.summary()"
   ]
  },
  {
   "cell_type": "code",
   "execution_count": 13,
   "id": "980a8bf9",
   "metadata": {},
   "outputs": [],
   "source": [
    "model.compile(optimizer='rmsprop',loss='categorical_crossentropy',metrics=['accuracy'])"
   ]
  },
  {
   "cell_type": "code",
   "execution_count": 14,
   "id": "33fbef4f",
   "metadata": {},
   "outputs": [
    {
     "name": "stdout",
     "output_type": "stream",
     "text": [
      "Epoch 1/10\n"
     ]
    },
    {
     "name": "stderr",
     "output_type": "stream",
     "text": [
      "2023-10-16 13:41:15.651519: I tensorflow/core/grappler/optimizers/custom_graph_optimizer_registry.cc:117] Plugin optimizer for device_type GPU is enabled.\n"
     ]
    },
    {
     "name": "stdout",
     "output_type": "stream",
     "text": [
      "43/43 [==============================] - 2s 21ms/step - loss: 9.1413 - accuracy: 0.1188\n",
      "Epoch 2/10\n",
      "43/43 [==============================] - 0s 10ms/step - loss: 4.8616 - accuracy: 0.2873\n",
      "Epoch 3/10\n",
      "43/43 [==============================] - 0s 9ms/step - loss: 3.0854 - accuracy: 0.4328\n",
      "Epoch 4/10\n",
      "43/43 [==============================] - 0s 9ms/step - loss: 2.1517 - accuracy: 0.5405\n",
      "Epoch 5/10\n",
      "43/43 [==============================] - 0s 9ms/step - loss: 1.6299 - accuracy: 0.6221\n",
      "Epoch 6/10\n",
      "43/43 [==============================] - 0s 10ms/step - loss: 1.2619 - accuracy: 0.6837\n",
      "Epoch 7/10\n",
      "43/43 [==============================] - 0s 11ms/step - loss: 1.0164 - accuracy: 0.7261\n",
      "Epoch 8/10\n",
      "43/43 [==============================] - 1s 12ms/step - loss: 0.8562 - accuracy: 0.7661\n",
      "Epoch 9/10\n",
      "43/43 [==============================] - 0s 9ms/step - loss: 0.7012 - accuracy: 0.8070\n",
      "Epoch 10/10\n",
      "43/43 [==============================] - 0s 9ms/step - loss: 0.6097 - accuracy: 0.8404\n"
     ]
    },
    {
     "data": {
      "text/plain": [
       "<keras.src.callbacks.History at 0x28a4bd7d0>"
      ]
     },
     "execution_count": 14,
     "metadata": {},
     "output_type": "execute_result"
    }
   ],
   "source": [
    "model.fit(train_input,train_target,epochs=10)"
   ]
  },
  {
   "cell_type": "code",
   "execution_count": 15,
   "id": "23747310",
   "metadata": {},
   "outputs": [
    {
     "name": "stdout",
     "output_type": "stream",
     "text": [
      "[[ 0.  0.  2. 15. 15. 16. 11.  0.  0.  0.  8. 16. 11.  3.  0.  0.  0.  0.\n",
      "  13.  9.  0.  0.  0.  0.  0.  5. 16.  3.  9. 11.  3.  0.  0. 10. 15. 15.\n",
      "  16. 16. 11.  0.  0.  6. 16. 10.  7. 16.  5.  0.  0.  0.  3.  4. 15.  8.\n",
      "   0.  0.  0.  0.  4. 15.  7.  0.  0.  0.]\n",
      " [ 0.  5. 16. 15.  3.  0.  0.  0.  0. 11. 14. 11. 11.  0.  0.  0.  0.  8.\n",
      "  11.  4. 16.  0.  0.  0.  0.  0.  0.  4. 13.  0.  0.  0.  0.  0.  0.  8.\n",
      "  12.  0.  0.  0.  0.  0.  0. 13.  9.  5.  1.  0.  0.  1. 11. 16. 16. 16.\n",
      "  10.  0.  0.  5. 16. 14.  8.  6.  1.  0.]\n",
      " [ 0.  0.  4. 13.  8.  0.  0.  0.  0.  0. 13. 16. 15.  7.  0.  0.  0.  3.\n",
      "  16.  9.  6. 15.  6.  0.  0.  8. 14.  0.  0.  4.  8.  0.  0.  8. 12.  0.\n",
      "   0.  4.  8.  0.  0.  4. 12.  0.  0. 11.  6.  0.  0.  0. 14. 10. 12. 14.\n",
      "   1.  0.  0.  0.  7. 15. 11.  2.  0.  0.]]\n"
     ]
    }
   ],
   "source": [
    "print(train_input[:3])"
   ]
  },
  {
   "cell_type": "code",
   "execution_count": 16,
   "id": "3161c51c",
   "metadata": {},
   "outputs": [],
   "source": [
    "from sklearn.preprocessing import StandardScaler\n",
    "sc = StandardScaler()\n",
    "sc.fit(train_input)\n",
    "train_input = sc.transform(train_input)"
   ]
  },
  {
   "cell_type": "code",
   "execution_count": 17,
   "id": "bd440df3",
   "metadata": {},
   "outputs": [
    {
     "name": "stdout",
     "output_type": "stream",
     "text": [
      "Epoch 1/10\n",
      "43/43 [==============================] - 0s 9ms/step - loss: 0.9895 - accuracy: 0.7513\n",
      "Epoch 2/10\n",
      "43/43 [==============================] - 0s 9ms/step - loss: 0.7587 - accuracy: 0.8218\n",
      "Epoch 3/10\n",
      "43/43 [==============================] - 0s 9ms/step - loss: 0.5905 - accuracy: 0.8738\n",
      "Epoch 4/10\n",
      "43/43 [==============================] - 0s 9ms/step - loss: 0.4751 - accuracy: 0.9042\n",
      "Epoch 5/10\n",
      "43/43 [==============================] - 0s 9ms/step - loss: 0.3915 - accuracy: 0.9250\n",
      "Epoch 6/10\n",
      "43/43 [==============================] - 0s 9ms/step - loss: 0.3332 - accuracy: 0.9317\n",
      "Epoch 7/10\n",
      "43/43 [==============================] - 0s 9ms/step - loss: 0.2925 - accuracy: 0.9376\n",
      "Epoch 8/10\n",
      "43/43 [==============================] - 0s 9ms/step - loss: 0.2613 - accuracy: 0.9473\n",
      "Epoch 9/10\n",
      "43/43 [==============================] - 0s 9ms/step - loss: 0.2359 - accuracy: 0.9480\n",
      "Epoch 10/10\n",
      "43/43 [==============================] - 0s 10ms/step - loss: 0.2156 - accuracy: 0.9510\n"
     ]
    },
    {
     "data": {
      "text/plain": [
       "<keras.src.callbacks.History at 0x287fd7a90>"
      ]
     },
     "execution_count": 17,
     "metadata": {},
     "output_type": "execute_result"
    }
   ],
   "source": [
    "model.fit(train_input,train_target,epochs=10)"
   ]
  }
 ],
 "metadata": {
  "kernelspec": {
   "display_name": "Python 3 (ipykernel)",
   "language": "python",
   "name": "python3"
  },
  "language_info": {
   "codemirror_mode": {
    "name": "ipython",
    "version": 3
   },
   "file_extension": ".py",
   "mimetype": "text/x-python",
   "name": "python",
   "nbconvert_exporter": "python",
   "pygments_lexer": "ipython3",
   "version": "3.11.4"
  }
 },
 "nbformat": 4,
 "nbformat_minor": 5
}
