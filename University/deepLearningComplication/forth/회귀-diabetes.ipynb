{
 "cells": [
  {
   "cell_type": "code",
   "execution_count": 50,
   "id": "4d17a75a",
   "metadata": {},
   "outputs": [],
   "source": [
    "from sklearn import datasets\n",
    "\n",
    "diabetes = datasets.load_diabetes()"
   ]
  },
  {
   "cell_type": "code",
   "execution_count": 51,
   "id": "671ec715",
   "metadata": {},
   "outputs": [],
   "source": [
    "data = diabetes.data\n",
    "target= diabetes.target"
   ]
  },
  {
   "cell_type": "code",
   "execution_count": 52,
   "id": "8e496429",
   "metadata": {},
   "outputs": [],
   "source": [
    "from sklearn.model_selection import train_test_split\n",
    "train_input,test_input,train_target,test_target = train_test_split(data,target,random_state=42)"
   ]
  },
  {
   "cell_type": "code",
   "execution_count": 53,
   "id": "b2ddae01",
   "metadata": {},
   "outputs": [
    {
     "data": {
      "text/plain": [
       "(331, 10)"
      ]
     },
     "execution_count": 53,
     "metadata": {},
     "output_type": "execute_result"
    }
   ],
   "source": [
    "train_input.shape"
   ]
  },
  {
   "cell_type": "code",
   "execution_count": 54,
   "id": "1f867fcc",
   "metadata": {},
   "outputs": [
    {
     "data": {
      "text/plain": [
       "(331,)"
      ]
     },
     "execution_count": 54,
     "metadata": {},
     "output_type": "execute_result"
    }
   ],
   "source": [
    "train_target.shape"
   ]
  },
  {
   "cell_type": "code",
   "execution_count": 55,
   "id": "5c1f4bec",
   "metadata": {},
   "outputs": [
    {
     "name": "stdout",
     "output_type": "stream",
     "text": [
      "{25.0, 31.0, 39.0, 40.0, 42.0, 43.0, 44.0, 45.0, 47.0, 48.0, 49.0, 50.0, 51.0, 52.0, 53.0, 54.0, 55.0, 57.0, 58.0, 59.0, 60.0, 61.0, 63.0, 64.0, 65.0, 66.0, 67.0, 68.0, 69.0, 70.0, 71.0, 72.0, 73.0, 74.0, 75.0, 77.0, 78.0, 79.0, 80.0, 81.0, 83.0, 84.0, 85.0, 86.0, 87.0, 88.0, 89.0, 90.0, 91.0, 92.0, 93.0, 94.0, 95.0, 96.0, 97.0, 99.0, 100.0, 101.0, 102.0, 103.0, 104.0, 107.0, 109.0, 110.0, 111.0, 113.0, 114.0, 115.0, 116.0, 118.0, 120.0, 121.0, 122.0, 123.0, 124.0, 126.0, 127.0, 128.0, 129.0, 131.0, 132.0, 134.0, 135.0, 137.0, 138.0, 139.0, 141.0, 142.0, 143.0, 144.0, 145.0, 146.0, 147.0, 148.0, 150.0, 151.0, 152.0, 154.0, 155.0, 158.0, 160.0, 161.0, 162.0, 163.0, 164.0, 166.0, 168.0, 170.0, 172.0, 173.0, 174.0, 175.0, 177.0, 178.0, 179.0, 180.0, 181.0, 182.0, 183.0, 185.0, 189.0, 190.0, 191.0, 192.0, 195.0, 196.0, 197.0, 198.0, 199.0, 200.0, 201.0, 202.0, 206.0, 208.0, 209.0, 210.0, 212.0, 214.0, 215.0, 216.0, 217.0, 219.0, 220.0, 221.0, 225.0, 229.0, 230.0, 232.0, 233.0, 235.0, 236.0, 237.0, 241.0, 242.0, 243.0, 244.0, 245.0, 246.0, 248.0, 249.0, 252.0, 253.0, 257.0, 258.0, 259.0, 261.0, 262.0, 263.0, 265.0, 268.0, 270.0, 272.0, 273.0, 274.0, 275.0, 276.0, 277.0, 279.0, 281.0, 283.0, 288.0, 292.0, 293.0, 296.0, 302.0, 303.0, 306.0, 308.0, 310.0, 311.0, 317.0, 321.0, 332.0, 336.0, 341.0, 346.0}\n"
     ]
    }
   ],
   "source": [
    "print(set(train_target))"
   ]
  },
  {
   "cell_type": "code",
   "execution_count": 56,
   "id": "2f2b1ef0",
   "metadata": {},
   "outputs": [],
   "source": [
    "# 문제 회귀"
   ]
  },
  {
   "cell_type": "code",
   "execution_count": 57,
   "id": "bac379ba",
   "metadata": {},
   "outputs": [],
   "source": [
    "# 전처리\n",
    "from sklearn.preprocessing import StandardScaler\n",
    "\n",
    "sc = StandardScaler()\n",
    "sc.fit(train_input)\n",
    "train_input = sc.transform(train_input)"
   ]
  },
  {
   "cell_type": "code",
   "execution_count": 58,
   "id": "7089c746",
   "metadata": {},
   "outputs": [
    {
     "name": "stdout",
     "output_type": "stream",
     "text": [
      "[166. 189. 173.]\n"
     ]
    }
   ],
   "source": [
    "print(train_target[:3])"
   ]
  },
  {
   "cell_type": "code",
   "execution_count": 59,
   "id": "b9f985d9",
   "metadata": {},
   "outputs": [
    {
     "name": "stdout",
     "output_type": "stream",
     "text": [
      "[[166.]\n",
      " [189.]\n",
      " [173.]\n",
      " [220.]\n",
      " [206.]\n",
      " [ 97.]\n",
      " [ 60.]\n",
      " [ 61.]\n",
      " [242.]\n",
      " [121.]\n",
      " [128.]\n",
      " [104.]\n",
      " [265.]\n",
      " [132.]\n",
      " [283.]\n",
      " [174.]\n",
      " [129.]\n",
      " [257.]\n",
      " [137.]\n",
      " [ 63.]\n",
      " [ 93.]\n",
      " [232.]\n",
      " [208.]\n",
      " [261.]\n",
      " [179.]\n",
      " [258.]\n",
      " [262.]\n",
      " [ 51.]\n",
      " [237.]\n",
      " [ 71.]\n",
      " [139.]\n",
      " [268.]\n",
      " [ 69.]\n",
      " [317.]\n",
      " [249.]\n",
      " [154.]\n",
      " [192.]\n",
      " [116.]\n",
      " [ 81.]\n",
      " [122.]\n",
      " [259.]\n",
      " [191.]\n",
      " [292.]\n",
      " [ 55.]\n",
      " [107.]\n",
      " [210.]\n",
      " [ 91.]\n",
      " [253.]\n",
      " [ 85.]\n",
      " [252.]\n",
      " [ 59.]\n",
      " [ 78.]\n",
      " [200.]\n",
      " [ 78.]\n",
      " [245.]\n",
      " [175.]\n",
      " [ 42.]\n",
      " [127.]\n",
      " [ 53.]\n",
      " [ 94.]\n",
      " [104.]\n",
      " [199.]\n",
      " [265.]\n",
      " [281.]\n",
      " [248.]\n",
      " [257.]\n",
      " [215.]\n",
      " [303.]\n",
      " [170.]\n",
      " [ 59.]\n",
      " [277.]\n",
      " [209.]\n",
      " [138.]\n",
      " [198.]\n",
      " [124.]\n",
      " [ 96.]\n",
      " [288.]\n",
      " [225.]\n",
      " [265.]\n",
      " [101.]\n",
      " [ 55.]\n",
      " [198.]\n",
      " [ 51.]\n",
      " [252.]\n",
      " [ 64.]\n",
      " [220.]\n",
      " [131.]\n",
      " [212.]\n",
      " [142.]\n",
      " [103.]\n",
      " [155.]\n",
      " [121.]\n",
      " [ 86.]\n",
      " [111.]\n",
      " [ 65.]\n",
      " [131.]\n",
      " [ 51.]\n",
      " [128.]\n",
      " [141.]\n",
      " [ 48.]\n",
      " [109.]\n",
      " [178.]\n",
      " [ 88.]\n",
      " [ 84.]\n",
      " [216.]\n",
      " [150.]\n",
      " [ 60.]\n",
      " [ 96.]\n",
      " [190.]\n",
      " [ 74.]\n",
      " [279.]\n",
      " [182.]\n",
      " [160.]\n",
      " [245.]\n",
      " [276.]\n",
      " [174.]\n",
      " [180.]\n",
      " [150.]\n",
      " [196.]\n",
      " [138.]\n",
      " [ 97.]\n",
      " [246.]\n",
      " [321.]\n",
      " [308.]\n",
      " [109.]\n",
      " [ 69.]\n",
      " [182.]\n",
      " [258.]\n",
      " [161.]\n",
      " [178.]\n",
      " [214.]\n",
      " [ 45.]\n",
      " [150.]\n",
      " [160.]\n",
      " [ 55.]\n",
      " [197.]\n",
      " [185.]\n",
      " [268.]\n",
      " [310.]\n",
      " [123.]\n",
      " [ 68.]\n",
      " [ 72.]\n",
      " [185.]\n",
      " [144.]\n",
      " [147.]\n",
      " [168.]\n",
      " [178.]\n",
      " [246.]\n",
      " [151.]\n",
      " [127.]\n",
      " [ 83.]\n",
      " [332.]\n",
      " [152.]\n",
      " [109.]\n",
      " [ 90.]\n",
      " [ 66.]\n",
      " [214.]\n",
      " [ 85.]\n",
      " [129.]\n",
      " [ 89.]\n",
      " [259.]\n",
      " [229.]\n",
      " [200.]\n",
      " [ 77.]\n",
      " [ 54.]\n",
      " [ 31.]\n",
      " [109.]\n",
      " [206.]\n",
      " [144.]\n",
      " [118.]\n",
      " [ 83.]\n",
      " [242.]\n",
      " [259.]\n",
      " [ 72.]\n",
      " [163.]\n",
      " [181.]\n",
      " [141.]\n",
      " [ 71.]\n",
      " [137.]\n",
      " [195.]\n",
      " [179.]\n",
      " [102.]\n",
      " [131.]\n",
      " [ 47.]\n",
      " [235.]\n",
      " [ 77.]\n",
      " [198.]\n",
      " [ 93.]\n",
      " [162.]\n",
      " [225.]\n",
      " [275.]\n",
      " [183.]\n",
      " [306.]\n",
      " [ 81.]\n",
      " [ 55.]\n",
      " [146.]\n",
      " [196.]\n",
      " [230.]\n",
      " [310.]\n",
      " [ 40.]\n",
      " [135.]\n",
      " [346.]\n",
      " [ 43.]\n",
      " [128.]\n",
      " [ 77.]\n",
      " [235.]\n",
      " [ 49.]\n",
      " [ 74.]\n",
      " [ 92.]\n",
      " [ 84.]\n",
      " [263.]\n",
      " [144.]\n",
      " [142.]\n",
      " [341.]\n",
      " [115.]\n",
      " [158.]\n",
      " [273.]\n",
      " [ 85.]\n",
      " [ 88.]\n",
      " [220.]\n",
      " [ 39.]\n",
      " [ 80.]\n",
      " [172.]\n",
      " [217.]\n",
      " [336.]\n",
      " [ 52.]\n",
      " [272.]\n",
      " [115.]\n",
      " [110.]\n",
      " [131.]\n",
      " [ 71.]\n",
      " [275.]\n",
      " [118.]\n",
      " [ 25.]\n",
      " [100.]\n",
      " [281.]\n",
      " [221.]\n",
      " [248.]\n",
      " [200.]\n",
      " [132.]\n",
      " [ 91.]\n",
      " [ 67.]\n",
      " [202.]\n",
      " [ 73.]\n",
      " [ 85.]\n",
      " [275.]\n",
      " [243.]\n",
      " [ 66.]\n",
      " [293.]\n",
      " [236.]\n",
      " [243.]\n",
      " [ 87.]\n",
      " [ 39.]\n",
      " [217.]\n",
      " [ 92.]\n",
      " [296.]\n",
      " [292.]\n",
      " [142.]\n",
      " [ 50.]\n",
      " [ 53.]\n",
      " [104.]\n",
      " [ 75.]\n",
      " [120.]\n",
      " [142.]\n",
      " [143.]\n",
      " [ 99.]\n",
      " [ 65.]\n",
      " [116.]\n",
      " [233.]\n",
      " [164.]\n",
      " [ 95.]\n",
      " [ 59.]\n",
      " [139.]\n",
      " [145.]\n",
      " [177.]\n",
      " [185.]\n",
      " [ 97.]\n",
      " [ 42.]\n",
      " [201.]\n",
      " [241.]\n",
      " [ 70.]\n",
      " [ 78.]\n",
      " [ 49.]\n",
      " [103.]\n",
      " [ 44.]\n",
      " [111.]\n",
      " [191.]\n",
      " [ 47.]\n",
      " [182.]\n",
      " [ 58.]\n",
      " [155.]\n",
      " [151.]\n",
      " [ 79.]\n",
      " [104.]\n",
      " [143.]\n",
      " [152.]\n",
      " [170.]\n",
      " [ 75.]\n",
      " [200.]\n",
      " [124.]\n",
      " [ 91.]\n",
      " [ 49.]\n",
      " [163.]\n",
      " [ 53.]\n",
      " [283.]\n",
      " [178.]\n",
      " [219.]\n",
      " [200.]\n",
      " [113.]\n",
      " [113.]\n",
      " [ 63.]\n",
      " [114.]\n",
      " [126.]\n",
      " [274.]\n",
      " [ 88.]\n",
      " [311.]\n",
      " [ 83.]\n",
      " [ 71.]\n",
      " [134.]\n",
      " [244.]\n",
      " [ 65.]\n",
      " [173.]\n",
      " [ 57.]\n",
      " [ 68.]\n",
      " [141.]\n",
      " [270.]\n",
      " [134.]\n",
      " [202.]\n",
      " [148.]\n",
      " [ 64.]\n",
      " [302.]]\n"
     ]
    }
   ],
   "source": [
    "# 전처리\n",
    "# 1차원은 2차원으로\n",
    "from sklearn.preprocessing import StandardScaler\n",
    "sc = StandardScaler()\n",
    "\n",
    "train_target = train_target.reshape((-1,1))\n",
    "print(train_target)\n",
    "sc.fit(train_target)\n",
    "train_target = sc.transform(train_target)"
   ]
  },
  {
   "cell_type": "code",
   "execution_count": 62,
   "id": "8d2c50bc",
   "metadata": {},
   "outputs": [
    {
     "name": "stdout",
     "output_type": "stream",
     "text": [
      "Model: \"sequential_5\"\n",
      "_________________________________________________________________\n",
      " Layer (type)                Output Shape              Param #   \n",
      "=================================================================\n",
      " dense (Dense)               (None, 6)                 66        \n",
      "                                                                 \n",
      " dense_1 (Dense)             (None, 1)                 7         \n",
      "                                                                 \n",
      "=================================================================\n",
      "Total params: 73 (292.00 Byte)\n",
      "Trainable params: 73 (292.00 Byte)\n",
      "Non-trainable params: 0 (0.00 Byte)\n",
      "_________________________________________________________________\n"
     ]
    }
   ],
   "source": [
    "from tensorflow import keras\n",
    "from tensorflow.keras import layers\n",
    "\n",
    "model = keras.Sequential()\n",
    "model.add(layers.Dense(6,activation='relu',input_shape=(10,)))\n",
    "model.add(layers.Dense(1,activation='linear'))\n",
    "model.summary()"
   ]
  },
  {
   "cell_type": "code",
   "execution_count": 63,
   "id": "83f3114b",
   "metadata": {},
   "outputs": [],
   "source": [
    "model.compile(optimizer='rmsprop',loss='mse',metrics='mae')"
   ]
  },
  {
   "cell_type": "code",
   "execution_count": 64,
   "id": "9e912c4b",
   "metadata": {},
   "outputs": [
    {
     "name": "stdout",
     "output_type": "stream",
     "text": [
      "Epoch 1/5\n"
     ]
    },
    {
     "name": "stderr",
     "output_type": "stream",
     "text": [
      "2023-10-21 18:57:40.460504: I tensorflow/core/grappler/optimizers/custom_graph_optimizer_registry.cc:117] Plugin optimizer for device_type GPU is enabled.\n"
     ]
    },
    {
     "name": "stdout",
     "output_type": "stream",
     "text": [
      "11/11 [==============================] - 1s 12ms/step - loss: 3.5264 - mae: 1.5050\n",
      "Epoch 2/5\n",
      "11/11 [==============================] - 0s 5ms/step - loss: 3.0590 - mae: 1.4015\n",
      "Epoch 3/5\n",
      "11/11 [==============================] - 0s 4ms/step - loss: 2.7388 - mae: 1.3233\n",
      "Epoch 4/5\n",
      "11/11 [==============================] - 0s 4ms/step - loss: 2.4715 - mae: 1.2546\n",
      "Epoch 5/5\n",
      "11/11 [==============================] - 0s 5ms/step - loss: 2.2400 - mae: 1.1936\n"
     ]
    },
    {
     "data": {
      "text/plain": [
       "<keras.src.callbacks.History at 0x17681f610>"
      ]
     },
     "execution_count": 64,
     "metadata": {},
     "output_type": "execute_result"
    }
   ],
   "source": [
    "model.fit(train_input,train_input,epochs=5)"
   ]
  },
  {
   "cell_type": "code",
   "execution_count": null,
   "id": "21a4c103",
   "metadata": {},
   "outputs": [],
   "source": []
  },
  {
   "cell_type": "code",
   "execution_count": null,
   "id": "b30c25f4",
   "metadata": {},
   "outputs": [],
   "source": []
  },
  {
   "cell_type": "code",
   "execution_count": null,
   "id": "0faeb4d8",
   "metadata": {},
   "outputs": [],
   "source": []
  },
  {
   "cell_type": "code",
   "execution_count": null,
   "id": "8eae0e62",
   "metadata": {},
   "outputs": [],
   "source": []
  }
 ],
 "metadata": {
  "kernelspec": {
   "display_name": "Python 3 (ipykernel)",
   "language": "python",
   "name": "python3"
  },
  "language_info": {
   "codemirror_mode": {
    "name": "ipython",
    "version": 3
   },
   "file_extension": ".py",
   "mimetype": "text/x-python",
   "name": "python",
   "nbconvert_exporter": "python",
   "pygments_lexer": "ipython3",
   "version": "3.11.4"
  }
 },
 "nbformat": 4,
 "nbformat_minor": 5
}
