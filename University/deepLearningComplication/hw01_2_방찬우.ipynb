{
 "cells": [
  {
   "cell_type": "markdown",
   "metadata": {
    "id": "qhXYsxx4-t8t"
   },
   "source": [
    "데이터명 : IRIS (아이리스, 붗꽃 데이터)  \n",
    "레코드수 : 150개\n",
    "필드개수 : 4개\n",
    "\n",
    "데이터설명 : 아이리스(붓꽃) 데이터에 대한 데이터이다. 꽃잎의 각 부분의 너비와 길이등을 측정한 데이터이며 150개의 레코드로 구성되어 있다. 아이리스 꽃은 아래의 그림과 같다. 프랑스의 국화라고 한다.\n",
    "\n",
    "\n",
    "사용자 삽입 이미지\n",
    "\n",
    "필드의 이해 :\n",
    "데이터의 이해를 돕기 위해 포함된 4개의 변수에 대하여 간략하게 설명한다.  \n",
    "총 4개의 필드로 구성되어있다.\n",
    "\n",
    " Sepal Length\t꽃받침의 길이 정보이다.\n",
    "\n",
    " Sepal Width\t꽃받침의 너비 정보이다.\n",
    "\n",
    " Petal Length\t꽃잎의 길이 정보이다.\n",
    "\n",
    " Petal Width\t꽃잎의 너비 정보이다.  "
   ]
  },
  {
   "cell_type": "code",
   "execution_count": 76,
   "metadata": {
    "id": "e8LhnVKA7_J_"
   },
   "outputs": [],
   "source": [
    "from sklearn import datasets\n",
    "from sklearn.model_selection import train_test_split\n",
    "\n",
    "iris = datasets.load_iris()\n",
    "train_data, test_data, train_label, test_label = train_test_split(iris['data'], iris['target'], test_size=0.33, random_state=321)"
   ]
  },
  {
   "cell_type": "code",
   "execution_count": 77,
   "metadata": {
    "id": "5V0iwWU28Ngp"
   },
   "outputs": [
    {
     "data": {
      "text/plain": [
       "(100, 4)"
      ]
     },
     "execution_count": 77,
     "metadata": {},
     "output_type": "execute_result"
    }
   ],
   "source": [
    "train_data.shape"
   ]
  },
  {
   "cell_type": "code",
   "execution_count": 78,
   "metadata": {
    "id": "UKT_douo8PEW"
   },
   "outputs": [
    {
     "data": {
      "text/plain": [
       "(100,)"
      ]
     },
     "execution_count": 78,
     "metadata": {},
     "output_type": "execute_result"
    }
   ],
   "source": [
    "train_label.shape"
   ]
  },
  {
   "cell_type": "code",
   "execution_count": 79,
   "metadata": {
    "id": "y66vw2NO8ShU"
   },
   "outputs": [
    {
     "data": {
      "text/plain": [
       "array([[6.2, 2.9, 4.3, 1.3],\n",
       "       [5.7, 2.8, 4.1, 1.3],\n",
       "       [6.1, 2.6, 5.6, 1.4],\n",
       "       [5.4, 3.4, 1.7, 0.2],\n",
       "       [7.7, 2.8, 6.7, 2. ]])"
      ]
     },
     "execution_count": 79,
     "metadata": {},
     "output_type": "execute_result"
    }
   ],
   "source": [
    "train_data[0:5]"
   ]
  },
  {
   "cell_type": "code",
   "execution_count": 80,
   "metadata": {
    "id": "mp9bP2nY8Zi8"
   },
   "outputs": [
    {
     "data": {
      "text/plain": [
       "array([1, 1, 2, 0, 2])"
      ]
     },
     "execution_count": 80,
     "metadata": {},
     "output_type": "execute_result"
    }
   ],
   "source": [
    "train_label[0:5]"
   ]
  },
  {
   "cell_type": "code",
   "execution_count": 81,
   "metadata": {},
   "outputs": [
    {
     "data": {
      "text/plain": [
       "{0, 1, 2}"
      ]
     },
     "execution_count": 81,
     "metadata": {},
     "output_type": "execute_result"
    }
   ],
   "source": [
    "set(train_label)"
   ]
  },
  {
   "cell_type": "markdown",
   "metadata": {},
   "source": [
    "# 문제: 다항 분류\n",
    "# 입력: 4\n",
    "# 출력: 3"
   ]
  },
  {
   "cell_type": "code",
   "execution_count": 82,
   "metadata": {
    "id": "WSphrGyb8efm"
   },
   "outputs": [
    {
     "name": "stdout",
     "output_type": "stream",
     "text": [
      "Model: \"sequential_9\"\n",
      "_________________________________________________________________\n",
      " Layer (type)                Output Shape              Param #   \n",
      "=================================================================\n",
      " dense_18 (Dense)            (None, 3)                 15        \n",
      "                                                                 \n",
      " dense_19 (Dense)            (None, 3)                 12        \n",
      "                                                                 \n",
      "=================================================================\n",
      "Total params: 27 (108.00 Byte)\n",
      "Trainable params: 27 (108.00 Byte)\n",
      "Non-trainable params: 0 (0.00 Byte)\n",
      "_________________________________________________________________\n"
     ]
    }
   ],
   "source": [
    "# 학습 모델 만들기\n",
    "from tensorflow import keras\n",
    "from tensorflow.keras import layers\n",
    "\n",
    "model = keras.Sequential()\n",
    "model.add(layers.Dense(3,activation='relu',input_shape=(4,)))\n",
    "model.add(layers.Dense(3,activation='softmax'))\n",
    "# 주어진 데이터에 맞게 input_shape을 설정\n",
    "# model = model.add ( layers.Dense( ... ) )\n",
    "# ....\n",
    "\n",
    "# 마지막 layer는 출력에 맞게 Dense(3, activation='...')\n",
    "model.summary()"
   ]
  },
  {
   "cell_type": "code",
   "execution_count": 83,
   "metadata": {
    "id": "sxREZDHK8g3T"
   },
   "outputs": [],
   "source": [
    "# loss 함수 정하기\n",
    "# model.compile( ... )\n",
    "model.compile(optimizer='rmsprop',loss='categorical_crossentropy',metrics=['accuracy'])"
   ]
  },
  {
   "cell_type": "code",
   "execution_count": 84,
   "metadata": {},
   "outputs": [],
   "source": [
    "# 다항 함수의 필수 전처리\n",
    "from tensorflow.keras.utils import to_categorical\n",
    "\n",
    "train_label = to_categorical(train_label)"
   ]
  },
  {
   "cell_type": "code",
   "execution_count": 85,
   "metadata": {
    "id": "rl9-Ua3_81rx"
   },
   "outputs": [
    {
     "name": "stdout",
     "output_type": "stream",
     "text": [
      "Epoch 1/5\n",
      "4/4 [==============================] - 0s 21ms/step - loss: 4.7099 - accuracy: 0.3300\n",
      "Epoch 2/5\n",
      "4/4 [==============================] - 0s 11ms/step - loss: 4.4216 - accuracy: 0.3300\n",
      "Epoch 3/5\n",
      "4/4 [==============================] - 0s 10ms/step - loss: 4.2068 - accuracy: 0.3300\n",
      "Epoch 4/5\n",
      "4/4 [==============================] - 0s 10ms/step - loss: 4.0574 - accuracy: 0.3300\n",
      "Epoch 5/5\n",
      "4/4 [==============================] - 0s 10ms/step - loss: 3.8848 - accuracy: 0.3300\n"
     ]
    },
    {
     "data": {
      "text/plain": [
       "<keras.src.callbacks.History at 0x28d9a8390>"
      ]
     },
     "execution_count": 85,
     "metadata": {},
     "output_type": "execute_result"
    }
   ],
   "source": [
    "# 학습하기\n",
    "# model.fit( ... )\n",
    "model.fit(train_data,train_label,epochs=5)"
   ]
  },
  {
   "cell_type": "code",
   "execution_count": 88,
   "metadata": {},
   "outputs": [],
   "source": [
    "#훈련 데이터를 전처리해서 손실을 더 줄여보자\n",
    "\n",
    "from sklearn.preprocessing import StandardScaler\n",
    "sc = StandardScaler()\n",
    "# 2차원이므로 그대로 \n",
    "sc.fit(train_data)\n",
    "train_data = sc.transform(train_data)"
   ]
  },
  {
   "cell_type": "code",
   "execution_count": 89,
   "metadata": {},
   "outputs": [
    {
     "name": "stdout",
     "output_type": "stream",
     "text": [
      "Epoch 1/5\n",
      "4/4 [==============================] - 0s 18ms/step - loss: 1.1116 - accuracy: 0.3400\n",
      "Epoch 2/5\n",
      "4/4 [==============================] - 0s 12ms/step - loss: 1.1068 - accuracy: 0.3400\n",
      "Epoch 3/5\n",
      "4/4 [==============================] - 0s 12ms/step - loss: 1.1011 - accuracy: 0.3500\n",
      "Epoch 4/5\n",
      "4/4 [==============================] - 0s 11ms/step - loss: 1.0947 - accuracy: 0.3600\n",
      "Epoch 5/5\n",
      "4/4 [==============================] - 0s 10ms/step - loss: 1.0868 - accuracy: 0.3800\n"
     ]
    },
    {
     "data": {
      "text/plain": [
       "<keras.src.callbacks.History at 0x29b46d810>"
      ]
     },
     "execution_count": 89,
     "metadata": {},
     "output_type": "execute_result"
    }
   ],
   "source": [
    "model.fit(train_data,train_label,epochs=5)\n",
    "# 손실이 확실히 줄었다."
   ]
  },
  {
   "cell_type": "code",
   "execution_count": 90,
   "metadata": {},
   "outputs": [
    {
     "name": "stdout",
     "output_type": "stream",
     "text": [
      "Epoch 1/100\n",
      "4/4 [==============================] - 0s 13ms/step - loss: 1.0808 - accuracy: 0.3700\n",
      "Epoch 2/100\n",
      "4/4 [==============================] - 0s 11ms/step - loss: 1.0729 - accuracy: 0.3900\n",
      "Epoch 3/100\n",
      "4/4 [==============================] - 0s 11ms/step - loss: 1.0614 - accuracy: 0.4400\n",
      "Epoch 4/100\n",
      "4/4 [==============================] - 0s 11ms/step - loss: 1.0504 - accuracy: 0.4700\n",
      "Epoch 5/100\n",
      "4/4 [==============================] - 0s 14ms/step - loss: 1.0399 - accuracy: 0.4900\n",
      "Epoch 6/100\n",
      "4/4 [==============================] - 0s 11ms/step - loss: 1.0304 - accuracy: 0.5000\n",
      "Epoch 7/100\n",
      "4/4 [==============================] - 0s 11ms/step - loss: 1.0185 - accuracy: 0.5000\n",
      "Epoch 8/100\n",
      "4/4 [==============================] - 0s 11ms/step - loss: 1.0080 - accuracy: 0.5100\n",
      "Epoch 9/100\n",
      "4/4 [==============================] - 0s 11ms/step - loss: 0.9949 - accuracy: 0.5100\n",
      "Epoch 10/100\n",
      "4/4 [==============================] - 0s 11ms/step - loss: 0.9790 - accuracy: 0.5500\n",
      "Epoch 11/100\n",
      "4/4 [==============================] - 0s 11ms/step - loss: 0.9642 - accuracy: 0.5600\n",
      "Epoch 12/100\n",
      "4/4 [==============================] - 0s 11ms/step - loss: 0.9527 - accuracy: 0.5800\n",
      "Epoch 13/100\n",
      "4/4 [==============================] - 0s 11ms/step - loss: 0.9396 - accuracy: 0.6000\n",
      "Epoch 14/100\n",
      "4/4 [==============================] - 0s 11ms/step - loss: 0.9282 - accuracy: 0.6200\n",
      "Epoch 15/100\n",
      "4/4 [==============================] - 0s 11ms/step - loss: 0.9167 - accuracy: 0.6200\n",
      "Epoch 16/100\n",
      "4/4 [==============================] - 0s 11ms/step - loss: 0.9064 - accuracy: 0.6300\n",
      "Epoch 17/100\n",
      "4/4 [==============================] - 0s 11ms/step - loss: 0.8928 - accuracy: 0.6400\n",
      "Epoch 18/100\n",
      "4/4 [==============================] - 0s 11ms/step - loss: 0.8814 - accuracy: 0.6400\n",
      "Epoch 19/100\n",
      "4/4 [==============================] - 0s 11ms/step - loss: 0.8683 - accuracy: 0.6400\n",
      "Epoch 20/100\n",
      "4/4 [==============================] - 0s 11ms/step - loss: 0.8586 - accuracy: 0.6600\n",
      "Epoch 21/100\n",
      "4/4 [==============================] - 0s 11ms/step - loss: 0.8488 - accuracy: 0.6700\n",
      "Epoch 22/100\n",
      "4/4 [==============================] - 0s 11ms/step - loss: 0.8399 - accuracy: 0.6700\n",
      "Epoch 23/100\n",
      "4/4 [==============================] - 0s 11ms/step - loss: 0.8322 - accuracy: 0.6700\n",
      "Epoch 24/100\n",
      "4/4 [==============================] - 0s 12ms/step - loss: 0.8217 - accuracy: 0.6700\n",
      "Epoch 25/100\n",
      "4/4 [==============================] - 0s 12ms/step - loss: 0.8126 - accuracy: 0.6700\n",
      "Epoch 26/100\n",
      "4/4 [==============================] - 0s 11ms/step - loss: 0.8043 - accuracy: 0.6700\n",
      "Epoch 27/100\n",
      "4/4 [==============================] - 0s 11ms/step - loss: 0.7941 - accuracy: 0.6800\n",
      "Epoch 28/100\n",
      "4/4 [==============================] - 0s 11ms/step - loss: 0.7855 - accuracy: 0.6800\n",
      "Epoch 29/100\n",
      "4/4 [==============================] - 0s 11ms/step - loss: 0.7772 - accuracy: 0.6900\n",
      "Epoch 30/100\n",
      "4/4 [==============================] - 0s 11ms/step - loss: 0.7693 - accuracy: 0.6900\n",
      "Epoch 31/100\n",
      "4/4 [==============================] - 0s 11ms/step - loss: 0.7599 - accuracy: 0.6900\n",
      "Epoch 32/100\n",
      "4/4 [==============================] - 0s 11ms/step - loss: 0.7521 - accuracy: 0.6900\n",
      "Epoch 33/100\n",
      "4/4 [==============================] - 0s 11ms/step - loss: 0.7463 - accuracy: 0.7000\n",
      "Epoch 34/100\n",
      "4/4 [==============================] - 0s 11ms/step - loss: 0.7389 - accuracy: 0.7000\n",
      "Epoch 35/100\n",
      "4/4 [==============================] - 0s 11ms/step - loss: 0.7320 - accuracy: 0.7000\n",
      "Epoch 36/100\n",
      "4/4 [==============================] - 0s 11ms/step - loss: 0.7250 - accuracy: 0.7000\n",
      "Epoch 37/100\n",
      "4/4 [==============================] - 0s 11ms/step - loss: 0.7169 - accuracy: 0.7000\n",
      "Epoch 38/100\n",
      "4/4 [==============================] - 0s 11ms/step - loss: 0.7093 - accuracy: 0.7000\n",
      "Epoch 39/100\n",
      "4/4 [==============================] - 0s 11ms/step - loss: 0.7030 - accuracy: 0.7000\n",
      "Epoch 40/100\n",
      "4/4 [==============================] - 0s 14ms/step - loss: 0.6958 - accuracy: 0.7000\n",
      "Epoch 41/100\n",
      "4/4 [==============================] - 0s 11ms/step - loss: 0.6894 - accuracy: 0.7000\n",
      "Epoch 42/100\n",
      "4/4 [==============================] - 0s 11ms/step - loss: 0.6809 - accuracy: 0.7000\n",
      "Epoch 43/100\n",
      "4/4 [==============================] - 0s 11ms/step - loss: 0.6747 - accuracy: 0.7100\n",
      "Epoch 44/100\n",
      "4/4 [==============================] - 0s 11ms/step - loss: 0.6678 - accuracy: 0.7100\n",
      "Epoch 45/100\n",
      "4/4 [==============================] - 0s 11ms/step - loss: 0.6620 - accuracy: 0.7100\n",
      "Epoch 46/100\n",
      "4/4 [==============================] - 0s 12ms/step - loss: 0.6557 - accuracy: 0.7100\n",
      "Epoch 47/100\n",
      "4/4 [==============================] - 0s 11ms/step - loss: 0.6497 - accuracy: 0.7200\n",
      "Epoch 48/100\n",
      "4/4 [==============================] - 0s 11ms/step - loss: 0.6450 - accuracy: 0.7200\n",
      "Epoch 49/100\n",
      "4/4 [==============================] - 0s 13ms/step - loss: 0.6397 - accuracy: 0.7200\n",
      "Epoch 50/100\n",
      "4/4 [==============================] - 0s 11ms/step - loss: 0.6339 - accuracy: 0.7200\n",
      "Epoch 51/100\n",
      "4/4 [==============================] - 0s 11ms/step - loss: 0.6287 - accuracy: 0.7200\n",
      "Epoch 52/100\n",
      "4/4 [==============================] - 0s 11ms/step - loss: 0.6240 - accuracy: 0.7200\n",
      "Epoch 53/100\n",
      "4/4 [==============================] - 0s 12ms/step - loss: 0.6183 - accuracy: 0.7200\n",
      "Epoch 54/100\n",
      "4/4 [==============================] - 0s 11ms/step - loss: 0.6123 - accuracy: 0.7300\n",
      "Epoch 55/100\n",
      "4/4 [==============================] - 0s 11ms/step - loss: 0.6066 - accuracy: 0.7300\n",
      "Epoch 56/100\n",
      "4/4 [==============================] - 0s 10ms/step - loss: 0.6020 - accuracy: 0.7400\n",
      "Epoch 57/100\n",
      "4/4 [==============================] - 0s 11ms/step - loss: 0.5974 - accuracy: 0.7400\n",
      "Epoch 58/100\n",
      "4/4 [==============================] - 0s 12ms/step - loss: 0.5925 - accuracy: 0.7400\n",
      "Epoch 59/100\n",
      "4/4 [==============================] - 0s 13ms/step - loss: 0.5886 - accuracy: 0.7400\n",
      "Epoch 60/100\n",
      "4/4 [==============================] - 0s 11ms/step - loss: 0.5834 - accuracy: 0.7400\n",
      "Epoch 61/100\n",
      "4/4 [==============================] - 0s 11ms/step - loss: 0.5788 - accuracy: 0.7400\n",
      "Epoch 62/100\n",
      "4/4 [==============================] - 0s 12ms/step - loss: 0.5736 - accuracy: 0.7400\n",
      "Epoch 63/100\n",
      "4/4 [==============================] - 0s 12ms/step - loss: 0.5691 - accuracy: 0.7400\n",
      "Epoch 64/100\n",
      "4/4 [==============================] - 0s 12ms/step - loss: 0.5649 - accuracy: 0.7400\n",
      "Epoch 65/100\n",
      "4/4 [==============================] - 0s 13ms/step - loss: 0.5607 - accuracy: 0.7400\n",
      "Epoch 66/100\n",
      "4/4 [==============================] - 0s 13ms/step - loss: 0.5558 - accuracy: 0.7500\n",
      "Epoch 67/100\n",
      "4/4 [==============================] - 0s 14ms/step - loss: 0.5504 - accuracy: 0.7600\n",
      "Epoch 68/100\n",
      "4/4 [==============================] - 0s 14ms/step - loss: 0.5459 - accuracy: 0.7600\n",
      "Epoch 69/100\n",
      "4/4 [==============================] - 0s 12ms/step - loss: 0.5407 - accuracy: 0.7700\n",
      "Epoch 70/100\n",
      "4/4 [==============================] - 0s 12ms/step - loss: 0.5361 - accuracy: 0.7700\n",
      "Epoch 71/100\n",
      "4/4 [==============================] - 0s 13ms/step - loss: 0.5313 - accuracy: 0.7700\n",
      "Epoch 72/100\n",
      "4/4 [==============================] - 0s 12ms/step - loss: 0.5270 - accuracy: 0.7700\n",
      "Epoch 73/100\n",
      "4/4 [==============================] - 0s 12ms/step - loss: 0.5218 - accuracy: 0.7800\n",
      "Epoch 74/100\n",
      "4/4 [==============================] - 0s 12ms/step - loss: 0.5178 - accuracy: 0.7800\n",
      "Epoch 75/100\n",
      "4/4 [==============================] - 0s 12ms/step - loss: 0.5128 - accuracy: 0.7800\n",
      "Epoch 76/100\n",
      "4/4 [==============================] - 0s 12ms/step - loss: 0.5093 - accuracy: 0.7800\n",
      "Epoch 77/100\n",
      "4/4 [==============================] - 0s 12ms/step - loss: 0.5061 - accuracy: 0.7800\n",
      "Epoch 78/100\n",
      "4/4 [==============================] - 0s 12ms/step - loss: 0.5021 - accuracy: 0.7900\n",
      "Epoch 79/100\n",
      "4/4 [==============================] - 0s 12ms/step - loss: 0.4995 - accuracy: 0.7900\n",
      "Epoch 80/100\n",
      "4/4 [==============================] - 0s 12ms/step - loss: 0.4965 - accuracy: 0.7900\n",
      "Epoch 81/100\n",
      "4/4 [==============================] - 0s 12ms/step - loss: 0.4933 - accuracy: 0.7900\n",
      "Epoch 82/100\n",
      "4/4 [==============================] - 0s 12ms/step - loss: 0.4901 - accuracy: 0.7900\n",
      "Epoch 83/100\n"
     ]
    },
    {
     "name": "stdout",
     "output_type": "stream",
     "text": [
      "4/4 [==============================] - 0s 12ms/step - loss: 0.4871 - accuracy: 0.7900\n",
      "Epoch 84/100\n",
      "4/4 [==============================] - 0s 12ms/step - loss: 0.4837 - accuracy: 0.7900\n",
      "Epoch 85/100\n",
      "4/4 [==============================] - 0s 12ms/step - loss: 0.4797 - accuracy: 0.7900\n",
      "Epoch 86/100\n",
      "4/4 [==============================] - 0s 12ms/step - loss: 0.4763 - accuracy: 0.8000\n",
      "Epoch 87/100\n",
      "4/4 [==============================] - 0s 11ms/step - loss: 0.4738 - accuracy: 0.8000\n",
      "Epoch 88/100\n",
      "4/4 [==============================] - 0s 11ms/step - loss: 0.4703 - accuracy: 0.8000\n",
      "Epoch 89/100\n",
      "4/4 [==============================] - 0s 11ms/step - loss: 0.4678 - accuracy: 0.8000\n",
      "Epoch 90/100\n",
      "4/4 [==============================] - 0s 11ms/step - loss: 0.4649 - accuracy: 0.8000\n",
      "Epoch 91/100\n",
      "4/4 [==============================] - 0s 11ms/step - loss: 0.4616 - accuracy: 0.8000\n",
      "Epoch 92/100\n",
      "4/4 [==============================] - 0s 13ms/step - loss: 0.4593 - accuracy: 0.8000\n",
      "Epoch 93/100\n",
      "4/4 [==============================] - 0s 14ms/step - loss: 0.4561 - accuracy: 0.8000\n",
      "Epoch 94/100\n",
      "4/4 [==============================] - 0s 16ms/step - loss: 0.4542 - accuracy: 0.8000\n",
      "Epoch 95/100\n",
      "4/4 [==============================] - 0s 16ms/step - loss: 0.4509 - accuracy: 0.8000\n",
      "Epoch 96/100\n",
      "4/4 [==============================] - 0s 19ms/step - loss: 0.4481 - accuracy: 0.8000\n",
      "Epoch 97/100\n",
      "4/4 [==============================] - 0s 19ms/step - loss: 0.4442 - accuracy: 0.8000\n",
      "Epoch 98/100\n",
      "4/4 [==============================] - 0s 16ms/step - loss: 0.4419 - accuracy: 0.8000\n",
      "Epoch 99/100\n",
      "4/4 [==============================] - 0s 13ms/step - loss: 0.4392 - accuracy: 0.8000\n",
      "Epoch 100/100\n",
      "4/4 [==============================] - 0s 14ms/step - loss: 0.4359 - accuracy: 0.8000\n"
     ]
    },
    {
     "data": {
      "text/plain": [
       "<keras.src.callbacks.History at 0x29b0ba690>"
      ]
     },
     "execution_count": 90,
     "metadata": {},
     "output_type": "execute_result"
    }
   ],
   "source": [
    "model.fit(train_data,train_label,epochs=100)\n",
    "# 에포트를 늘리니 확실히 더 손실이 더 줄음"
   ]
  }
 ],
 "metadata": {
  "colab": {
   "provenance": []
  },
  "kernelspec": {
   "display_name": "Python 3 (ipykernel)",
   "language": "python",
   "name": "python3"
  },
  "language_info": {
   "codemirror_mode": {
    "name": "ipython",
    "version": 3
   },
   "file_extension": ".py",
   "mimetype": "text/x-python",
   "name": "python",
   "nbconvert_exporter": "python",
   "pygments_lexer": "ipython3",
   "version": "3.11.4"
  }
 },
 "nbformat": 4,
 "nbformat_minor": 1
}
