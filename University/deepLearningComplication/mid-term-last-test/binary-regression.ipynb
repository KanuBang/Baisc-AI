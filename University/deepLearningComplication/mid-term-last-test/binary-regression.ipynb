{
 "cells": [
  {
   "cell_type": "code",
   "execution_count": 50,
   "id": "17506cae",
   "metadata": {},
   "outputs": [],
   "source": [
    "from sklearn import datasets\n",
    "from sklearn.model_selection import train_test_split\n",
    "\n",
    "bcancer = datasets.load_breast_cancer()\n",
    "\n",
    "data = bcancer.data\n",
    "target = bcancer.target\n",
    "\n",
    "train_input, test_input, train_target, test_target = train_test_split(data,target,random_state=42)"
   ]
  },
  {
   "cell_type": "code",
   "execution_count": 51,
   "id": "c0205f81",
   "metadata": {},
   "outputs": [
    {
     "data": {
      "text/plain": [
       "(426, 30)"
      ]
     },
     "execution_count": 51,
     "metadata": {},
     "output_type": "execute_result"
    }
   ],
   "source": [
    "train_input.shape"
   ]
  },
  {
   "cell_type": "code",
   "execution_count": 52,
   "id": "89b50fc1",
   "metadata": {},
   "outputs": [
    {
     "data": {
      "text/plain": [
       "(426,)"
      ]
     },
     "execution_count": 52,
     "metadata": {},
     "output_type": "execute_result"
    }
   ],
   "source": [
    "train_target.shape"
   ]
  },
  {
   "cell_type": "code",
   "execution_count": 53,
   "id": "9a270482",
   "metadata": {},
   "outputs": [],
   "source": [
    "# 이진 분류\n",
    "\n",
    "from sklearn.preprocessing import StandardScaler\n",
    "\n",
    "sc = StandardScaler()\n",
    "sc.fit(train_input)\n",
    "train_input = sc.transform(train_input)"
   ]
  },
  {
   "cell_type": "code",
   "execution_count": 54,
   "id": "e5fde229",
   "metadata": {},
   "outputs": [
    {
     "name": "stdout",
     "output_type": "stream",
     "text": [
      "Model: \"sequential_5\"\n",
      "_________________________________________________________________\n",
      " Layer (type)                Output Shape              Param #   \n",
      "=================================================================\n",
      " dense_10 (Dense)            (None, 16)                496       \n",
      "                                                                 \n",
      " dense_11 (Dense)            (None, 1)                 17        \n",
      "                                                                 \n",
      "=================================================================\n",
      "Total params: 513 (2.00 KB)\n",
      "Trainable params: 513 (2.00 KB)\n",
      "Non-trainable params: 0 (0.00 Byte)\n",
      "_________________________________________________________________\n"
     ]
    }
   ],
   "source": [
    "from tensorflow import keras\n",
    "from tensorflow.keras import layers\n",
    "\n",
    "model = keras.Sequential()\n",
    "model.add(layers.Dense(16, activation='relu', input_shape=(30,)))\n",
    "model.add(layers.Dense(1, activation='sigmoid'))\n",
    "\n",
    "model.summary()"
   ]
  },
  {
   "cell_type": "code",
   "execution_count": 55,
   "id": "a1779d2e",
   "metadata": {},
   "outputs": [],
   "source": [
    "model.compile(optimizer='rmsprop', loss='binary_crossentropy', metrics=['accuracy'])"
   ]
  },
  {
   "cell_type": "code",
   "execution_count": 56,
   "id": "202599cd",
   "metadata": {},
   "outputs": [
    {
     "name": "stdout",
     "output_type": "stream",
     "text": [
      "Epoch 1/10\n",
      "5/5 [==============================] - 1s 26ms/step - loss: 0.5210 - accuracy: 0.7535\n",
      "Epoch 2/10\n",
      "5/5 [==============================] - 0s 9ms/step - loss: 0.4035 - accuracy: 0.8568\n",
      "Epoch 3/10\n",
      "5/5 [==============================] - 0s 8ms/step - loss: 0.3502 - accuracy: 0.8967\n",
      "Epoch 4/10\n",
      "5/5 [==============================] - 0s 8ms/step - loss: 0.3118 - accuracy: 0.9108\n",
      "Epoch 5/10\n",
      "5/5 [==============================] - 0s 7ms/step - loss: 0.2834 - accuracy: 0.9225\n",
      "Epoch 6/10\n",
      "5/5 [==============================] - 0s 8ms/step - loss: 0.2599 - accuracy: 0.9296\n",
      "Epoch 7/10\n",
      "5/5 [==============================] - 0s 8ms/step - loss: 0.2406 - accuracy: 0.9319\n",
      "Epoch 8/10\n",
      "5/5 [==============================] - 0s 7ms/step - loss: 0.2240 - accuracy: 0.9366\n",
      "Epoch 9/10\n",
      "5/5 [==============================] - 0s 7ms/step - loss: 0.2098 - accuracy: 0.9413\n",
      "Epoch 10/10\n",
      "5/5 [==============================] - 0s 7ms/step - loss: 0.1967 - accuracy: 0.9413\n"
     ]
    },
    {
     "data": {
      "text/plain": [
       "<keras.src.callbacks.History at 0x29be6d010>"
      ]
     },
     "execution_count": 56,
     "metadata": {},
     "output_type": "execute_result"
    }
   ],
   "source": [
    "model.fit(train_input,train_target, epochs=10, batch_size=100)"
   ]
  },
  {
   "cell_type": "code",
   "execution_count": 57,
   "id": "652a4011",
   "metadata": {},
   "outputs": [],
   "source": [
    "sc.fit(test_input)\n",
    "test_input = sc.transform(test_input)"
   ]
  },
  {
   "cell_type": "code",
   "execution_count": 58,
   "id": "19d7f86e",
   "metadata": {},
   "outputs": [
    {
     "name": "stdout",
     "output_type": "stream",
     "text": [
      "5/5 [==============================] - 0s 14ms/step - loss: 0.1522 - accuracy: 0.9580\n"
     ]
    },
    {
     "data": {
      "text/plain": [
       "[0.15219028294086456, 0.9580419659614563]"
      ]
     },
     "execution_count": 58,
     "metadata": {},
     "output_type": "execute_result"
    }
   ],
   "source": [
    "model.evaluate(test_input,test_target)"
   ]
  },
  {
   "cell_type": "code",
   "execution_count": 59,
   "id": "bbce0df9",
   "metadata": {},
   "outputs": [],
   "source": [
    "from sklearn import datasets\n",
    "\n",
    "diabetes = datasets.load_diabetes()\n",
    "\n",
    "data = diabetes.data\n",
    "target = diabetes.target"
   ]
  },
  {
   "cell_type": "code",
   "execution_count": 60,
   "id": "4193556f",
   "metadata": {},
   "outputs": [],
   "source": [
    "from sklearn.model_selection import train_test_split\n",
    "\n",
    "train_input, test_input, train_target, test_target = train_test_split(data,target,random_state=42)"
   ]
  },
  {
   "cell_type": "code",
   "execution_count": 61,
   "id": "83a6ef9a",
   "metadata": {},
   "outputs": [
    {
     "data": {
      "text/plain": [
       "(331, 10)"
      ]
     },
     "execution_count": 61,
     "metadata": {},
     "output_type": "execute_result"
    }
   ],
   "source": [
    "train_input.shape"
   ]
  },
  {
   "cell_type": "code",
   "execution_count": 62,
   "id": "887bc7de",
   "metadata": {},
   "outputs": [
    {
     "data": {
      "text/plain": [
       "(331,)"
      ]
     },
     "execution_count": 62,
     "metadata": {},
     "output_type": "execute_result"
    }
   ],
   "source": [
    "train_target.shape"
   ]
  },
  {
   "cell_type": "code",
   "execution_count": 63,
   "id": "9331337c",
   "metadata": {},
   "outputs": [],
   "source": [
    "# 회귀\n",
    "# 전처리\n",
    "\n",
    "from sklearn.preprocessing import StandardScaler\n",
    "\n",
    "sc= StandardScaler()\n",
    "sc.fit(train_input)\n",
    "train_input = sc.transform(train_input)"
   ]
  },
  {
   "cell_type": "code",
   "execution_count": 64,
   "id": "c0ed2578",
   "metadata": {},
   "outputs": [],
   "source": [
    "train_target = train_target.reshape((-1,1))\n",
    "sc1 = StandardScaler()\n",
    "sc1.fit(train_target)\n",
    "train_target = sc1.transform(train_target)"
   ]
  },
  {
   "cell_type": "code",
   "execution_count": 65,
   "id": "18e7f938",
   "metadata": {},
   "outputs": [
    {
     "name": "stdout",
     "output_type": "stream",
     "text": [
      "Model: \"sequential_6\"\n",
      "_________________________________________________________________\n",
      " Layer (type)                Output Shape              Param #   \n",
      "=================================================================\n",
      " dense_12 (Dense)            (None, 6)                 66        \n",
      "                                                                 \n",
      " dense_13 (Dense)            (None, 1)                 7         \n",
      "                                                                 \n",
      "=================================================================\n",
      "Total params: 73 (292.00 Byte)\n",
      "Trainable params: 73 (292.00 Byte)\n",
      "Non-trainable params: 0 (0.00 Byte)\n",
      "_________________________________________________________________\n"
     ]
    }
   ],
   "source": [
    "from tensorflow import keras\n",
    "from tensorflow.keras import layers\n",
    "model = keras.Sequential()\n",
    "model.add(layers.Dense(6, activation='relu', input_shape=(10,)))\n",
    "model.add(layers.Dense(1, activation='linear'))\n",
    "model.summary()"
   ]
  },
  {
   "cell_type": "code",
   "execution_count": 66,
   "id": "9f3b8171",
   "metadata": {},
   "outputs": [],
   "source": [
    "model.compile(optimizer='rmsprop', loss='mse', metrics='mae')"
   ]
  },
  {
   "cell_type": "code",
   "execution_count": 67,
   "id": "170dc52a",
   "metadata": {},
   "outputs": [
    {
     "name": "stdout",
     "output_type": "stream",
     "text": [
      "Epoch 1/20\n",
      "11/11 [==============================] - 0s 11ms/step - loss: 3.0618 - mae: 1.4038\n",
      "Epoch 2/20\n",
      "11/11 [==============================] - 0s 6ms/step - loss: 2.6785 - mae: 1.3144\n",
      "Epoch 3/20\n",
      "11/11 [==============================] - 0s 6ms/step - loss: 2.4055 - mae: 1.2459\n",
      "Epoch 4/20\n",
      "11/11 [==============================] - 0s 6ms/step - loss: 2.1791 - mae: 1.1852\n",
      "Epoch 5/20\n",
      "11/11 [==============================] - 0s 6ms/step - loss: 1.9824 - mae: 1.1304\n",
      "Epoch 6/20\n",
      "11/11 [==============================] - 0s 6ms/step - loss: 1.8082 - mae: 1.0808\n",
      "Epoch 7/20\n",
      "11/11 [==============================] - 0s 6ms/step - loss: 1.6442 - mae: 1.0287\n",
      "Epoch 8/20\n",
      "11/11 [==============================] - 0s 6ms/step - loss: 1.5037 - mae: 0.9832\n",
      "Epoch 9/20\n",
      "11/11 [==============================] - 0s 6ms/step - loss: 1.3804 - mae: 0.9454\n",
      "Epoch 10/20\n",
      "11/11 [==============================] - 0s 6ms/step - loss: 1.2643 - mae: 0.9054\n",
      "Epoch 11/20\n",
      "11/11 [==============================] - 0s 6ms/step - loss: 1.1669 - mae: 0.8704\n",
      "Epoch 12/20\n",
      "11/11 [==============================] - 0s 6ms/step - loss: 1.0784 - mae: 0.8372\n",
      "Epoch 13/20\n",
      "11/11 [==============================] - 0s 6ms/step - loss: 1.0032 - mae: 0.8068\n",
      "Epoch 14/20\n",
      "11/11 [==============================] - 0s 9ms/step - loss: 0.9367 - mae: 0.7797\n",
      "Epoch 15/20\n",
      "11/11 [==============================] - 0s 7ms/step - loss: 0.8823 - mae: 0.7576\n",
      "Epoch 16/20\n",
      "11/11 [==============================] - 0s 6ms/step - loss: 0.8340 - mae: 0.7382\n",
      "Epoch 17/20\n",
      "11/11 [==============================] - 0s 6ms/step - loss: 0.7910 - mae: 0.7204\n",
      "Epoch 18/20\n",
      "11/11 [==============================] - 0s 6ms/step - loss: 0.7530 - mae: 0.7045\n",
      "Epoch 19/20\n",
      "11/11 [==============================] - 0s 6ms/step - loss: 0.7180 - mae: 0.6882\n",
      "Epoch 20/20\n",
      "11/11 [==============================] - 0s 6ms/step - loss: 0.6881 - mae: 0.6738\n"
     ]
    },
    {
     "data": {
      "text/plain": [
       "<keras.src.callbacks.History at 0x29c68e390>"
      ]
     },
     "execution_count": 67,
     "metadata": {},
     "output_type": "execute_result"
    }
   ],
   "source": [
    "model.fit(train_input, train_target, epochs=20)"
   ]
  },
  {
   "cell_type": "code",
   "execution_count": 68,
   "id": "30ec3f86",
   "metadata": {},
   "outputs": [],
   "source": [
    "from sklearn import datasets\n",
    "digits = datasets.load_digits()\n",
    "\n",
    "data = digits.data\n",
    "target = digits.target"
   ]
  },
  {
   "cell_type": "code",
   "execution_count": 69,
   "id": "6c662a0e",
   "metadata": {},
   "outputs": [],
   "source": [
    "from sklearn.model_selection import train_test_split\n",
    "\n",
    "train_input, test_input, train_target, test_target = train_test_split(data,target,random_state=42)"
   ]
  },
  {
   "cell_type": "code",
   "execution_count": 70,
   "id": "045ce2df",
   "metadata": {},
   "outputs": [
    {
     "data": {
      "text/plain": [
       "(1347, 64)"
      ]
     },
     "execution_count": 70,
     "metadata": {},
     "output_type": "execute_result"
    }
   ],
   "source": [
    "train_input.shape"
   ]
  },
  {
   "cell_type": "code",
   "execution_count": 71,
   "id": "dd915974",
   "metadata": {},
   "outputs": [
    {
     "data": {
      "text/plain": [
       "(1347,)"
      ]
     },
     "execution_count": 71,
     "metadata": {},
     "output_type": "execute_result"
    }
   ],
   "source": [
    "train_target.shape"
   ]
  },
  {
   "cell_type": "code",
   "execution_count": null,
   "id": "5b0a7f79",
   "metadata": {},
   "outputs": [],
   "source": []
  },
  {
   "cell_type": "code",
   "execution_count": 72,
   "id": "49f952ed",
   "metadata": {},
   "outputs": [],
   "source": [
    "# 문제 : 다항분류"
   ]
  },
  {
   "cell_type": "code",
   "execution_count": 73,
   "id": "42c77097",
   "metadata": {},
   "outputs": [],
   "source": [
    "from tensorflow.keras.utils import to_categorical\n",
    "from sklearn.preprocessing import StandardScaler\n",
    "\n",
    "train_target = to_categorical(train_target)\n",
    "\n",
    "sc = StandardScaler()\n",
    "sc.fit(train_input)\n",
    "train_input = sc.transform(train_input)"
   ]
  },
  {
   "cell_type": "code",
   "execution_count": 74,
   "id": "71c1e360",
   "metadata": {},
   "outputs": [],
   "source": [
    "from tensorflow import keras\n",
    "from tensorflow.keras import layers\n",
    "\n",
    "model = keras.Sequential()\n",
    "model.add(layers.Dense(16, activation='relu', input_shape=(64,)))\n",
    "model.add(layers.Dense(10, activation='softmax'))\n",
    "model.compile(optimizer='rmsprop', loss='categorical_crossentropy', metrics=['accuracy'])"
   ]
  },
  {
   "cell_type": "code",
   "execution_count": 75,
   "id": "cc4afd21",
   "metadata": {},
   "outputs": [
    {
     "name": "stdout",
     "output_type": "stream",
     "text": [
      "[[ 0.         -0.34658389 -0.67111503 ... -1.15783495 -0.50770266\n",
      "  -0.19895848]\n",
      " [ 0.          5.19793507  2.23828434 ... -0.13881915 -0.26774635\n",
      "  -0.19895848]\n",
      " [ 0.         -0.34658389 -0.25548655 ... -0.81816302 -0.50770266\n",
      "  -0.19895848]\n",
      " ...\n",
      " [ 0.         -0.34658389  0.78358465 ...  1.55954051 -0.02779004\n",
      "  -0.19895848]\n",
      " [ 0.         -0.34658389 -0.87892927 ... -1.15783495 -0.50770266\n",
      "  -0.19895848]\n",
      " [ 0.         -0.34658389 -0.87892927 ... -0.98799898 -0.50770266\n",
      "  -0.19895848]]\n"
     ]
    }
   ],
   "source": [
    "print(train_input)"
   ]
  },
  {
   "cell_type": "code",
   "execution_count": 76,
   "id": "820b950f",
   "metadata": {},
   "outputs": [
    {
     "name": "stdout",
     "output_type": "stream",
     "text": [
      "[[0. 0. 0. ... 0. 0. 0.]\n",
      " [0. 0. 1. ... 0. 0. 0.]\n",
      " [1. 0. 0. ... 0. 0. 0.]\n",
      " ...\n",
      " [0. 0. 1. ... 0. 0. 0.]\n",
      " [0. 0. 0. ... 1. 0. 0.]\n",
      " [0. 1. 0. ... 0. 0. 0.]]\n"
     ]
    }
   ],
   "source": [
    "print(train_target)"
   ]
  },
  {
   "cell_type": "code",
   "execution_count": 77,
   "id": "04c9bf5a",
   "metadata": {},
   "outputs": [
    {
     "name": "stdout",
     "output_type": "stream",
     "text": [
      "Epoch 1/10\n",
      "43/43 [==============================] - 1s 24ms/step - loss: 2.1039 - accuracy: 0.3073\n",
      "Epoch 2/10\n",
      "43/43 [==============================] - 0s 11ms/step - loss: 1.5205 - accuracy: 0.5731\n",
      "Epoch 3/10\n",
      "43/43 [==============================] - 0s 10ms/step - loss: 1.1782 - accuracy: 0.6682\n",
      "Epoch 4/10\n",
      "43/43 [==============================] - 0s 9ms/step - loss: 0.9397 - accuracy: 0.7335\n",
      "Epoch 5/10\n",
      "43/43 [==============================] - 0s 10ms/step - loss: 0.7605 - accuracy: 0.7988\n",
      "Epoch 6/10\n",
      "43/43 [==============================] - 0s 10ms/step - loss: 0.6196 - accuracy: 0.8478\n",
      "Epoch 7/10\n",
      "43/43 [==============================] - 0s 10ms/step - loss: 0.5090 - accuracy: 0.8753\n",
      "Epoch 8/10\n",
      "43/43 [==============================] - 1s 13ms/step - loss: 0.4245 - accuracy: 0.9013\n",
      "Epoch 9/10\n",
      "43/43 [==============================] - 0s 10ms/step - loss: 0.3626 - accuracy: 0.9191\n",
      "Epoch 10/10\n",
      "43/43 [==============================] - 0s 10ms/step - loss: 0.3161 - accuracy: 0.9272\n"
     ]
    },
    {
     "data": {
      "text/plain": [
       "<keras.src.callbacks.History at 0x29c6a8f10>"
      ]
     },
     "execution_count": 77,
     "metadata": {},
     "output_type": "execute_result"
    }
   ],
   "source": [
    "model.fit(train_input,train_target, epochs=10)"
   ]
  }
 ],
 "metadata": {
  "kernelspec": {
   "display_name": "Python 3 (ipykernel)",
   "language": "python",
   "name": "python3"
  },
  "language_info": {
   "codemirror_mode": {
    "name": "ipython",
    "version": 3
   },
   "file_extension": ".py",
   "mimetype": "text/x-python",
   "name": "python",
   "nbconvert_exporter": "python",
   "pygments_lexer": "ipython3",
   "version": "3.11.4"
  }
 },
 "nbformat": 4,
 "nbformat_minor": 5
}
