{
 "cells": [
  {
   "cell_type": "code",
   "execution_count": 13,
   "id": "75d88c8e",
   "metadata": {},
   "outputs": [
    {
     "name": "stdout",
     "output_type": "stream",
     "text": [
      "수소이온 결정하기 - 메인과제(1-1)\n",
      "입력 범위는 0 ~ 14까지 입니다.\n",
      "ph : \n",
      "4\n",
      "강산성 : 염산, 질산, 황산이 이에 해당\n"
     ]
    }
   ],
   "source": [
    "# 1번\n",
    "print(\"수소이온 결정하기 - 메인과제(1-1)\")\n",
    "print(\"입력 범위는 0 ~ 14까지 입니다.\")\n",
    "print(\"ph : \")\n",
    "ph = int(input())\n",
    "\n",
    "if 0<= ph and ph <= 4:\n",
    "    print(\"강산성 : 염산, 질산, 황산이 이에 해당\")\n",
    "elif ph <= 6:\n",
    "    print(\"약산성 : 우유, 난황, 순수 비가 이에 해당\")\n",
    "elif ph <= 7:\n",
    "    print(\"중성 : 증류수가 이에 해당\")\n",
    "elif ph <= 9:\n",
    "    print(\"약염기성 : 침 또는 베이킹 소다가 이에 해당\")\n",
    "elif ph <= 14:\n",
    "    print(\"강염기성 : 가정용 표백제 또는 잿물, 가성소다가 이에 해당\")"
   ]
  },
  {
   "cell_type": "code",
   "execution_count": 14,
   "id": "c3c09b9b",
   "metadata": {},
   "outputs": [],
   "source": [
    "# 2번"
   ]
  },
  {
   "cell_type": "code",
   "execution_count": 16,
   "id": "f11bd030",
   "metadata": {},
   "outputs": [
    {
     "name": "stdout",
     "output_type": "stream",
     "text": [
      "실수1: 77.7\n",
      "실수2: 88.8\n",
      "실수3: 99.9\n",
      "실수1: 77.7 실수2: 88.8 실수3: 99.9\n",
      "각 실수의 합 266.400000, 각 실수의 평균 88.800000\n"
     ]
    }
   ],
   "source": [
    "# 3번\n",
    "x = float(input(\"실수1: \"))\n",
    "y = float(input(\"실수2: \"))\n",
    "z = float(input(\"실수3: \"))\n",
    "sum = x+y+z\n",
    "avg = sum / 3\n",
    "print(f'실수1: {a} 실수2: {b} 실수3: {c}')\n",
    "print(\"각 실수의 합 %3f, 각 실수의 평균 %3f\" %(sum,avg))"
   ]
  },
  {
   "cell_type": "code",
   "execution_count": null,
   "id": "df2e7145",
   "metadata": {},
   "outputs": [],
   "source": []
  }
 ],
 "metadata": {
  "kernelspec": {
   "display_name": "Python 3 (ipykernel)",
   "language": "python",
   "name": "python3"
  },
  "language_info": {
   "codemirror_mode": {
    "name": "ipython",
    "version": 3
   },
   "file_extension": ".py",
   "mimetype": "text/x-python",
   "name": "python",
   "nbconvert_exporter": "python",
   "pygments_lexer": "ipython3",
   "version": "3.11.4"
  }
 },
 "nbformat": 4,
 "nbformat_minor": 5
}
