{
 "cells": [
  {
   "cell_type": "code",
   "execution_count": 1,
   "id": "efc32c66",
   "metadata": {},
   "outputs": [],
   "source": [
    "from sklearn import datasets\n",
    "\n",
    "dia = datasets.load_diabetes()"
   ]
  },
  {
   "cell_type": "code",
   "execution_count": 2,
   "id": "f07f3e2d",
   "metadata": {},
   "outputs": [],
   "source": [
    "data = dia.data\n",
    "target = dia.target"
   ]
  },
  {
   "cell_type": "code",
   "execution_count": 3,
   "id": "dca9d371",
   "metadata": {},
   "outputs": [],
   "source": [
    "from sklearn.model_selection import train_test_split\n",
    "\n",
    "train_input, test_input, train_target, test_target = train_test_split(data,target,random_state=42) "
   ]
  },
  {
   "cell_type": "code",
   "execution_count": 4,
   "id": "4abdecc6",
   "metadata": {},
   "outputs": [
    {
     "data": {
      "text/plain": [
       "(331, 10)"
      ]
     },
     "execution_count": 4,
     "metadata": {},
     "output_type": "execute_result"
    }
   ],
   "source": [
    "train_input.shape"
   ]
  },
  {
   "cell_type": "code",
   "execution_count": 5,
   "id": "a4b12993",
   "metadata": {},
   "outputs": [
    {
     "data": {
      "text/plain": [
       "(331,)"
      ]
     },
     "execution_count": 5,
     "metadata": {},
     "output_type": "execute_result"
    }
   ],
   "source": [
    "train_target.shape"
   ]
  },
  {
   "cell_type": "code",
   "execution_count": 6,
   "id": "79eb2b50",
   "metadata": {},
   "outputs": [
    {
     "name": "stdout",
     "output_type": "stream",
     "text": [
      "{25.0, 31.0, 39.0, 40.0, 42.0, 43.0, 44.0, 45.0, 47.0, 48.0, 49.0, 50.0, 51.0, 52.0, 53.0, 54.0, 55.0, 57.0, 58.0, 59.0, 60.0, 61.0, 63.0, 64.0, 65.0, 66.0, 67.0, 68.0, 69.0, 70.0, 71.0, 72.0, 73.0, 74.0, 75.0, 77.0, 78.0, 79.0, 80.0, 81.0, 83.0, 84.0, 85.0, 86.0, 87.0, 88.0, 89.0, 90.0, 91.0, 92.0, 93.0, 94.0, 95.0, 96.0, 97.0, 99.0, 100.0, 101.0, 102.0, 103.0, 104.0, 107.0, 109.0, 110.0, 111.0, 113.0, 114.0, 115.0, 116.0, 118.0, 120.0, 121.0, 122.0, 123.0, 124.0, 126.0, 127.0, 128.0, 129.0, 131.0, 132.0, 134.0, 135.0, 137.0, 138.0, 139.0, 141.0, 142.0, 143.0, 144.0, 145.0, 146.0, 147.0, 148.0, 150.0, 151.0, 152.0, 154.0, 155.0, 158.0, 160.0, 161.0, 162.0, 163.0, 164.0, 166.0, 168.0, 170.0, 172.0, 173.0, 174.0, 175.0, 177.0, 178.0, 179.0, 180.0, 181.0, 182.0, 183.0, 185.0, 189.0, 190.0, 191.0, 192.0, 195.0, 196.0, 197.0, 198.0, 199.0, 200.0, 201.0, 202.0, 206.0, 208.0, 209.0, 210.0, 212.0, 214.0, 215.0, 216.0, 217.0, 219.0, 220.0, 221.0, 225.0, 229.0, 230.0, 232.0, 233.0, 235.0, 236.0, 237.0, 241.0, 242.0, 243.0, 244.0, 245.0, 246.0, 248.0, 249.0, 252.0, 253.0, 257.0, 258.0, 259.0, 261.0, 262.0, 263.0, 265.0, 268.0, 270.0, 272.0, 273.0, 274.0, 275.0, 276.0, 277.0, 279.0, 281.0, 283.0, 288.0, 292.0, 293.0, 296.0, 302.0, 303.0, 306.0, 308.0, 310.0, 311.0, 317.0, 321.0, 332.0, 336.0, 341.0, 346.0}\n"
     ]
    }
   ],
   "source": [
    "print(set(train_target))"
   ]
  },
  {
   "cell_type": "markdown",
   "id": "b11b074d",
   "metadata": {},
   "source": [
    "# 문제: 회귀\n",
    "# 입력: 10\n",
    "# 출력: 1"
   ]
  },
  {
   "cell_type": "code",
   "execution_count": 7,
   "id": "e7114692",
   "metadata": {},
   "outputs": [
    {
     "name": "stderr",
     "output_type": "stream",
     "text": [
      "2023-10-17 15:13:45.042949: I metal_plugin/src/device/metal_device.cc:1154] Metal device set to: Apple M2\n",
      "2023-10-17 15:13:45.043072: I metal_plugin/src/device/metal_device.cc:296] systemMemory: 8.00 GB\n",
      "2023-10-17 15:13:45.043093: I metal_plugin/src/device/metal_device.cc:313] maxCacheSize: 2.67 GB\n",
      "2023-10-17 15:13:45.043413: I tensorflow/core/common_runtime/pluggable_device/pluggable_device_factory.cc:306] Could not identify NUMA node of platform GPU ID 0, defaulting to 0. Your kernel may not have been built with NUMA support.\n",
      "2023-10-17 15:13:45.043863: I tensorflow/core/common_runtime/pluggable_device/pluggable_device_factory.cc:272] Created TensorFlow device (/job:localhost/replica:0/task:0/device:GPU:0 with 0 MB memory) -> physical PluggableDevice (device: 0, name: METAL, pci bus id: <undefined>)\n"
     ]
    },
    {
     "name": "stdout",
     "output_type": "stream",
     "text": [
      "Model: \"sequential\"\n",
      "_________________________________________________________________\n",
      " Layer (type)                Output Shape              Param #   \n",
      "=================================================================\n",
      " dense (Dense)               (None, 6)                 66        \n",
      "                                                                 \n",
      " dense_1 (Dense)             (None, 1)                 7         \n",
      "                                                                 \n",
      "=================================================================\n",
      "Total params: 73 (292.00 Byte)\n",
      "Trainable params: 73 (292.00 Byte)\n",
      "Non-trainable params: 0 (0.00 Byte)\n",
      "_________________________________________________________________\n"
     ]
    }
   ],
   "source": [
    "from tensorflow import keras\n",
    "from tensorflow.keras import layers\n",
    "\n",
    "model = keras.Sequential()\n",
    "model.add(layers.Dense(6, activation='relu', input_shape = (10,)))\n",
    "model.add(layers.Dense(1, activation='linear'))\n",
    "model.summary()"
   ]
  },
  {
   "cell_type": "code",
   "execution_count": 8,
   "id": "57c87514",
   "metadata": {},
   "outputs": [],
   "source": [
    "model.compile(optimizer='rmsprop',loss='mse',metrics='mae')"
   ]
  },
  {
   "cell_type": "code",
   "execution_count": 10,
   "id": "3342b518",
   "metadata": {},
   "outputs": [
    {
     "name": "stdout",
     "output_type": "stream",
     "text": [
      "Epoch 1/5\n"
     ]
    },
    {
     "name": "stderr",
     "output_type": "stream",
     "text": [
      "2023-10-17 15:15:09.326739: I tensorflow/core/grappler/optimizers/custom_graph_optimizer_registry.cc:117] Plugin optimizer for device_type GPU is enabled.\n"
     ]
    },
    {
     "name": "stdout",
     "output_type": "stream",
     "text": [
      "11/11 [==============================] - 1s 17ms/step - loss: 29848.2383 - mae: 154.2983\n",
      "Epoch 2/5\n",
      "11/11 [==============================] - 0s 7ms/step - loss: 29825.5918 - mae: 154.2285\n",
      "Epoch 3/5\n",
      "11/11 [==============================] - 0s 6ms/step - loss: 29805.9551 - mae: 154.1665\n",
      "Epoch 4/5\n",
      "11/11 [==============================] - 0s 6ms/step - loss: 29786.8281 - mae: 154.1064\n",
      "Epoch 5/5\n",
      "11/11 [==============================] - 0s 6ms/step - loss: 29766.8359 - mae: 154.0457\n"
     ]
    },
    {
     "data": {
      "text/plain": [
       "<keras.src.callbacks.History at 0x288722d90>"
      ]
     },
     "execution_count": 10,
     "metadata": {},
     "output_type": "execute_result"
    }
   ],
   "source": [
    "model.fit(train_input,train_target,epochs=5)"
   ]
  },
  {
   "cell_type": "code",
   "execution_count": 11,
   "id": "7a98a65b",
   "metadata": {},
   "outputs": [],
   "source": [
    "from sklearn.preprocessing import StandardScaler\n",
    "sc = StandardScaler()\n",
    "train_target = train_target.reshape((-1,1))\n",
    "sc.fit(train_target)\n",
    "train_target = sc.transform(train_target)"
   ]
  },
  {
   "cell_type": "code",
   "execution_count": 12,
   "id": "312bf29a",
   "metadata": {},
   "outputs": [],
   "source": [
    "sc = StandardScaler()\n",
    "sc.fit(train_input)\n",
    "train_input = sc.transform(train_input)"
   ]
  },
  {
   "cell_type": "code",
   "execution_count": 13,
   "id": "395da77b",
   "metadata": {},
   "outputs": [
    {
     "name": "stdout",
     "output_type": "stream",
     "text": [
      "Epoch 1/10\n",
      "11/11 [==============================] - 1s 12ms/step - loss: 3.8690 - mae: 1.4783\n",
      "Epoch 2/10\n",
      "11/11 [==============================] - 0s 8ms/step - loss: 3.6985 - mae: 1.4413\n",
      "Epoch 3/10\n",
      "11/11 [==============================] - 0s 8ms/step - loss: 3.4573 - mae: 1.3920\n",
      "Epoch 4/10\n",
      "11/11 [==============================] - 0s 8ms/step - loss: 3.1691 - mae: 1.3326\n",
      "Epoch 5/10\n",
      "11/11 [==============================] - 0s 10ms/step - loss: 2.8781 - mae: 1.2727\n",
      "Epoch 6/10\n",
      "11/11 [==============================] - 0s 10ms/step - loss: 2.6120 - mae: 1.2123\n",
      "Epoch 7/10\n",
      "11/11 [==============================] - 0s 9ms/step - loss: 2.3629 - mae: 1.1567\n",
      "Epoch 8/10\n",
      "11/11 [==============================] - 0s 11ms/step - loss: 2.1373 - mae: 1.1038\n",
      "Epoch 9/10\n",
      "11/11 [==============================] - 0s 21ms/step - loss: 1.9378 - mae: 1.0532\n",
      "Epoch 10/10\n",
      "11/11 [==============================] - 0s 14ms/step - loss: 1.7631 - mae: 1.0043\n"
     ]
    },
    {
     "data": {
      "text/plain": [
       "<keras.src.callbacks.History at 0x2850125d0>"
      ]
     },
     "execution_count": 13,
     "metadata": {},
     "output_type": "execute_result"
    }
   ],
   "source": [
    "model.fit(train_input,train_target,epochs=10)"
   ]
  }
 ],
 "metadata": {
  "kernelspec": {
   "display_name": "Python 3 (ipykernel)",
   "language": "python",
   "name": "python3"
  },
  "language_info": {
   "codemirror_mode": {
    "name": "ipython",
    "version": 3
   },
   "file_extension": ".py",
   "mimetype": "text/x-python",
   "name": "python",
   "nbconvert_exporter": "python",
   "pygments_lexer": "ipython3",
   "version": "3.11.4"
  }
 },
 "nbformat": 4,
 "nbformat_minor": 5
}
